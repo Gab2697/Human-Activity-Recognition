{
  "nbformat": 4,
  "nbformat_minor": 0,
  "metadata": {
    "colab": {
      "name": "Tsai_test.ipynb",
      "provenance": [],
      "collapsed_sections": [],
      "include_colab_link": true
    },
    "kernelspec": {
      "name": "python3",
      "display_name": "Python 3"
    },
    "language_info": {
      "name": "python"
    }
  },
  "cells": [
    {
      "cell_type": "markdown",
      "metadata": {
        "id": "view-in-github",
        "colab_type": "text"
      },
      "source": [
        "<a href=\"https://colab.research.google.com/github/Gab2697/Human-Activity-Recognition/blob/master/Tsai_test.ipynb\" target=\"_parent\"><img src=\"https://colab.research.google.com/assets/colab-badge.svg\" alt=\"Open In Colab\"/></a>"
      ]
    },
    {
      "cell_type": "markdown",
      "source": [
        "#TimeSeries AI"
      ],
      "metadata": {
        "id": "3TgjJUP2Pq09"
      }
    },
    {
      "cell_type": "markdown",
      "source": [
        "Install"
      ],
      "metadata": {
        "id": "ILDrAnr5Puq5"
      }
    },
    {
      "cell_type": "code",
      "execution_count": 1,
      "metadata": {
        "id": "PXETSsplx-c_",
        "colab": {
          "base_uri": "https://localhost:8080/"
        },
        "outputId": "bcc606f6-d383-4f3a-eb4c-ff52b8d85415"
      },
      "outputs": [
        {
          "output_type": "stream",
          "name": "stdout",
          "text": [
            "\u001b[31mERROR: pip's dependency resolver does not currently take into account all the packages that are installed. This behaviour is the source of the following dependency conflicts.\n",
            "sktime 0.9.0 requires statsmodels<=0.12.1, but you have statsmodels 0.13.1 which is incompatible.\u001b[0m\n"
          ]
        }
      ],
      "source": [
        "pip install -Uqq git+https://github.com/timeseriesAI/tsai.git"
      ]
    },
    {
      "cell_type": "code",
      "source": [
        "pip install scipy>=1.5\n"
      ],
      "metadata": {
        "id": "rNTBbP-41Lyu"
      },
      "execution_count": 2,
      "outputs": []
    },
    {
      "cell_type": "code",
      "source": [
        "!pip install tsai"
      ],
      "metadata": {
        "id": "m9CXTMUS4xhi",
        "colab": {
          "base_uri": "https://localhost:8080/"
        },
        "outputId": "3e963dfc-6b77-4c9a-867e-1a5e482cc6fc"
      },
      "execution_count": 3,
      "outputs": [
        {
          "output_type": "stream",
          "name": "stdout",
          "text": [
            "Requirement already satisfied: tsai in /usr/local/lib/python3.7/dist-packages (0.2.25)\n",
            "Requirement already satisfied: tsfresh>=0.18.0 in /usr/local/lib/python3.7/dist-packages (from tsai) (0.18.0)\n",
            "Requirement already satisfied: PyWavelets>=1.1.1 in /usr/local/lib/python3.7/dist-packages (from tsai) (1.2.0)\n",
            "Requirement already satisfied: nbformat>=5.1.3 in /usr/local/lib/python3.7/dist-packages (from tsai) (5.1.3)\n",
            "Requirement already satisfied: imbalanced-learn>=0.8.0 in /usr/local/lib/python3.7/dist-packages (from tsai) (0.8.1)\n",
            "Requirement already satisfied: packaging in /usr/local/lib/python3.7/dist-packages (from tsai) (21.3)\n",
            "Requirement already satisfied: numba>=0.53.1 in /usr/local/lib/python3.7/dist-packages (from tsai) (0.54.1)\n",
            "Requirement already satisfied: fastai>=2.5.3 in /usr/local/lib/python3.7/dist-packages (from tsai) (2.5.3)\n",
            "Requirement already satisfied: pyts>=0.12.0 in /usr/local/lib/python3.7/dist-packages (from tsai) (0.12.0)\n",
            "Requirement already satisfied: torch<1.11,>=1.7.0 in /usr/local/lib/python3.7/dist-packages (from tsai) (1.10.0+cu111)\n",
            "Requirement already satisfied: sktime>=0.9.0 in /usr/local/lib/python3.7/dist-packages (from tsai) (0.9.0)\n",
            "Requirement already satisfied: pip in /usr/local/lib/python3.7/dist-packages (from tsai) (21.1.3)\n",
            "Requirement already satisfied: requests in /usr/local/lib/python3.7/dist-packages (from fastai>=2.5.3->tsai) (2.23.0)\n",
            "Requirement already satisfied: matplotlib in /usr/local/lib/python3.7/dist-packages (from fastai>=2.5.3->tsai) (3.2.2)\n",
            "Requirement already satisfied: pillow>6.0.0 in /usr/local/lib/python3.7/dist-packages (from fastai>=2.5.3->tsai) (7.1.2)\n",
            "Requirement already satisfied: fastdownload<2,>=0.0.5 in /usr/local/lib/python3.7/dist-packages (from fastai>=2.5.3->tsai) (0.0.5)\n",
            "Requirement already satisfied: pyyaml in /usr/local/lib/python3.7/dist-packages (from fastai>=2.5.3->tsai) (3.13)\n",
            "Requirement already satisfied: spacy<4 in /usr/local/lib/python3.7/dist-packages (from fastai>=2.5.3->tsai) (2.2.4)\n",
            "Requirement already satisfied: scikit-learn in /usr/local/lib/python3.7/dist-packages (from fastai>=2.5.3->tsai) (1.0.1)\n",
            "Requirement already satisfied: fastprogress>=0.2.4 in /usr/local/lib/python3.7/dist-packages (from fastai>=2.5.3->tsai) (1.0.0)\n",
            "Requirement already satisfied: scipy in /usr/local/lib/python3.7/dist-packages (from fastai>=2.5.3->tsai) (1.7.3)\n",
            "Requirement already satisfied: torchvision>=0.8.2 in /usr/local/lib/python3.7/dist-packages (from fastai>=2.5.3->tsai) (0.11.1+cu111)\n",
            "Requirement already satisfied: pandas in /usr/local/lib/python3.7/dist-packages (from fastai>=2.5.3->tsai) (1.1.5)\n",
            "Requirement already satisfied: fastcore<1.4,>=1.3.22 in /usr/local/lib/python3.7/dist-packages (from fastai>=2.5.3->tsai) (1.3.27)\n",
            "Requirement already satisfied: numpy in /usr/local/lib/python3.7/dist-packages (from fastprogress>=0.2.4->fastai>=2.5.3->tsai) (1.19.3)\n",
            "Requirement already satisfied: joblib>=0.11 in /usr/local/lib/python3.7/dist-packages (from imbalanced-learn>=0.8.0->tsai) (1.1.0)\n",
            "Requirement already satisfied: jupyter-core in /usr/local/lib/python3.7/dist-packages (from nbformat>=5.1.3->tsai) (4.9.1)\n",
            "Requirement already satisfied: traitlets>=4.1 in /usr/local/lib/python3.7/dist-packages (from nbformat>=5.1.3->tsai) (5.1.1)\n",
            "Requirement already satisfied: ipython-genutils in /usr/local/lib/python3.7/dist-packages (from nbformat>=5.1.3->tsai) (0.2.0)\n",
            "Requirement already satisfied: jsonschema!=2.5.0,>=2.4 in /usr/local/lib/python3.7/dist-packages (from nbformat>=5.1.3->tsai) (2.6.0)\n",
            "Requirement already satisfied: llvmlite<0.38,>=0.37.0rc1 in /usr/local/lib/python3.7/dist-packages (from numba>=0.53.1->tsai) (0.37.0)\n",
            "Requirement already satisfied: setuptools in /usr/local/lib/python3.7/dist-packages (from numba>=0.53.1->tsai) (57.4.0)\n",
            "Requirement already satisfied: threadpoolctl>=2.0.0 in /usr/local/lib/python3.7/dist-packages (from scikit-learn->fastai>=2.5.3->tsai) (3.0.0)\n",
            "Collecting statsmodels<=0.12.1\n",
            "  Downloading statsmodels-0.12.1-cp37-cp37m-manylinux1_x86_64.whl (9.5 MB)\n",
            "\u001b[K     |████████████████████████████████| 9.5 MB 4.3 MB/s \n",
            "\u001b[?25hRequirement already satisfied: statsmodels>=0.12.1 in /usr/local/lib/python3.7/dist-packages (from sktime>=0.9.0->tsai) (0.13.1)\n",
            "Requirement already satisfied: deprecated>=1.2.13 in /usr/local/lib/python3.7/dist-packages (from sktime>=0.9.0->tsai) (1.2.13)\n",
            "Requirement already satisfied: wheel in /usr/local/lib/python3.7/dist-packages (from sktime>=0.9.0->tsai) (0.37.0)\n",
            "Requirement already satisfied: wrapt<2,>=1.10 in /usr/local/lib/python3.7/dist-packages (from deprecated>=1.2.13->sktime>=0.9.0->tsai) (1.13.3)\n",
            "Requirement already satisfied: python-dateutil>=2.7.3 in /usr/local/lib/python3.7/dist-packages (from pandas->fastai>=2.5.3->tsai) (2.8.2)\n",
            "Requirement already satisfied: pytz>=2017.2 in /usr/local/lib/python3.7/dist-packages (from pandas->fastai>=2.5.3->tsai) (2018.9)\n",
            "Requirement already satisfied: six>=1.5 in /usr/local/lib/python3.7/dist-packages (from python-dateutil>=2.7.3->pandas->fastai>=2.5.3->tsai) (1.15.0)\n",
            "Requirement already satisfied: cymem<2.1.0,>=2.0.2 in /usr/local/lib/python3.7/dist-packages (from spacy<4->fastai>=2.5.3->tsai) (2.0.6)\n",
            "Requirement already satisfied: thinc==7.4.0 in /usr/local/lib/python3.7/dist-packages (from spacy<4->fastai>=2.5.3->tsai) (7.4.0)\n",
            "Requirement already satisfied: plac<1.2.0,>=0.9.6 in /usr/local/lib/python3.7/dist-packages (from spacy<4->fastai>=2.5.3->tsai) (1.1.3)\n",
            "Requirement already satisfied: catalogue<1.1.0,>=0.0.7 in /usr/local/lib/python3.7/dist-packages (from spacy<4->fastai>=2.5.3->tsai) (1.0.0)\n",
            "Requirement already satisfied: wasabi<1.1.0,>=0.4.0 in /usr/local/lib/python3.7/dist-packages (from spacy<4->fastai>=2.5.3->tsai) (0.8.2)\n",
            "Requirement already satisfied: blis<0.5.0,>=0.4.0 in /usr/local/lib/python3.7/dist-packages (from spacy<4->fastai>=2.5.3->tsai) (0.4.1)\n",
            "Requirement already satisfied: preshed<3.1.0,>=3.0.2 in /usr/local/lib/python3.7/dist-packages (from spacy<4->fastai>=2.5.3->tsai) (3.0.6)\n",
            "Requirement already satisfied: srsly<1.1.0,>=1.0.2 in /usr/local/lib/python3.7/dist-packages (from spacy<4->fastai>=2.5.3->tsai) (1.0.5)\n",
            "Requirement already satisfied: murmurhash<1.1.0,>=0.28.0 in /usr/local/lib/python3.7/dist-packages (from spacy<4->fastai>=2.5.3->tsai) (1.0.6)\n",
            "Requirement already satisfied: tqdm<5.0.0,>=4.38.0 in /usr/local/lib/python3.7/dist-packages (from spacy<4->fastai>=2.5.3->tsai) (4.62.3)\n",
            "Requirement already satisfied: importlib-metadata>=0.20 in /usr/local/lib/python3.7/dist-packages (from catalogue<1.1.0,>=0.0.7->spacy<4->fastai>=2.5.3->tsai) (4.8.2)\n",
            "Requirement already satisfied: typing-extensions>=3.6.4 in /usr/local/lib/python3.7/dist-packages (from importlib-metadata>=0.20->catalogue<1.1.0,>=0.0.7->spacy<4->fastai>=2.5.3->tsai) (3.10.0.2)\n",
            "Requirement already satisfied: zipp>=0.5 in /usr/local/lib/python3.7/dist-packages (from importlib-metadata>=0.20->catalogue<1.1.0,>=0.0.7->spacy<4->fastai>=2.5.3->tsai) (3.6.0)\n",
            "Requirement already satisfied: idna<3,>=2.5 in /usr/local/lib/python3.7/dist-packages (from requests->fastai>=2.5.3->tsai) (2.10)\n",
            "Requirement already satisfied: urllib3!=1.25.0,!=1.25.1,<1.26,>=1.21.1 in /usr/local/lib/python3.7/dist-packages (from requests->fastai>=2.5.3->tsai) (1.24.3)\n",
            "Requirement already satisfied: chardet<4,>=3.0.2 in /usr/local/lib/python3.7/dist-packages (from requests->fastai>=2.5.3->tsai) (3.0.4)\n",
            "Requirement already satisfied: certifi>=2017.4.17 in /usr/local/lib/python3.7/dist-packages (from requests->fastai>=2.5.3->tsai) (2021.10.8)\n",
            "Requirement already satisfied: patsy>=0.5.2 in /usr/local/lib/python3.7/dist-packages (from statsmodels>=0.12.1->sktime>=0.9.0->tsai) (0.5.2)\n",
            "Requirement already satisfied: matrixprofile>=1.1.10<2.0.0 in /usr/local/lib/python3.7/dist-packages (from tsfresh>=0.18.0->tsai) (1.1.10)\n",
            "Requirement already satisfied: dask[dataframe]>=2.9.0 in /usr/local/lib/python3.7/dist-packages (from tsfresh>=0.18.0->tsai) (2.12.0)\n",
            "Requirement already satisfied: distributed>=2.11.0 in /usr/local/lib/python3.7/dist-packages (from tsfresh>=0.18.0->tsai) (2.30.1)\n",
            "Requirement already satisfied: stumpy>=1.7.2 in /usr/local/lib/python3.7/dist-packages (from tsfresh>=0.18.0->tsai) (1.10.2)\n",
            "Requirement already satisfied: partd>=0.3.10 in /usr/local/lib/python3.7/dist-packages (from dask[dataframe]>=2.9.0->tsfresh>=0.18.0->tsai) (1.2.0)\n",
            "Requirement already satisfied: toolz>=0.7.3 in /usr/local/lib/python3.7/dist-packages (from dask[dataframe]>=2.9.0->tsfresh>=0.18.0->tsai) (0.11.2)\n",
            "Requirement already satisfied: fsspec>=0.6.0 in /usr/local/lib/python3.7/dist-packages (from dask[dataframe]>=2.9.0->tsfresh>=0.18.0->tsai) (2021.11.1)\n",
            "Requirement already satisfied: zict>=0.1.3 in /usr/local/lib/python3.7/dist-packages (from distributed>=2.11.0->tsfresh>=0.18.0->tsai) (2.0.0)\n",
            "Requirement already satisfied: msgpack>=0.6.0 in /usr/local/lib/python3.7/dist-packages (from distributed>=2.11.0->tsfresh>=0.18.0->tsai) (1.0.3)\n",
            "Requirement already satisfied: cloudpickle>=1.5.0 in /usr/local/lib/python3.7/dist-packages (from distributed>=2.11.0->tsfresh>=0.18.0->tsai) (2.0.0)\n",
            "Requirement already satisfied: psutil>=5.0 in /usr/local/lib/python3.7/dist-packages (from distributed>=2.11.0->tsfresh>=0.18.0->tsai) (5.4.8)\n",
            "Requirement already satisfied: click>=6.6 in /usr/local/lib/python3.7/dist-packages (from distributed>=2.11.0->tsfresh>=0.18.0->tsai) (7.1.2)\n",
            "Requirement already satisfied: sortedcontainers!=2.0.0,!=2.0.1 in /usr/local/lib/python3.7/dist-packages (from distributed>=2.11.0->tsfresh>=0.18.0->tsai) (2.4.0)\n",
            "Requirement already satisfied: tornado>=5 in /usr/local/lib/python3.7/dist-packages (from distributed>=2.11.0->tsfresh>=0.18.0->tsai) (5.1.1)\n",
            "Requirement already satisfied: tblib>=1.6.0 in /usr/local/lib/python3.7/dist-packages (from distributed>=2.11.0->tsfresh>=0.18.0->tsai) (1.7.0)\n",
            "Requirement already satisfied: protobuf==3.11.2 in /usr/local/lib/python3.7/dist-packages (from matrixprofile>=1.1.10<2.0.0->tsfresh>=0.18.0->tsai) (3.11.2)\n",
            "Requirement already satisfied: pyparsing!=2.0.4,!=2.1.2,!=2.1.6,>=2.0.1 in /usr/local/lib/python3.7/dist-packages (from matplotlib->fastai>=2.5.3->tsai) (3.0.6)\n",
            "Requirement already satisfied: cycler>=0.10 in /usr/local/lib/python3.7/dist-packages (from matplotlib->fastai>=2.5.3->tsai) (0.11.0)\n",
            "Requirement already satisfied: kiwisolver>=1.0.1 in /usr/local/lib/python3.7/dist-packages (from matplotlib->fastai>=2.5.3->tsai) (1.3.2)\n",
            "Requirement already satisfied: locket in /usr/local/lib/python3.7/dist-packages (from partd>=0.3.10->dask[dataframe]>=2.9.0->tsfresh>=0.18.0->tsai) (0.2.1)\n",
            "Requirement already satisfied: heapdict in /usr/local/lib/python3.7/dist-packages (from zict>=0.1.3->distributed>=2.11.0->tsfresh>=0.18.0->tsai) (1.0.1)\n"
          ]
        }
      ]
    },
    {
      "cell_type": "markdown",
      "source": [
        "Import librairies"
      ],
      "metadata": {
        "id": "uag3yxa6Py3O"
      }
    },
    {
      "cell_type": "code",
      "source": [
        "import pandas as pd\n",
        "import tensorflow as tf\n",
        "import numpy as np\n",
        "from google.colab import drive \n",
        "\n",
        "from sklearn.preprocessing import StandardScaler, LabelEncoder\n",
        "from tsai.all import *"
      ],
      "metadata": {
        "id": "OqH1621pyA0P"
      },
      "execution_count": 4,
      "outputs": []
    },
    {
      "cell_type": "markdown",
      "source": [
        "Give access to doc in drive"
      ],
      "metadata": {
        "id": "A3bVmTZnP4V4"
      }
    },
    {
      "cell_type": "code",
      "source": [
        "from google.colab import drive\n",
        "drive.mount('/content/drive')"
      ],
      "metadata": {
        "colab": {
          "base_uri": "https://localhost:8080/"
        },
        "id": "ztf0F1NhSBTa",
        "outputId": "526f28f0-55ce-4dfd-d48b-8abaebe75391"
      },
      "execution_count": 5,
      "outputs": [
        {
          "output_type": "stream",
          "name": "stdout",
          "text": [
            "Mounted at /content/drive\n"
          ]
        }
      ]
    },
    {
      "cell_type": "markdown",
      "source": [
        "Unzip file with participant"
      ],
      "metadata": {
        "id": "HwTGM7MAP7rM"
      }
    },
    {
      "cell_type": "code",
      "source": [
        "#only do once\n",
        "!unzip \"/content/drive/MyDrive/Gab/exported-emg-1.zip\" -d \"/content/drive/MyDrive/Gab/P01\"\n",
        "!unzip \"/content/drive/MyDrive/Gab/exported-emg-3.zip\" -d \"/content/drive/MyDrive/Gab/P03\"\n",
        "!unzip \"/content/drive/MyDrive/Gab/exported-emg-5.zip\" -d \"/content/drive/MyDrive/Gab/P05\"\n",
        "!unzip \"/content/drive/MyDrive/Gab/exported-emg-7.zip\" -d \"/content/drive/MyDrive/Gab/P07\"\n",
        "!unzip \"/content/drive/MyDrive/Gab/exported-emg-9.zip\" -d \"/content/drive/MyDrive/Gab/P09\""
      ],
      "metadata": {
        "id": "3vcwDd1IE2fU"
      },
      "execution_count": null,
      "outputs": []
    },
    {
      "cell_type": "markdown",
      "source": [
        "#Preprocessing"
      ],
      "metadata": {
        "id": "KV3TsnvAQDCU"
      }
    },
    {
      "cell_type": "markdown",
      "source": [
        "Load and cut data, create label depending on the name of the file"
      ],
      "metadata": {
        "id": "IND48PNNQHKP"
      }
    },
    {
      "cell_type": "code",
      "source": [
        "def load_data(path,keyword,col):\n",
        "\n",
        "  Window=1926*2 \n",
        "  df_asphalt = pd.DataFrame()\n",
        "  df_grass = pd.DataFrame()\n",
        "  for fname in os.listdir(path):\n",
        "    if keyword in fname: \n",
        "      os.chdir(path)\n",
        "      pd_xl_file = pd.ExcelFile(fname)\n",
        "      df = pd_xl_file.parse(\"Sheet1\") \n",
        "      dimensions = df.shape\n",
        "      Middle=int(dimensions[0]/2)\n",
        "      Participant=pd.read_excel(fname,sheet_name='Sheet1',  usecols = col)\n",
        "      Participant['label'] = pd.DataFrame(np.ones(dimensions[0]),dtype=int)\n",
        "      Participant=Participant.iloc[Middle-Window:Middle+Window]\n",
        "      df_asphalt = df_asphalt.append(Participant)\n",
        "\n",
        "    else:\n",
        "      os.chdir(path)\n",
        "      pd_xl_file_grass = pd.ExcelFile(fname)\n",
        "      df2 = pd_xl_file_grass.parse(\"Sheet1\") \n",
        "      dimensions_grass = df2.shape\n",
        "      Middle_grass=int(dimensions_grass[0]/2)\n",
        "      Participant_grass=pd.read_excel(fname,sheet_name='Sheet1', usecols = col)\n",
        "      Participant_grass['label'] = pd.DataFrame(np.zeros(dimensions_grass[0]),dtype=int)\n",
        "      Participant_grass=Participant_grass.iloc[Middle_grass-Window:Middle_grass+Window]\n",
        "      df_grass = df_grass.append(Participant_grass)\n",
        "      \n",
        "  return df_asphalt, df_grass\n"
      ],
      "metadata": {
        "id": "3zqTMTW0iLkk"
      },
      "execution_count": 6,
      "outputs": []
    },
    {
      "cell_type": "code",
      "source": [
        "#P01\n",
        "path1= '/content/drive/MyDrive/Gab/P01/exported-1/'\n",
        "df_asphalt_1, df_grass_1= load_data(path1,'sidewalk',\"A,B,J,R,Z\")\n",
        "#P03\n",
        "path3= '/content/drive/MyDrive/Gab/P03/exported-emg/'\n",
        "df_asphalt_3, df_grass_3= load_data(path3,'asphalt',\"A,B,D,L,T\")\n",
        "#P05\n",
        "path5= '/content/drive/MyDrive/Gab/P05/exported-emg-5/'\n",
        "df_asphalt_5, df_grass_5= load_data(path5,'asphalt',\"A,B,D,L,T\")\n",
        "#P07\n",
        "path7= '/content/drive/MyDrive/Gab/P07/exported-emg-7/'\n",
        "df_asphalt_7, df_grass_7= load_data(path7,'asphalt',\"A,B,D,L,T\")\n",
        "#P09\n",
        "path9= '/content/drive/MyDrive/Gab/P09/exported-emg-9/'\n",
        "df_asphalt_9, df_grass_9= load_data(path9,'asphalt',\"A,B,D,L,T\")\n",
        "\n",
        "# while True:pass"
      ],
      "metadata": {
        "id": "qJzpK4TaRzN8"
      },
      "execution_count": null,
      "outputs": []
    },
    {
      "cell_type": "code",
      "source": [
        "#COMBINE ALL PARTICIPANTS\n",
        "df_grass=(((df_grass_1.append(df_grass_3)).append(df_grass_5)).append(df_grass_7)).append(df_grass_9)\n",
        "df_asphalt=(((df_asphalt_1.append(df_asphalt_3)).append(df_asphalt_5)).append(df_asphalt_7)).append(df_asphalt_9)"
      ],
      "metadata": {
        "id": "w4UwX_s-iMYM"
      },
      "execution_count": 16,
      "outputs": []
    },
    {
      "cell_type": "markdown",
      "source": [
        "Filtering of EMG"
      ],
      "metadata": {
        "id": "ahlCcZTYGh5j"
      }
    },
    {
      "cell_type": "code",
      "source": [
        "def filteremg(time, emg, Fs=1926, high_band=20, low_band=500):\n",
        "    \n",
        "    # normalise cut-off frequencies to sampling frequency\n",
        "    high_band = high_band/(Fs/2)\n",
        "    low_band = low_band/(Fs/2)\n",
        "    \n",
        "    # create bandpass filter for EMG\n",
        "    b1, a1 = sp.signal.butter(4, [high_band,low_band], btype='bandpass')\n",
        "    \n",
        "    # process EMG signal: filter EMG\n",
        "    emg_filtered = sp.signal.filtfilt(b1, a1, emg)    \n",
        "\n",
        "    return emg_filtered"
      ],
      "metadata": {
        "id": "K7uFeBDKGdGL"
      },
      "execution_count": null,
      "outputs": []
    },
    {
      "cell_type": "code",
      "source": [
        "df_grass_TA=filteremg(df_grass.iloc[:,0], df_grass.iloc[:,1])\n",
        "df_grass_G=filteremg(df_grass.iloc[:,0], df_grass.iloc[:,2])\n",
        "df_grass_RF=filteremg(df_grass.iloc[:,0], df_grass.iloc[:,3])\n",
        "df_grass_BF=filteremg(df_grass.iloc[:,0], df_grass.iloc[:,4])\n",
        "df_asphalt_TA=filteremg(df_asphalt.iloc[:,0], df_asphalt.iloc[:,1])\n",
        "df_asphalt_G=filteremg(df_asphalt.iloc[:,0], df_asphalt.iloc[:,2])\n",
        "df_asphalt_RF=filteremg(df_asphalt.iloc[:,0], df_asphalt.iloc[:,3])\n",
        "df_asphalt_BF=filteremg(df_asphalt.iloc[:,0], df_asphalt.iloc[:,4])"
      ],
      "metadata": {
        "id": "An7rt0cRGu9d"
      },
      "execution_count": null,
      "outputs": []
    },
    {
      "cell_type": "markdown",
      "source": [
        "Normalization ---this is done with all trial combine, might be better to be do indiv."
      ],
      "metadata": {
        "id": "1UNtOHPoGoU5"
      }
    },
    {
      "cell_type": "code",
      "source": [
        "#max normal for [0,1] interval\n",
        "def normalization(emg):\n",
        "    max_data=max(emg)\n",
        "    min_data=min(emg)\n",
        "#itterer pour chaque column \n",
        "    emg_df = pd.DataFrame(emg)\n",
        "    emg_normalized_all=[]\n",
        "    for i in range(0,len(emg_df)):\n",
        "      EMG_normalized=(emg_df.iloc[i]-min_data)/(max_data-min_data)\n",
        "      emg_normalized_all.append(EMG_normalized)# adding the element to the array\n",
        "\n",
        "    return emg_normalized_all\n",
        "\"\"\"\n",
        "#z-score normalization\n",
        "def feature_normalize(dataset):\n",
        "    mu = np.mean(dataset,axis = 0)\n",
        "    sigma = np.std(dataset,axis = 0)\n",
        "    return (dataset - mu)/sigma\n",
        "\n",
        "TA_normalized=feature_normalize(TA_filt)\n",
        "plt.plot(TA_normalized)\n",
        "\"\"\""
      ],
      "metadata": {
        "colab": {
          "base_uri": "https://localhost:8080/",
          "height": 70
        },
        "id": "8Yc6HcuXGnnb",
        "outputId": "31d08b7e-1c87-46ce-e5fc-481865dcb7db"
      },
      "execution_count": null,
      "outputs": [
        {
          "output_type": "execute_result",
          "data": {
            "application/vnd.google.colaboratory.intrinsic+json": {
              "type": "string"
            },
            "text/plain": [
              "'\\n#z-score normalization\\ndef feature_normalize(dataset):\\n    mu = np.mean(dataset,axis = 0)\\n    sigma = np.std(dataset,axis = 0)\\n    return (dataset - mu)/sigma\\n\\nTA_normalized=feature_normalize(TA_filt)\\nplt.plot(TA_normalized)\\n'"
            ]
          },
          "metadata": {},
          "execution_count": 14
        }
      ]
    },
    {
      "cell_type": "code",
      "source": [
        "#normalize each muscles \n",
        "df_grass_TA=pd.DataFrame(normalization(df_grass_TA))\n",
        "df_grass_G=pd.DataFrame(normalization(df_grass_G))\n",
        "df_grass_RF=pd.DataFrame(normalization(df_grass_RF))\n",
        "df_grass_BF=pd.DataFrame(normalization(df_grass_BF))\n",
        "df_asphalt_TA=pd.DataFrame(normalization(df_asphalt_TA))\n",
        "df_asphalt_G=pd.DataFrame(normalization(df_asphalt_G))\n",
        "df_asphalt_RF=pd.DataFrame(normalization(df_asphalt_RF))\n",
        "df_asphalt_BF=pd.DataFrame(normalization(df_asphalt_BF))"
      ],
      "metadata": {
        "id": "iEg70HSjGtxY"
      },
      "execution_count": null,
      "outputs": []
    },
    {
      "cell_type": "code",
      "source": [
        "#concatenate back all grass into one variable and all asphalt into one variable\n",
        "df_grass_all=[df_grass_TA,df_grass_G,df_grass_RF,df_grass_BF]\n",
        "df_grass_all=pd.concat(df_grass_all,axis=1)\n",
        "\n",
        "df_asphalt_all=[df_asphalt_TA,df_asphalt_G,df_asphalt_RF,df_asphalt_BF]\n",
        "df_asphalt_all=pd.concat(df_asphalt_all,axis=1)\n",
        "\n",
        "\n",
        "df_grass=df_grass_all\n",
        "df_asphalt=df_asphalt_all"
      ],
      "metadata": {
        "id": "ljdN3kXD8EXu"
      },
      "execution_count": null,
      "outputs": []
    },
    {
      "cell_type": "markdown",
      "source": [
        "Organize corectly into X,y"
      ],
      "metadata": {
        "id": "xHajq0odQWhY"
      }
    },
    {
      "cell_type": "code",
      "source": [
        "#concatenate both tasks\n",
        "df_asphalt=df_asphalt.iloc[1: , :]\n",
        "df_grass=df_grass.iloc[1: , :]\n",
        "All=df_asphalt.append(df_grass) \n",
        "\n",
        "#remove time\n",
        "All = pd.DataFrame(All.iloc[: , 1:])\n",
        "\n",
        "# assign X,y\n",
        "y = All.iloc[:,4]#assign label \n",
        "X = All.iloc[:,0:4] \n",
        "\n",
        "X"
      ],
      "metadata": {
        "colab": {
          "base_uri": "https://localhost:8080/",
          "height": 485
        },
        "id": "QSuu87JAPWpU",
        "outputId": "b1fb891f-d873-4959-862e-4a977f67b864"
      },
      "execution_count": 19,
      "outputs": [
        {
          "output_type": "execute_result",
          "data": {
            "text/html": [
              "\n",
              "  <div id=\"df-97d84d34-ba6a-49b9-853a-1c107534cf3c\">\n",
              "    <div class=\"colab-df-container\">\n",
              "      <div>\n",
              "<style scoped>\n",
              "    .dataframe tbody tr th:only-of-type {\n",
              "        vertical-align: middle;\n",
              "    }\n",
              "\n",
              "    .dataframe tbody tr th {\n",
              "        vertical-align: top;\n",
              "    }\n",
              "\n",
              "    .dataframe thead th {\n",
              "        text-align: right;\n",
              "    }\n",
              "</style>\n",
              "<table border=\"1\" class=\"dataframe\">\n",
              "  <thead>\n",
              "    <tr style=\"text-align: right;\">\n",
              "      <th></th>\n",
              "      <th>Trigno sensor 1-TA: EMG 1 [Volts]</th>\n",
              "      <th>Trigno sensor 2-Gastroc: EMG 2 [Volts]</th>\n",
              "      <th>Trigno sensor 3-RF: EMG 3 [Volts]</th>\n",
              "      <th>Trigno sensor 4-BF: EMG 4 [Volts]</th>\n",
              "    </tr>\n",
              "  </thead>\n",
              "  <tbody>\n",
              "    <tr>\n",
              "      <th>7213</th>\n",
              "      <td>-0.000009</td>\n",
              "      <td>0.000000</td>\n",
              "      <td>0.000013</td>\n",
              "      <td>0.0</td>\n",
              "    </tr>\n",
              "    <tr>\n",
              "      <th>7214</th>\n",
              "      <td>-0.000020</td>\n",
              "      <td>0.000000</td>\n",
              "      <td>0.000015</td>\n",
              "      <td>0.0</td>\n",
              "    </tr>\n",
              "    <tr>\n",
              "      <th>7215</th>\n",
              "      <td>-0.000024</td>\n",
              "      <td>0.000000</td>\n",
              "      <td>0.000019</td>\n",
              "      <td>0.0</td>\n",
              "    </tr>\n",
              "    <tr>\n",
              "      <th>7216</th>\n",
              "      <td>-0.000019</td>\n",
              "      <td>0.000000</td>\n",
              "      <td>0.000023</td>\n",
              "      <td>0.0</td>\n",
              "    </tr>\n",
              "    <tr>\n",
              "      <th>7217</th>\n",
              "      <td>-0.000014</td>\n",
              "      <td>0.000000</td>\n",
              "      <td>0.000023</td>\n",
              "      <td>0.0</td>\n",
              "    </tr>\n",
              "    <tr>\n",
              "      <th>...</th>\n",
              "      <td>...</td>\n",
              "      <td>...</td>\n",
              "      <td>...</td>\n",
              "      <td>...</td>\n",
              "    </tr>\n",
              "    <tr>\n",
              "      <th>12986</th>\n",
              "      <td>0.000000</td>\n",
              "      <td>0.003404</td>\n",
              "      <td>0.000000</td>\n",
              "      <td>0.0</td>\n",
              "    </tr>\n",
              "    <tr>\n",
              "      <th>12987</th>\n",
              "      <td>0.000000</td>\n",
              "      <td>0.003945</td>\n",
              "      <td>0.000000</td>\n",
              "      <td>0.0</td>\n",
              "    </tr>\n",
              "    <tr>\n",
              "      <th>12988</th>\n",
              "      <td>0.000000</td>\n",
              "      <td>0.004114</td>\n",
              "      <td>0.000000</td>\n",
              "      <td>0.0</td>\n",
              "    </tr>\n",
              "    <tr>\n",
              "      <th>12989</th>\n",
              "      <td>0.000000</td>\n",
              "      <td>0.004082</td>\n",
              "      <td>0.000000</td>\n",
              "      <td>0.0</td>\n",
              "    </tr>\n",
              "    <tr>\n",
              "      <th>12990</th>\n",
              "      <td>0.000000</td>\n",
              "      <td>0.004120</td>\n",
              "      <td>0.000000</td>\n",
              "      <td>0.0</td>\n",
              "    </tr>\n",
              "  </tbody>\n",
              "</table>\n",
              "<p>5269532 rows × 4 columns</p>\n",
              "</div>\n",
              "      <button class=\"colab-df-convert\" onclick=\"convertToInteractive('df-97d84d34-ba6a-49b9-853a-1c107534cf3c')\"\n",
              "              title=\"Convert this dataframe to an interactive table.\"\n",
              "              style=\"display:none;\">\n",
              "        \n",
              "  <svg xmlns=\"http://www.w3.org/2000/svg\" height=\"24px\"viewBox=\"0 0 24 24\"\n",
              "       width=\"24px\">\n",
              "    <path d=\"M0 0h24v24H0V0z\" fill=\"none\"/>\n",
              "    <path d=\"M18.56 5.44l.94 2.06.94-2.06 2.06-.94-2.06-.94-.94-2.06-.94 2.06-2.06.94zm-11 1L8.5 8.5l.94-2.06 2.06-.94-2.06-.94L8.5 2.5l-.94 2.06-2.06.94zm10 10l.94 2.06.94-2.06 2.06-.94-2.06-.94-.94-2.06-.94 2.06-2.06.94z\"/><path d=\"M17.41 7.96l-1.37-1.37c-.4-.4-.92-.59-1.43-.59-.52 0-1.04.2-1.43.59L10.3 9.45l-7.72 7.72c-.78.78-.78 2.05 0 2.83L4 21.41c.39.39.9.59 1.41.59.51 0 1.02-.2 1.41-.59l7.78-7.78 2.81-2.81c.8-.78.8-2.07 0-2.86zM5.41 20L4 18.59l7.72-7.72 1.47 1.35L5.41 20z\"/>\n",
              "  </svg>\n",
              "      </button>\n",
              "      \n",
              "  <style>\n",
              "    .colab-df-container {\n",
              "      display:flex;\n",
              "      flex-wrap:wrap;\n",
              "      gap: 12px;\n",
              "    }\n",
              "\n",
              "    .colab-df-convert {\n",
              "      background-color: #E8F0FE;\n",
              "      border: none;\n",
              "      border-radius: 50%;\n",
              "      cursor: pointer;\n",
              "      display: none;\n",
              "      fill: #1967D2;\n",
              "      height: 32px;\n",
              "      padding: 0 0 0 0;\n",
              "      width: 32px;\n",
              "    }\n",
              "\n",
              "    .colab-df-convert:hover {\n",
              "      background-color: #E2EBFA;\n",
              "      box-shadow: 0px 1px 2px rgba(60, 64, 67, 0.3), 0px 1px 3px 1px rgba(60, 64, 67, 0.15);\n",
              "      fill: #174EA6;\n",
              "    }\n",
              "\n",
              "    [theme=dark] .colab-df-convert {\n",
              "      background-color: #3B4455;\n",
              "      fill: #D2E3FC;\n",
              "    }\n",
              "\n",
              "    [theme=dark] .colab-df-convert:hover {\n",
              "      background-color: #434B5C;\n",
              "      box-shadow: 0px 1px 3px 1px rgba(0, 0, 0, 0.15);\n",
              "      filter: drop-shadow(0px 1px 2px rgba(0, 0, 0, 0.3));\n",
              "      fill: #FFFFFF;\n",
              "    }\n",
              "  </style>\n",
              "\n",
              "      <script>\n",
              "        const buttonEl =\n",
              "          document.querySelector('#df-97d84d34-ba6a-49b9-853a-1c107534cf3c button.colab-df-convert');\n",
              "        buttonEl.style.display =\n",
              "          google.colab.kernel.accessAllowed ? 'block' : 'none';\n",
              "\n",
              "        async function convertToInteractive(key) {\n",
              "          const element = document.querySelector('#df-97d84d34-ba6a-49b9-853a-1c107534cf3c');\n",
              "          const dataTable =\n",
              "            await google.colab.kernel.invokeFunction('convertToInteractive',\n",
              "                                                     [key], {});\n",
              "          if (!dataTable) return;\n",
              "\n",
              "          const docLinkHtml = 'Like what you see? Visit the ' +\n",
              "            '<a target=\"_blank\" href=https://colab.research.google.com/notebooks/data_table.ipynb>data table notebook</a>'\n",
              "            + ' to learn more about interactive tables.';\n",
              "          element.innerHTML = '';\n",
              "          dataTable['output_type'] = 'display_data';\n",
              "          await google.colab.output.renderOutput(dataTable, element);\n",
              "          const docLink = document.createElement('div');\n",
              "          docLink.innerHTML = docLinkHtml;\n",
              "          element.appendChild(docLink);\n",
              "        }\n",
              "      </script>\n",
              "    </div>\n",
              "  </div>\n",
              "  "
            ],
            "text/plain": [
              "       Trigno sensor 1-TA: EMG 1 [Volts]  ...  Trigno sensor 4-BF: EMG 4 [Volts]\n",
              "7213                           -0.000009  ...                                0.0\n",
              "7214                           -0.000020  ...                                0.0\n",
              "7215                           -0.000024  ...                                0.0\n",
              "7216                           -0.000019  ...                                0.0\n",
              "7217                           -0.000014  ...                                0.0\n",
              "...                                  ...  ...                                ...\n",
              "12986                           0.000000  ...                                0.0\n",
              "12987                           0.000000  ...                                0.0\n",
              "12988                           0.000000  ...                                0.0\n",
              "12989                           0.000000  ...                                0.0\n",
              "12990                           0.000000  ...                                0.0\n",
              "\n",
              "[5269532 rows x 4 columns]"
            ]
          },
          "metadata": {},
          "execution_count": 19
        }
      ]
    },
    {
      "cell_type": "code",
      "source": [
        "#Standardize features by removing the mean and scaling to unit variance--z = (x - u) / s\n",
        "scaler = StandardScaler()\n",
        "X = scaler.fit_transform(X)\n",
        "\n",
        "X = pd.DataFrame(data = X, columns=['TA','Gastroc','RF','BF'])\n",
        "X['Label'] = y.values\n",
        "print(X)"
      ],
      "metadata": {
        "id": "8rc4FfKAyRvZ",
        "colab": {
          "base_uri": "https://localhost:8080/"
        },
        "outputId": "e48826bc-547f-4f2f-f0bb-70e415c5adf5"
      },
      "execution_count": 20,
      "outputs": [
        {
          "output_type": "stream",
          "name": "stdout",
          "text": [
            "               TA   Gastroc        RF        BF  Label\n",
            "0       -0.001077  0.003105  0.072580 -0.000378      1\n",
            "1       -0.015586  0.003105  0.080682 -0.000378      1\n",
            "2       -0.020783  0.003105  0.109039 -0.000378      1\n",
            "3       -0.014936  0.003105  0.131319 -0.000378      1\n",
            "4       -0.008006  0.003105  0.131319 -0.000378      1\n",
            "...           ...       ...       ...       ...    ...\n",
            "5269527  0.009967  6.028858 -0.007428 -0.000378      0\n",
            "5269528  0.009967  6.986846 -0.007428 -0.000378      0\n",
            "5269529  0.009967  7.286366 -0.007428 -0.000378      0\n",
            "5269530  0.009967  7.229314 -0.007428 -0.000378      0\n",
            "5269531  0.009967  7.295874 -0.007428 -0.000378      0\n",
            "\n",
            "[5269532 rows x 5 columns]\n"
          ]
        }
      ]
    },
    {
      "cell_type": "markdown",
      "source": [
        "Model hyperparameter "
      ],
      "metadata": {
        "id": "7i3dphV8QgV8"
      }
    },
    {
      "cell_type": "code",
      "source": [
        "window_length = 1926*4  # trial length\n",
        "stride = None                # None =no overlap\n",
        "start = 0                    # use all data since the first time stamp (default = 0)\n",
        "get_x = X.columns[0:4]     # Indicates which are the columns that contain the x data.\n",
        "get_y = 'Label'             # In multivariate time series, you must indicate which is/are the y columns\n",
        "horizon = 0                  # 0 means y is taken from the last time stamp of the time sequence (default = 0)\n",
        "seq_first = True\n",
        "                            \n",
        "print(get_x,get_y)"
      ],
      "metadata": {
        "colab": {
          "base_uri": "https://localhost:8080/"
        },
        "id": "xOSfUdnNudcA",
        "outputId": "da3154f0-6190-4ec1-8a82-96dc3fa5fb70"
      },
      "execution_count": 21,
      "outputs": [
        {
          "output_type": "stream",
          "name": "stdout",
          "text": [
            "Index(['TA', 'Gastroc', 'RF', 'BF'], dtype='object') Label\n"
          ]
        }
      ]
    },
    {
      "cell_type": "markdown",
      "source": [
        "Split train and test data"
      ],
      "metadata": {
        "id": "SqK5xo08QwD9"
      }
    },
    {
      "cell_type": "code",
      "source": [
        "X, y = SlidingWindow(window_length, stride=stride, start=start, get_x=get_x,  get_y=get_y, horizon=horizon, seq_first=seq_first)(X)\n",
        "splits = get_splits(y, valid_size=.2, stratify=True, random_state=23, shuffle=True)\n",
        "tfms  = [None, [Categorize()]]\n",
        "dsets = TSDatasets(X, y, tfms=tfms, splits=splits)\n",
        "dsets"
      ],
      "metadata": {
        "colab": {
          "base_uri": "https://localhost:8080/",
          "height": 111
        },
        "id": "3lOmK_DruF_y",
        "outputId": "38dfc8ed-1027-4e3d-a877-5ab428c126c1"
      },
      "execution_count": 22,
      "outputs": [
        {
          "output_type": "display_data",
          "data": {
            "image/png": "[encoded data removed]",
            "text/plain": [
              "<Figure size 1152x36 with 1 Axes>"
            ]
          },
          "metadata": {
            "needs_background": "light"
          }
        },
        {
          "output_type": "execute_result",
          "data": {
            "text/plain": [
              "(#683) [(TSTensor(vars:4, len:7704, device=cpu), TensorCategory(1)), (TSTensor(vars:4, len:7704, device=cpu), TensorCategory(1)), (TSTensor(vars:4, len:7704, device=cpu), TensorCategory(1)), (TSTensor(vars:4, len:7704, device=cpu), TensorCategory(1)), (TSTensor(vars:4, len:7704, device=cpu), TensorCategory(1)), (TSTensor(vars:4, len:7704, device=cpu), TensorCategory(1)), (TSTensor(vars:4, len:7704, device=cpu), TensorCategory(1)), (TSTensor(vars:4, len:7704, device=cpu), TensorCategory(1)), (TSTensor(vars:4, len:7704, device=cpu), TensorCategory(1)), (TSTensor(vars:4, len:7704, device=cpu), TensorCategory(1))] ...]"
            ]
          },
          "metadata": {},
          "execution_count": 22
        }
      ]
    },
    {
      "cell_type": "markdown",
      "source": [
        "CNN model and vizualisation"
      ],
      "metadata": {
        "id": "ztQms12TQzlL"
      }
    },
    {
      "cell_type": "code",
      "source": [
        "dls   = TSDataLoaders.from_dsets(dsets.train, dsets.valid, bs=[64, 128], batch_tfms=[TSStandardize()], num_workers=0)\n",
        "model = InceptionTime(dls.vars, dls.c)\n",
        "learn = Learner(dls, model, metrics=accuracy)\n",
        "learn.fit_one_cycle(5, lr_max=1e-3)##epoch=5 avec 5 participants (RAM crashed)---epoch=15 (28min)avec 1 participant-- 25 epoch avec 1 participant=54min  \n",
        "learn.plot_metrics()"
      ],
      "metadata": {
        "id": "4aU0QwkFyZBy",
        "colab": {
          "base_uri": "https://localhost:8080/",
          "height": 95
        },
        "outputId": "b18d9136-0049-4d08-fd0c-018b4347ed1b"
      },
      "execution_count": null,
      "outputs": [
        {
          "output_type": "display_data",
          "data": {
            "text/html": [
              "\n",
              "    <div>\n",
              "        <style>\n",
              "            /* Turns off some styling */\n",
              "            progress {\n",
              "                /* gets rid of default border in Firefox and Opera. */\n",
              "                border: none;\n",
              "                /* Needs to be in here for Safari polyfill so background images work as expected. */\n",
              "                background-size: auto;\n",
              "            }\n",
              "            .progress-bar-interrupted, .progress-bar-interrupted::-webkit-progress-bar {\n",
              "                background: #F44336;\n",
              "            }\n",
              "        </style>\n",
              "      <progress value='0' class='' max='5' style='width:300px; height:20px; vertical-align: middle;'></progress>\n",
              "      0.00% [0/5 00:00<00:00]\n",
              "    </div>\n",
              "    \n",
              "<table border=\"1\" class=\"dataframe\">\n",
              "  <thead>\n",
              "    <tr style=\"text-align: left;\">\n",
              "      <th>epoch</th>\n",
              "      <th>train_loss</th>\n",
              "      <th>valid_loss</th>\n",
              "      <th>accuracy</th>\n",
              "      <th>time</th>\n",
              "    </tr>\n",
              "  </thead>\n",
              "  <tbody>\n",
              "  </tbody>\n",
              "</table><p>\n",
              "\n",
              "    <div>\n",
              "        <style>\n",
              "            /* Turns off some styling */\n",
              "            progress {\n",
              "                /* gets rid of default border in Firefox and Opera. */\n",
              "                border: none;\n",
              "                /* Needs to be in here for Safari polyfill so background images work as expected. */\n",
              "                background-size: auto;\n",
              "            }\n",
              "            .progress-bar-interrupted, .progress-bar-interrupted::-webkit-progress-bar {\n",
              "                background: #F44336;\n",
              "            }\n",
              "        </style>\n",
              "      <progress value='0' class='' max='8' style='width:300px; height:20px; vertical-align: middle;'></progress>\n",
              "      0.00% [0/8 00:00<00:00]\n",
              "    </div>\n",
              "    "
            ],
            "text/plain": [
              "<IPython.core.display.HTML object>"
            ]
          },
          "metadata": {}
        }
      ]
    },
    {
      "cell_type": "code",
      "source": [
        "learn.show_probas()"
      ],
      "metadata": {
        "id": "Y0Ci16Jjycjq"
      },
      "execution_count": null,
      "outputs": []
    },
    {
      "cell_type": "code",
      "source": [
        "interp = ClassificationInterpretation.from_learner(learn)\n",
        "interp.plot_confusion_matrix()"
      ],
      "metadata": {
        "id": "7o05fBo2ygIE"
      },
      "execution_count": null,
      "outputs": []
    }
  ]
}