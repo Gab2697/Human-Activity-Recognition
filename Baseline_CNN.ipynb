{
  "nbformat": 4,
  "nbformat_minor": 0,
  "metadata": {
    "colab": {
      "name": "Baseline_CNN.ipynb",
      "provenance": [],
      "authorship_tag": "ABX9TyOursBg/pm3hgXaHZKzQ25Y",
      "include_colab_link": true
    },
    "kernelspec": {
      "name": "python3",
      "display_name": "Python 3"
    },
    "language_info": {
      "name": "python"
    }
  },
  "cells": [
    {
      "cell_type": "markdown",
      "metadata": {
        "id": "view-in-github",
        "colab_type": "text"
      },
      "source": [
        "<a href=\"https://colab.research.google.com/github/Gab2697/Human-Activity-Recognition/blob/master/Baseline_CNN.ipynb\" target=\"_parent\"><img src=\"https://colab.research.google.com/assets/colab-badge.svg\" alt=\"Open In Colab\"/></a>"
      ]
    },
    {
      "cell_type": "code",
      "source": [
        "#import\n",
        "import pandas as pd\n",
        "import tensorflow as tf\n",
        "import numpy as np\n",
        "import os"
      ],
      "metadata": {
        "id": "tlKC7Q-T1n3J"
      },
      "execution_count": 3,
      "outputs": []
    },
    {
      "cell_type": "code",
      "source": [
        "from google.colab import drive\n",
        "drive.mount('/content/drive')"
      ],
      "metadata": {
        "colab": {
          "base_uri": "https://localhost:8080/"
        },
        "id": "Q-p8SXx1eFtB",
        "outputId": "2426843b-1935-4087-99db-9da655baade0"
      },
      "execution_count": 4,
      "outputs": [
        {
          "output_type": "stream",
          "name": "stdout",
          "text": [
            "Mounted at /content/drive\n"
          ]
        }
      ]
    },
    {
      "cell_type": "markdown",
      "source": [
        "#Prepare the data"
      ],
      "metadata": {
        "id": "J8nQzfHVoH3v"
      }
    },
    {
      "cell_type": "markdown",
      "source": [
        "Function to load data, organize it by surface and add a specifique label depending on the name of the excel file"
      ],
      "metadata": {
        "id": "6MdXS-o5n2QX"
      }
    },
    {
      "cell_type": "code",
      "source": [
        "def load_data(path,keyword,col):\n",
        "\n",
        "  Window=1926*2 \n",
        "  df_asphalt = pd.DataFrame()\n",
        "  df_grass = pd.DataFrame()\n",
        "  for fname in os.listdir(path):\n",
        "    if keyword in fname: \n",
        "      os.chdir(path)\n",
        "      pd_xl_file = pd.ExcelFile(fname)\n",
        "      df = pd_xl_file.parse(\"Sheet1\") \n",
        "      dimensions = df.shape\n",
        "      Middle=int(dimensions[0]/2)\n",
        "      Participant=pd.read_excel(fname,sheet_name='Sheet1',  usecols = col)\n",
        "      Participant['label'] = pd.DataFrame(np.ones(dimensions[0]),dtype=int)\n",
        "      Participant=Participant.iloc[Middle-Window:Middle+Window]\n",
        "      df_asphalt = df_asphalt.append(Participant)\n",
        "      \n",
        "\n",
        "    else:\n",
        "      os.chdir(path)\n",
        "      pd_xl_file_grass = pd.ExcelFile(fname)\n",
        "      df2 = pd_xl_file_grass.parse(\"Sheet1\") \n",
        "      dimensions_grass = df2.shape\n",
        "      Middle_grass=int(dimensions_grass[0]/2)\n",
        "      Participant_grass=pd.read_excel(fname,sheet_name='Sheet1', usecols = col)\n",
        "      Participant_grass['label'] = pd.DataFrame(np.zeros(dimensions_grass[0]),dtype=int)\n",
        "      Participant_grass=Participant_grass.iloc[Middle_grass-Window:Middle_grass+Window]\n",
        "      df_grass = df_grass.append(Participant_grass)\n",
        "      \n",
        "  return df_asphalt, df_grass"
      ],
      "metadata": {
        "id": "6iyASZTEeGEO"
      },
      "execution_count": 7,
      "outputs": []
    },
    {
      "cell_type": "markdown",
      "source": [
        "Call load function and add specific columns (participant and trial number)"
      ],
      "metadata": {
        "id": "0aFvgcILngEC"
      }
    },
    {
      "cell_type": "code",
      "source": [
        "#P01\n",
        "path1= '/content/drive/MyDrive/Gab/P01/exported-1/'\n",
        "df_asphalt_1, df_grass_1= load_data(path1,'sidewalk',\"A,B,J,R,Z\")\n",
        "df_asphalt_1['participant_number']=1#add column for participant number\n",
        "df_grass_1['participant_number']=1#add column for participant number\n",
        "# df_asphalt_1['trial_number']=list(range(1,len(df_asphalt_1)+1),len(df_asphalt_1)/(1926*4))#add column for trial number\n",
        "# df_grass_1['trial_number']=list(range(1,len(df_grass_1)+1),len(df_grass_1)/(1926*4))#add column for trial number\n",
        "#P03\n",
        "path3= '/content/drive/MyDrive/Gab/P03/exported-emg/'\n",
        "df_asphalt_3, df_grass_3= load_data(path3,'asphalt',\"A,B,D,L,T\")\n",
        "df_asphalt_3['participant_number']=3\n",
        "df_grass_3['participant_number']=3\n",
        "# df_asphalt_3['trial_number']=list(range(1,len(df_asphalt_3)+1),len(df_asphalt_3)/(1926*4))\n",
        "# df_grass_3['trial_number']=list(range(1,len(df_grass_3)+1),len(df_grass_3)/(1926*4))\n",
        "#P05\n",
        "path5= '/content/drive/MyDrive/Gab/P05/exported-emg-5/'\n",
        "df_asphalt_5, df_grass_5= load_data(path5,'asphalt',\"A,B,D,L,T\")\n",
        "df_asphalt_5['participant_number']=5\n",
        "df_grass_5['participant_number']=5\n",
        "# df_asphalt_5['trial_number']=list(range(1,len(df_asphalt_5)+1),len(df_asphalt_5)/(1926*4))\n",
        "# df_grass_5['trial_number']=list(range(1,len(df_grass_5)+1),len(df_grass_5)/(1926*4))\n",
        "#P07\n",
        "path7= '/content/drive/MyDrive/Gab/P07/exported-emg-7/'\n",
        "df_asphalt_7, df_grass_7= load_data(path7,'asphalt',\"A,B,D,L,T\")\n",
        "df_asphalt_7['participant_number']=7\n",
        "df_grass_7['participant_number']=7\n",
        "# df_asphalt_7['trial_number']=list(range(1,len(df_asphalt_7)+1),len(df_asphalt_7)/(1926*4))\n",
        "# df_grass_7['trial_number']=list(range(1,len(df_grass_7)+1),len(df_grass_7)/(1926*4))\n",
        "#P09\n",
        "path9= '/content/drive/MyDrive/Gab/P09/exported-emg-9/'\n",
        "df_asphalt_9, df_grass_9= load_data(path9,'asphalt',\"A,B,D,L,T\")\n",
        "df_asphalt_9['participant_number']=9\n",
        "df_grass_9['participant_number']=9\n",
        "# df_asphalt_9['trial_number']=list(range(1,len(df_asphalt_9)+1),len(df_asphalt_9)/(1926*4))\n",
        "# df_grass_9['trial_number']=list(range(1,len(df_grass_9)+1),len(df_grass_9)/(1926*4))"
      ],
      "metadata": {
        "colab": {
          "base_uri": "https://localhost:8080/",
          "height": 416
        },
        "id": "xbhaWrbzeXtF",
        "outputId": "a7c8b97b-1660-4d67-834d-37743d568da0"
      },
      "execution_count": 9,
      "outputs": [
        {
          "output_type": "error",
          "ename": "IsADirectoryError",
          "evalue": "ignored",
          "traceback": [
            "\u001b[0;31m---------------------------------------------------------------------------\u001b[0m",
            "\u001b[0;31mIsADirectoryError\u001b[0m                         Traceback (most recent call last)",
            "\u001b[0;32m<ipython-input-9-ffd90b4d32c9>\u001b[0m in \u001b[0;36m<module>\u001b[0;34m()\u001b[0m\n\u001b[1;32m     29\u001b[0m \u001b[0;31m#P09\u001b[0m\u001b[0;34m\u001b[0m\u001b[0;34m\u001b[0m\u001b[0;34m\u001b[0m\u001b[0m\n\u001b[1;32m     30\u001b[0m \u001b[0mpath9\u001b[0m\u001b[0;34m=\u001b[0m \u001b[0;34m'/content/drive/MyDrive/Gab/P09/exported-emg-9/'\u001b[0m\u001b[0;34m\u001b[0m\u001b[0;34m\u001b[0m\u001b[0m\n\u001b[0;32m---> 31\u001b[0;31m \u001b[0mdf_asphalt_9\u001b[0m\u001b[0;34m,\u001b[0m \u001b[0mdf_grass_9\u001b[0m\u001b[0;34m=\u001b[0m \u001b[0mload_data\u001b[0m\u001b[0;34m(\u001b[0m\u001b[0mpath9\u001b[0m\u001b[0;34m,\u001b[0m\u001b[0;34m'asphalt'\u001b[0m\u001b[0;34m,\u001b[0m\u001b[0;34m\"A,B,D,L,T\"\u001b[0m\u001b[0;34m)\u001b[0m\u001b[0;34m\u001b[0m\u001b[0;34m\u001b[0m\u001b[0m\n\u001b[0m\u001b[1;32m     32\u001b[0m \u001b[0mdf_asphalt_9\u001b[0m\u001b[0;34m[\u001b[0m\u001b[0;34m'participant_number'\u001b[0m\u001b[0;34m]\u001b[0m\u001b[0;34m=\u001b[0m\u001b[0;36m9\u001b[0m\u001b[0;34m\u001b[0m\u001b[0;34m\u001b[0m\u001b[0m\n\u001b[1;32m     33\u001b[0m \u001b[0mdf_grass_9\u001b[0m\u001b[0;34m[\u001b[0m\u001b[0;34m'participant_number'\u001b[0m\u001b[0;34m]\u001b[0m\u001b[0;34m=\u001b[0m\u001b[0;36m9\u001b[0m\u001b[0;34m\u001b[0m\u001b[0;34m\u001b[0m\u001b[0m\n",
            "\u001b[0;32m<ipython-input-7-8f82b1d2c07a>\u001b[0m in \u001b[0;36mload_data\u001b[0;34m(path, keyword, col)\u001b[0m\n\u001b[1;32m     19\u001b[0m     \u001b[0;32melse\u001b[0m\u001b[0;34m:\u001b[0m\u001b[0;34m\u001b[0m\u001b[0;34m\u001b[0m\u001b[0m\n\u001b[1;32m     20\u001b[0m       \u001b[0mos\u001b[0m\u001b[0;34m.\u001b[0m\u001b[0mchdir\u001b[0m\u001b[0;34m(\u001b[0m\u001b[0mpath\u001b[0m\u001b[0;34m)\u001b[0m\u001b[0;34m\u001b[0m\u001b[0;34m\u001b[0m\u001b[0m\n\u001b[0;32m---> 21\u001b[0;31m       \u001b[0mpd_xl_file_grass\u001b[0m \u001b[0;34m=\u001b[0m \u001b[0mpd\u001b[0m\u001b[0;34m.\u001b[0m\u001b[0mExcelFile\u001b[0m\u001b[0;34m(\u001b[0m\u001b[0mfname\u001b[0m\u001b[0;34m)\u001b[0m\u001b[0;34m\u001b[0m\u001b[0;34m\u001b[0m\u001b[0m\n\u001b[0m\u001b[1;32m     22\u001b[0m       \u001b[0mdf2\u001b[0m \u001b[0;34m=\u001b[0m \u001b[0mpd_xl_file_grass\u001b[0m\u001b[0;34m.\u001b[0m\u001b[0mparse\u001b[0m\u001b[0;34m(\u001b[0m\u001b[0;34m\"Sheet1\"\u001b[0m\u001b[0;34m)\u001b[0m\u001b[0;34m\u001b[0m\u001b[0;34m\u001b[0m\u001b[0m\n\u001b[1;32m     23\u001b[0m       \u001b[0mdimensions_grass\u001b[0m \u001b[0;34m=\u001b[0m \u001b[0mdf2\u001b[0m\u001b[0;34m.\u001b[0m\u001b[0mshape\u001b[0m\u001b[0;34m\u001b[0m\u001b[0;34m\u001b[0m\u001b[0m\n",
            "\u001b[0;32m/usr/local/lib/python3.7/dist-packages/pandas/io/excel/_base.py\u001b[0m in \u001b[0;36m__init__\u001b[0;34m(self, path_or_buffer, engine)\u001b[0m\n\u001b[1;32m    865\u001b[0m         \u001b[0mself\u001b[0m\u001b[0;34m.\u001b[0m\u001b[0m_io\u001b[0m \u001b[0;34m=\u001b[0m \u001b[0mstringify_path\u001b[0m\u001b[0;34m(\u001b[0m\u001b[0mpath_or_buffer\u001b[0m\u001b[0;34m)\u001b[0m\u001b[0;34m\u001b[0m\u001b[0;34m\u001b[0m\u001b[0m\n\u001b[1;32m    866\u001b[0m \u001b[0;34m\u001b[0m\u001b[0m\n\u001b[0;32m--> 867\u001b[0;31m         \u001b[0mself\u001b[0m\u001b[0;34m.\u001b[0m\u001b[0m_reader\u001b[0m \u001b[0;34m=\u001b[0m \u001b[0mself\u001b[0m\u001b[0;34m.\u001b[0m\u001b[0m_engines\u001b[0m\u001b[0;34m[\u001b[0m\u001b[0mengine\u001b[0m\u001b[0;34m]\u001b[0m\u001b[0;34m(\u001b[0m\u001b[0mself\u001b[0m\u001b[0;34m.\u001b[0m\u001b[0m_io\u001b[0m\u001b[0;34m)\u001b[0m\u001b[0;34m\u001b[0m\u001b[0;34m\u001b[0m\u001b[0m\n\u001b[0m\u001b[1;32m    868\u001b[0m \u001b[0;34m\u001b[0m\u001b[0m\n\u001b[1;32m    869\u001b[0m     \u001b[0;32mdef\u001b[0m \u001b[0m__fspath__\u001b[0m\u001b[0;34m(\u001b[0m\u001b[0mself\u001b[0m\u001b[0;34m)\u001b[0m\u001b[0;34m:\u001b[0m\u001b[0;34m\u001b[0m\u001b[0;34m\u001b[0m\u001b[0m\n",
            "\u001b[0;32m/usr/local/lib/python3.7/dist-packages/pandas/io/excel/_xlrd.py\u001b[0m in \u001b[0;36m__init__\u001b[0;34m(self, filepath_or_buffer)\u001b[0m\n\u001b[1;32m     20\u001b[0m         \u001b[0merr_msg\u001b[0m \u001b[0;34m=\u001b[0m \u001b[0;34m\"Install xlrd >= 1.0.0 for Excel support\"\u001b[0m\u001b[0;34m\u001b[0m\u001b[0;34m\u001b[0m\u001b[0m\n\u001b[1;32m     21\u001b[0m         \u001b[0mimport_optional_dependency\u001b[0m\u001b[0;34m(\u001b[0m\u001b[0;34m\"xlrd\"\u001b[0m\u001b[0;34m,\u001b[0m \u001b[0mextra\u001b[0m\u001b[0;34m=\u001b[0m\u001b[0merr_msg\u001b[0m\u001b[0;34m)\u001b[0m\u001b[0;34m\u001b[0m\u001b[0;34m\u001b[0m\u001b[0m\n\u001b[0;32m---> 22\u001b[0;31m         \u001b[0msuper\u001b[0m\u001b[0;34m(\u001b[0m\u001b[0;34m)\u001b[0m\u001b[0;34m.\u001b[0m\u001b[0m__init__\u001b[0m\u001b[0;34m(\u001b[0m\u001b[0mfilepath_or_buffer\u001b[0m\u001b[0;34m)\u001b[0m\u001b[0;34m\u001b[0m\u001b[0;34m\u001b[0m\u001b[0m\n\u001b[0m\u001b[1;32m     23\u001b[0m \u001b[0;34m\u001b[0m\u001b[0m\n\u001b[1;32m     24\u001b[0m     \u001b[0;34m@\u001b[0m\u001b[0mproperty\u001b[0m\u001b[0;34m\u001b[0m\u001b[0;34m\u001b[0m\u001b[0m\n",
            "\u001b[0;32m/usr/local/lib/python3.7/dist-packages/pandas/io/excel/_base.py\u001b[0m in \u001b[0;36m__init__\u001b[0;34m(self, filepath_or_buffer)\u001b[0m\n\u001b[1;32m    351\u001b[0m             \u001b[0mself\u001b[0m\u001b[0;34m.\u001b[0m\u001b[0mbook\u001b[0m \u001b[0;34m=\u001b[0m \u001b[0mself\u001b[0m\u001b[0;34m.\u001b[0m\u001b[0mload_workbook\u001b[0m\u001b[0;34m(\u001b[0m\u001b[0mfilepath_or_buffer\u001b[0m\u001b[0;34m)\u001b[0m\u001b[0;34m\u001b[0m\u001b[0;34m\u001b[0m\u001b[0m\n\u001b[1;32m    352\u001b[0m         \u001b[0;32melif\u001b[0m \u001b[0misinstance\u001b[0m\u001b[0;34m(\u001b[0m\u001b[0mfilepath_or_buffer\u001b[0m\u001b[0;34m,\u001b[0m \u001b[0mstr\u001b[0m\u001b[0;34m)\u001b[0m\u001b[0;34m:\u001b[0m\u001b[0;34m\u001b[0m\u001b[0;34m\u001b[0m\u001b[0m\n\u001b[0;32m--> 353\u001b[0;31m             \u001b[0mself\u001b[0m\u001b[0;34m.\u001b[0m\u001b[0mbook\u001b[0m \u001b[0;34m=\u001b[0m \u001b[0mself\u001b[0m\u001b[0;34m.\u001b[0m\u001b[0mload_workbook\u001b[0m\u001b[0;34m(\u001b[0m\u001b[0mfilepath_or_buffer\u001b[0m\u001b[0;34m)\u001b[0m\u001b[0;34m\u001b[0m\u001b[0;34m\u001b[0m\u001b[0m\n\u001b[0m\u001b[1;32m    354\u001b[0m         \u001b[0;32melif\u001b[0m \u001b[0misinstance\u001b[0m\u001b[0;34m(\u001b[0m\u001b[0mfilepath_or_buffer\u001b[0m\u001b[0;34m,\u001b[0m \u001b[0mbytes\u001b[0m\u001b[0;34m)\u001b[0m\u001b[0;34m:\u001b[0m\u001b[0;34m\u001b[0m\u001b[0;34m\u001b[0m\u001b[0m\n\u001b[1;32m    355\u001b[0m             \u001b[0mself\u001b[0m\u001b[0;34m.\u001b[0m\u001b[0mbook\u001b[0m \u001b[0;34m=\u001b[0m \u001b[0mself\u001b[0m\u001b[0;34m.\u001b[0m\u001b[0mload_workbook\u001b[0m\u001b[0;34m(\u001b[0m\u001b[0mBytesIO\u001b[0m\u001b[0;34m(\u001b[0m\u001b[0mfilepath_or_buffer\u001b[0m\u001b[0;34m)\u001b[0m\u001b[0;34m)\u001b[0m\u001b[0;34m\u001b[0m\u001b[0;34m\u001b[0m\u001b[0m\n",
            "\u001b[0;32m/usr/local/lib/python3.7/dist-packages/pandas/io/excel/_xlrd.py\u001b[0m in \u001b[0;36mload_workbook\u001b[0;34m(self, filepath_or_buffer)\u001b[0m\n\u001b[1;32m     35\u001b[0m             \u001b[0;32mreturn\u001b[0m \u001b[0mopen_workbook\u001b[0m\u001b[0;34m(\u001b[0m\u001b[0mfile_contents\u001b[0m\u001b[0;34m=\u001b[0m\u001b[0mdata\u001b[0m\u001b[0;34m)\u001b[0m\u001b[0;34m\u001b[0m\u001b[0;34m\u001b[0m\u001b[0m\n\u001b[1;32m     36\u001b[0m         \u001b[0;32melse\u001b[0m\u001b[0;34m:\u001b[0m\u001b[0;34m\u001b[0m\u001b[0;34m\u001b[0m\u001b[0m\n\u001b[0;32m---> 37\u001b[0;31m             \u001b[0;32mreturn\u001b[0m \u001b[0mopen_workbook\u001b[0m\u001b[0;34m(\u001b[0m\u001b[0mfilepath_or_buffer\u001b[0m\u001b[0;34m)\u001b[0m\u001b[0;34m\u001b[0m\u001b[0;34m\u001b[0m\u001b[0m\n\u001b[0m\u001b[1;32m     38\u001b[0m \u001b[0;34m\u001b[0m\u001b[0m\n\u001b[1;32m     39\u001b[0m     \u001b[0;34m@\u001b[0m\u001b[0mproperty\u001b[0m\u001b[0;34m\u001b[0m\u001b[0;34m\u001b[0m\u001b[0m\n",
            "\u001b[0;32m/usr/local/lib/python3.7/dist-packages/xlrd/__init__.py\u001b[0m in \u001b[0;36mopen_workbook\u001b[0;34m(filename, logfile, verbosity, use_mmap, file_contents, encoding_override, formatting_info, on_demand, ragged_rows)\u001b[0m\n\u001b[1;32m    114\u001b[0m         \u001b[0mpeek\u001b[0m \u001b[0;34m=\u001b[0m \u001b[0mfile_contents\u001b[0m\u001b[0;34m[\u001b[0m\u001b[0;34m:\u001b[0m\u001b[0mpeeksz\u001b[0m\u001b[0;34m]\u001b[0m\u001b[0;34m\u001b[0m\u001b[0;34m\u001b[0m\u001b[0m\n\u001b[1;32m    115\u001b[0m     \u001b[0;32melse\u001b[0m\u001b[0;34m:\u001b[0m\u001b[0;34m\u001b[0m\u001b[0;34m\u001b[0m\u001b[0m\n\u001b[0;32m--> 116\u001b[0;31m         \u001b[0;32mwith\u001b[0m \u001b[0mopen\u001b[0m\u001b[0;34m(\u001b[0m\u001b[0mfilename\u001b[0m\u001b[0;34m,\u001b[0m \u001b[0;34m\"rb\"\u001b[0m\u001b[0;34m)\u001b[0m \u001b[0;32mas\u001b[0m \u001b[0mf\u001b[0m\u001b[0;34m:\u001b[0m\u001b[0;34m\u001b[0m\u001b[0;34m\u001b[0m\u001b[0m\n\u001b[0m\u001b[1;32m    117\u001b[0m             \u001b[0mpeek\u001b[0m \u001b[0;34m=\u001b[0m \u001b[0mf\u001b[0m\u001b[0;34m.\u001b[0m\u001b[0mread\u001b[0m\u001b[0;34m(\u001b[0m\u001b[0mpeeksz\u001b[0m\u001b[0;34m)\u001b[0m\u001b[0;34m\u001b[0m\u001b[0;34m\u001b[0m\u001b[0m\n\u001b[1;32m    118\u001b[0m     \u001b[0;32mif\u001b[0m \u001b[0mpeek\u001b[0m \u001b[0;34m==\u001b[0m \u001b[0;34mb\"PK\\x03\\x04\"\u001b[0m\u001b[0;34m:\u001b[0m \u001b[0;31m# a ZIP file\u001b[0m\u001b[0;34m\u001b[0m\u001b[0;34m\u001b[0m\u001b[0m\n",
            "\u001b[0;31mIsADirectoryError\u001b[0m: [Errno 21] Is a directory: 'drive'"
          ]
        }
      ]
    },
    {
      "cell_type": "markdown",
      "source": [
        "Add column for trial numnber"
      ],
      "metadata": {
        "id": "pMC_QVgTrqi5"
      }
    },
    {
      "cell_type": "code",
      "source": [
        "#asphalt\n",
        "skip_asphalt_3=list(range(1,len(df_grass_5)+1,round(len(df_grass_5)/(1926*4))))\n",
        "skip_asphalt_3=np.array(skip_asphalt_3)\n",
        "for cnt in range(1,len(df_asphalt_3)):\n",
        "  if cnt==(skip_asphalt_3).any(): \n",
        "    cnt=+1\n",
        "    df_asphalt_3['trial_number']=cnt \n",
        "  else:\n",
        "    df_asphalt_3['trial_number']=cnt \n",
        "#grass\n",
        "skip_grass_3=list(range(1,len(df_grass_5)+1,round(len(df_grass_5)/(1926*4))))\n",
        "skip_grass_3=np.array(my_list)\n",
        "for cnt_g in range(1,len(df_asphalt_3)):\n",
        "  if cnt_g==skip_grass_3: \n",
        "    cnt_g=+1  \n",
        "    df_grass_3['trial_number']=cnt_g\n",
        "    df_grass_3['trial_number']=cnt_g"
      ],
      "metadata": {
        "id": "g-80PQ_7qamU"
      },
      "execution_count": null,
      "outputs": []
    },
    {
      "cell_type": "markdown",
      "source": [
        "Creating a tensor with specific shape (trial x channel x frame)"
      ],
      "metadata": {
        "id": "iQhcmkV-nQ0e"
      }
    },
    {
      "cell_type": "code",
      "source": [
        "def create_tensor(df_a,df_g):\n",
        "  #tensor asphalt\n",
        "  trials_a=len(df_a)/(1926*4) # how many trials\n",
        "  T_asphalt=np.stack(np.split(df_a.values, trials_a), axis=1)\n",
        "  #tensor grass\n",
        "  trials_g=len(df_g)/(1926*4) # how many trials\n",
        "  T_grass=np.stack(np.split(df_g.values, trials_g), axis=1)\n",
        "  #tensor both conditions\n",
        "  a=tf.constant(T_asphalt)\n",
        "  g=tf.constant(T_grass)\n",
        "  T = tf.concat([a, g], axis=0)\n",
        "\n",
        "  return T"
      ],
      "metadata": {
        "id": "UHfE5GKUBC1U"
      },
      "execution_count": 47,
      "outputs": []
    },
    {
      "cell_type": "code",
      "source": [
        "# T1=create_tensor(df_asphalt_1,df_grass_1)\n",
        "# print(\"T1 shape:\", T1.shape)\n",
        "\n",
        "T3=create_tensor(df_asphalt_3,df_grass_3)\n",
        "print(\"T3 shape:\", T3.shape)\n",
        "\n",
        "T5=create_tensor(df_asphalt_5,df_grass_5)\n",
        "print(\"T5 shape:\", T5.shape)\n",
        "\n",
        "# T7=create_tensor(df_asphalt_7,df_grass_7)\n",
        "# print(\"T7 shape:\", T7.shape)\n",
        "\n",
        "# T9=create_tensor(df_asphalt_9,df_grass_9)\n",
        "# print(\"T9 shape:\", T9.shape)\n"
      ],
      "metadata": {
        "colab": {
          "base_uri": "https://localhost:8080/"
        },
        "id": "M5u7aYw_B2ef",
        "outputId": "9a89202b-5130-4a1f-b98c-2ec11721e979"
      },
      "execution_count": 56,
      "outputs": [
        {
          "output_type": "stream",
          "name": "stdout",
          "text": [
            "T3 shape: (15408, 80, 8)\n",
            "T5 shape: (15408, 80, 8)\n"
          ]
        }
      ]
    },
    {
      "cell_type": "markdown",
      "source": [
        "Save in drive (pickle)"
      ],
      "metadata": {
        "id": "YeucnmdmnLTl"
      }
    },
    {
      "cell_type": "code",
      "source": [
        "#only do once\n",
        "import pickle\n",
        "def save_pickle(path_pickle,T):\n",
        "  f = open(path_pickle, 'wb')\n",
        "  pickle.dump(T, f)\n",
        "  f.close()\n",
        "\n",
        "  return f \n",
        "\n",
        "#call function\n",
        "# f1=save_pickle('/content/drive/MyDrive/Gab/Variables_saved/T1.pickle',T1)\n",
        "f3=save_pickle('/content/drive/MyDrive/Gab/Variables_saved/T3.pickle',T3)\n",
        "f5=save_pickle('/content/drive/MyDrive/Gab/Variables_saved/T5.pickle',T5)\n",
        "# f7=save_pickle('/content/drive/MyDrive/Gab/Variables_saved/T7.pickle',T7)\n",
        "# f9=save_pickle('/content/drive/MyDrive/Gab/Variables_saved/T9.pickle',T9)\n"
      ],
      "metadata": {
        "id": "G0rbfVlgrtbW"
      },
      "execution_count": null,
      "outputs": []
    },
    {
      "cell_type": "code",
      "source": [
        "def open_pickle(path_pickle,f):\n",
        "  f = open(path_pickle, 'rb')\n",
        "  T = pickle.load(f)\n",
        "  f.close()\n",
        "\n",
        "  return T\n",
        "\n",
        "#call function\n",
        "# T1=open_pickle('/content/drive/MyDrive/Gab/Variables_saved/T1.pickle',f1)\n",
        "T3=open_pickle('/content/drive/MyDrive/Gab/Variables_saved/T3.pickle',T3)\n",
        "T5=open_pickle('/content/drive/MyDrive/Gab/Variables_saved/T5.pickle',f5)\n",
        "# T7=open_pickle('/content/drive/MyDrive/Gab/Variables_saved/T7.pickle',f7)\n",
        "# T9=open_pickle('/content/drive/MyDrive/Gab/Variables_saved/T9.pickle',f9)\n"
      ],
      "metadata": {
        "colab": {
          "base_uri": "https://localhost:8080/",
          "height": 270
        },
        "id": "gOaFOvNro_cq",
        "outputId": "0c9095cf-f652-4b3f-c6e6-0311a84aa0f6"
      },
      "execution_count": 10,
      "outputs": [
        {
          "output_type": "error",
          "ename": "NameError",
          "evalue": "ignored",
          "traceback": [
            "\u001b[0;31m---------------------------------------------------------------------------\u001b[0m",
            "\u001b[0;31mNameError\u001b[0m                                 Traceback (most recent call last)",
            "\u001b[0;32m<ipython-input-10-c00be5e90247>\u001b[0m in \u001b[0;36m<module>\u001b[0;34m()\u001b[0m\n\u001b[1;32m      8\u001b[0m \u001b[0;31m#call function\u001b[0m\u001b[0;34m\u001b[0m\u001b[0;34m\u001b[0m\u001b[0;34m\u001b[0m\u001b[0m\n\u001b[1;32m      9\u001b[0m \u001b[0;31m# T1=open_pickle('/content/drive/MyDrive/Gab/Variables_saved/T1.pickle',f1)\u001b[0m\u001b[0;34m\u001b[0m\u001b[0;34m\u001b[0m\u001b[0;34m\u001b[0m\u001b[0m\n\u001b[0;32m---> 10\u001b[0;31m \u001b[0mT3\u001b[0m\u001b[0;34m=\u001b[0m\u001b[0mopen_pickle\u001b[0m\u001b[0;34m(\u001b[0m\u001b[0;34m'/content/drive/MyDrive/Gab/Variables_saved/T3.pickle'\u001b[0m\u001b[0;34m,\u001b[0m\u001b[0mT3\u001b[0m\u001b[0;34m)\u001b[0m\u001b[0;34m\u001b[0m\u001b[0;34m\u001b[0m\u001b[0m\n\u001b[0m\u001b[1;32m     11\u001b[0m \u001b[0mT5\u001b[0m\u001b[0;34m=\u001b[0m\u001b[0mopen_pickle\u001b[0m\u001b[0;34m(\u001b[0m\u001b[0;34m'/content/drive/MyDrive/Gab/Variables_saved/T5.pickle'\u001b[0m\u001b[0;34m,\u001b[0m\u001b[0mT5\u001b[0m\u001b[0;34m)\u001b[0m\u001b[0;34m\u001b[0m\u001b[0;34m\u001b[0m\u001b[0m\n\u001b[1;32m     12\u001b[0m \u001b[0;31m# T7=open_pickle('/content/drive/MyDrive/Gab/Variables_saved/T7.pickle',f7)\u001b[0m\u001b[0;34m\u001b[0m\u001b[0;34m\u001b[0m\u001b[0;34m\u001b[0m\u001b[0m\n",
            "\u001b[0;31mNameError\u001b[0m: name 'T3' is not defined"
          ]
        }
      ]
    },
    {
      "cell_type": "markdown",
      "source": [
        "Final input data and label reshaping"
      ],
      "metadata": {
        "id": "sA92m0gfnBV7"
      }
    },
    {
      "cell_type": "code",
      "source": [
        "import pandas as pd \n",
        "#participant size= number of trials \n",
        "participant_size_3= len(T3)\n",
        "participant_size_5= len(T5)\n",
        "\n",
        "#X-data with shape (trialxchannelsxframe)=(80trials  x 4channels x (1926frames x 4sec x 2surfaces x n-participants))\n",
        "T = tf.concat([T3, T5], axis=0) # 2 participants just for testing \n",
        "X=T[:, :, 1:5].numpy()\n",
        "print(\"Data shape:\", X.shape)\n",
        "#Y-categorical encoded label = 1 for asphalt and 0 for grass \n",
        "y=T[:,:,6].numpy()\n",
        "print(\"Label shape:\", y.shape)\n",
        "X\n"
      ],
      "metadata": {
        "colab": {
          "base_uri": "https://localhost:8080/"
        },
        "id": "G_skl9ddffhv",
        "outputId": "16e09071-b933-494a-f2e3-9e2b8b73d9a1"
      },
      "execution_count": 98,
      "outputs": [
        {
          "output_type": "stream",
          "name": "stdout",
          "text": [
            "Data shape: (30816, 80, 4)\n",
            "Label shape: (30816, 80)\n"
          ]
        },
        {
          "output_type": "execute_result",
          "data": {
            "text/plain": [
              "array([[[ 2.51773872e-06, -4.19623120e-06,  1.67849237e-07,\n",
              "          0.00000000e+00],\n",
              "        [ 5.93011384e-04, -1.61470976e-04, -9.21492319e-05,\n",
              "         -5.55580991e-05],\n",
              "        [ 4.64942386e-05,  0.00000000e+00, -2.09811551e-05,\n",
              "          2.52780970e-04],\n",
              "        ...,\n",
              "        [-7.88891430e-06,  5.76562132e-04,  3.42412459e-05,\n",
              "         -1.35454335e-04],\n",
              "        [ 2.53452345e-05,  6.96574352e-05,  1.10780502e-05,\n",
              "         -9.91989000e-05],\n",
              "        [ 5.62294954e-05,  1.49217973e-04,  3.02128628e-05,\n",
              "         -2.70740828e-04]],\n",
              "\n",
              "       [[ 1.84634166e-06,  3.18913567e-06, -1.67849237e-07,\n",
              "          0.00000000e+00],\n",
              "        [ 5.78240608e-04, -2.08636600e-04, -7.16716240e-05,\n",
              "         -1.93026626e-05],\n",
              "        [-7.04966806e-05,  0.00000000e+00, -2.16525514e-05,\n",
              "          2.41535061e-04],\n",
              "        ...,\n",
              "        [ 3.82696271e-05,  5.55077451e-04,  3.28984497e-05,\n",
              "         -1.11284047e-04],\n",
              "        [ 4.90119783e-05,  8.02319337e-05,  1.00709549e-05,\n",
              "         -8.96314959e-05],\n",
              "        [ 5.35439067e-05,  1.23369187e-04,  1.04066530e-05,\n",
              "         -2.96589598e-04]],\n",
              "\n",
              "       [[ 1.51064319e-06,  4.19623120e-06,  1.51064319e-06,\n",
              "          0.00000000e+00],\n",
              "        [ 5.44335111e-04, -1.89501792e-04, -4.34729518e-05,\n",
              "         -2.85343708e-06],\n",
              "        [-6.51255032e-05,  0.00000000e+00, -2.31631948e-05,\n",
              "          1.99572751e-04],\n",
              "        ...,\n",
              "        [ 1.02891587e-04,  5.58434404e-04,  2.98771647e-05,\n",
              "         -5.92507822e-05],\n",
              "        [ 6.16006728e-05,  7.87212921e-05,  1.09102002e-05,\n",
              "         -7.93926883e-05],\n",
              "        [ 5.53902501e-05,  1.00205994e-04, -5.87472323e-06,\n",
              "         -3.22774082e-04]],\n",
              "\n",
              "       ...,\n",
              "\n",
              "       [[-1.34950795e-04, -1.04402228e-04,  1.80437928e-04,\n",
              "          4.93476764e-05],\n",
              "        [ 0.00000000e+00, -1.84634173e-05,  0.00000000e+00,\n",
              "         -1.34615097e-04],\n",
              "        [ 3.48958565e-04, -3.47447931e-05,  1.30922408e-05,\n",
              "         -4.88441292e-05],\n",
              "        ...,\n",
              "        [ 0.00000000e+00, -2.25757234e-04, -3.65911328e-05,\n",
              "          3.86053262e-06],\n",
              "        [ 3.86053262e-06, -1.00877391e-04,  3.07164119e-05,\n",
              "         -9.39955771e-06],\n",
              "        [ 0.00000000e+00,  9.06385867e-06,  0.00000000e+00,\n",
              "         -5.08583216e-05]],\n",
              "\n",
              "       [[-1.25215534e-04, -1.14641029e-04,  1.56603346e-04,\n",
              "          9.56740678e-06],\n",
              "        [ 0.00000000e+00, -2.36667438e-05,  0.00000000e+00,\n",
              "         -1.42504010e-04],\n",
              "        [ 3.10688949e-04, -3.57518875e-05,  1.39314870e-05,\n",
              "         -5.55580991e-05],\n",
              "        ...,\n",
              "        [ 0.00000000e+00, -2.12664992e-04, -3.94445706e-05,\n",
              "         -9.23170865e-06],\n",
              "        [ 5.03547744e-06, -1.04234379e-04,  2.87022194e-05,\n",
              "         -9.56740678e-06],\n",
              "        [ 0.00000000e+00,  4.88441292e-05,  0.00000000e+00,\n",
              "         -6.89860390e-05]],\n",
              "\n",
              "       [[-1.12794689e-04, -8.81208543e-05,  1.31761655e-04,\n",
              "         -6.88181899e-06],\n",
              "        [ 0.00000000e+00, -2.71915778e-05,  0.00000000e+00,\n",
              "         -1.45525293e-04],\n",
              "        [ 1.78759437e-04, -3.60875856e-05,  1.29243917e-05,\n",
              "         -6.52933522e-05],\n",
              "        ...,\n",
              "        [ 0.00000000e+00, -1.94872962e-04, -4.36408009e-05,\n",
              "         -3.13878081e-05],\n",
              "        [ 3.35698473e-06, -1.15983828e-04,  2.71915778e-05,\n",
              "         -8.89600960e-06],\n",
              "        [ 0.00000000e+00,  8.56031111e-05,  0.00000000e+00,\n",
              "         -7.30144166e-05]]])"
            ]
          },
          "metadata": {},
          "execution_count": 98
        }
      ]
    },
    {
      "cell_type": "markdown",
      "source": [
        "#Basic Convnet"
      ],
      "metadata": {
        "id": "L1J9VGjrm8fe"
      }
    },
    {
      "cell_type": "code",
      "execution_count": 88,
      "metadata": {
        "id": "Emp2BA5s1bgS"
      },
      "outputs": [],
      "source": [
        "from keras import layers \n",
        "from keras import models\n",
        "\n",
        "#Instantiating a small convnet\n",
        "model = models.Sequential()\n",
        "model.add(layers.Conv2D(32, (3, 3), activation='relu', input_shape=(24652, 80, 4))) \n",
        "model.add(layers.MaxPooling2D((2, 2)))\n",
        "model.add(layers.Conv2D(64, (3, 3), activation='relu')) \n",
        "model.add(layers.MaxPooling2D((2, 2)))\n",
        "model.add(layers.Conv2D(64, (3, 3), activation='relu'))"
      ]
    },
    {
      "cell_type": "code",
      "source": [
        "model.summary()"
      ],
      "metadata": {
        "colab": {
          "base_uri": "https://localhost:8080/"
        },
        "id": "NXA_-_YxstK4",
        "outputId": "225007a8-a70c-4f8a-8924-1e88ba50ed70"
      },
      "execution_count": 89,
      "outputs": [
        {
          "output_type": "stream",
          "name": "stdout",
          "text": [
            "Model: \"sequential_1\"\n",
            "_________________________________________________________________\n",
            " Layer (type)                Output Shape              Param #   \n",
            "=================================================================\n",
            " conv2d_3 (Conv2D)           (None, 30814, 78, 32)     1184      \n",
            "                                                                 \n",
            " max_pooling2d_2 (MaxPooling  (None, 15407, 39, 32)    0         \n",
            " 2D)                                                             \n",
            "                                                                 \n",
            " conv2d_4 (Conv2D)           (None, 15405, 37, 64)     18496     \n",
            "                                                                 \n",
            " max_pooling2d_3 (MaxPooling  (None, 7702, 18, 64)     0         \n",
            " 2D)                                                             \n",
            "                                                                 \n",
            " conv2d_5 (Conv2D)           (None, 7700, 16, 64)      36928     \n",
            "                                                                 \n",
            "=================================================================\n",
            "Total params: 56,608\n",
            "Trainable params: 56,608\n",
            "Non-trainable params: 0\n",
            "_________________________________________________________________\n"
          ]
        }
      ]
    },
    {
      "cell_type": "code",
      "source": [
        "#Adding a classifier on top of the convnet\n",
        "model.add(layers.Flatten()) \n",
        "model.add(layers.Dense(64, activation='relu')) \n",
        "model.add(layers.Dense(2, activation='sigmoid'))\n"
      ],
      "metadata": {
        "id": "ErdBlAONuFC_"
      },
      "execution_count": 91,
      "outputs": []
    },
    {
      "cell_type": "code",
      "source": [
        "model.summary()"
      ],
      "metadata": {
        "colab": {
          "base_uri": "https://localhost:8080/"
        },
        "id": "KG-15pZ-uFnZ",
        "outputId": "aa4ea473-e23e-411f-be75-9149dc227217"
      },
      "execution_count": 92,
      "outputs": [
        {
          "output_type": "stream",
          "name": "stdout",
          "text": [
            "Model: \"sequential_1\"\n",
            "_________________________________________________________________\n",
            " Layer (type)                Output Shape              Param #   \n",
            "=================================================================\n",
            " conv2d_3 (Conv2D)           (None, 30814, 78, 32)     1184      \n",
            "                                                                 \n",
            " max_pooling2d_2 (MaxPooling  (None, 15407, 39, 32)    0         \n",
            " 2D)                                                             \n",
            "                                                                 \n",
            " conv2d_4 (Conv2D)           (None, 15405, 37, 64)     18496     \n",
            "                                                                 \n",
            " max_pooling2d_3 (MaxPooling  (None, 7702, 18, 64)     0         \n",
            " 2D)                                                             \n",
            "                                                                 \n",
            " conv2d_5 (Conv2D)           (None, 7700, 16, 64)      36928     \n",
            "                                                                 \n",
            " flatten (Flatten)           (None, 7884800)           0         \n",
            "                                                                 \n",
            " dense (Dense)               (None, 64)                504627264 \n",
            "                                                                 \n",
            " dense_1 (Dense)             (None, 2)                 130       \n",
            "                                                                 \n",
            "=================================================================\n",
            "Total params: 504,684,002\n",
            "Trainable params: 504,684,002\n",
            "Non-trainable params: 0\n",
            "_________________________________________________________________\n"
          ]
        }
      ]
    },
    {
      "cell_type": "markdown",
      "source": [
        "Normalize data to be betwen 0 and 1"
      ],
      "metadata": {
        "id": "IRKcutYiQ2sg"
      }
    },
    {
      "cell_type": "code",
      "source": [
        "#max normal=[0,1] interval\n",
        "def normalization(emg):\n",
        "    max_data=max(emg)\n",
        "    min_data=min(emg)\n",
        "#itterer pour chaque column \n",
        "    emg_df = pd.DataFrame(emg)\n",
        "    emg_normalized_all=[]\n",
        "    for i in range(0,len(emg_df)):\n",
        "      EMG_normalized=(emg_df.iloc[i]-min_data)/(max_data-min_data)\n",
        "      emg_normalized_all.append(EMG_normalized)# adding the element to the array\n",
        "\n",
        "    return emg_normalized_all"
      ],
      "metadata": {
        "id": "JWetVRKCQr2m"
      },
      "execution_count": null,
      "outputs": []
    },
    {
      "cell_type": "code",
      "source": [
        "#call normalization function-- individual muscle\n",
        "emg_nomali=normalization(emg) "
      ],
      "metadata": {
        "id": "toTEUie2Qz7l"
      },
      "execution_count": null,
      "outputs": []
    },
    {
      "cell_type": "code",
      "source": [
        "#Training the convnet on P03 and P05\n",
        "# from keras.utils import to_categorical\n",
        "from sklearn.model_selection import train_test_split\n",
        "X_train, X_test, y_train, y_test = train_test_split(X, y, test_size=0.2)\n",
        "print('shape data to train:', X_train.shape) # 80% of data to train \n",
        "\n",
        "model.compile(optimizer='rmsprop', loss='categorical_crossentropy', metrics=['accuracy']) \n",
        "model.fit(X_train, y_train, epochs=5, batch_size=7704) #1926*4"
      ],
      "metadata": {
        "colab": {
          "base_uri": "https://localhost:8080/",
          "height": 780
        },
        "id": "4RKrTWTZuaBz",
        "outputId": "6882f2a3-ec78-4b6d-a7c2-6f2444ff0296"
      },
      "execution_count": 104,
      "outputs": [
        {
          "output_type": "stream",
          "name": "stdout",
          "text": [
            "shape data to train: (24652, 80, 4)\n",
            "Epoch 1/5\n"
          ]
        },
        {
          "output_type": "error",
          "ename": "ValueError",
          "evalue": "ignored",
          "traceback": [
            "\u001b[0;31m---------------------------------------------------------------------------\u001b[0m",
            "\u001b[0;31mValueError\u001b[0m                                Traceback (most recent call last)",
            "\u001b[0;32m<ipython-input-104-be88d0e6822a>\u001b[0m in \u001b[0;36m<module>\u001b[0;34m()\u001b[0m\n\u001b[1;32m      7\u001b[0m model.compile(optimizer='rmsprop', loss='categorical_crossentropy',\n\u001b[1;32m      8\u001b[0m metrics=['accuracy']) \n\u001b[0;32m----> 9\u001b[0;31m \u001b[0mmodel\u001b[0m\u001b[0;34m.\u001b[0m\u001b[0mfit\u001b[0m\u001b[0;34m(\u001b[0m\u001b[0mX_train\u001b[0m\u001b[0;34m,\u001b[0m \u001b[0my_train\u001b[0m\u001b[0;34m,\u001b[0m \u001b[0mepochs\u001b[0m\u001b[0;34m=\u001b[0m\u001b[0;36m5\u001b[0m\u001b[0;34m,\u001b[0m \u001b[0mbatch_size\u001b[0m\u001b[0;34m=\u001b[0m\u001b[0;36m1926\u001b[0m\u001b[0;34m*\u001b[0m\u001b[0;36m4\u001b[0m\u001b[0;34m)\u001b[0m\u001b[0;34m\u001b[0m\u001b[0;34m\u001b[0m\u001b[0m\n\u001b[0m",
            "\u001b[0;32m/usr/local/lib/python3.7/dist-packages/keras/utils/traceback_utils.py\u001b[0m in \u001b[0;36merror_handler\u001b[0;34m(*args, **kwargs)\u001b[0m\n\u001b[1;32m     65\u001b[0m     \u001b[0;32mexcept\u001b[0m \u001b[0mException\u001b[0m \u001b[0;32mas\u001b[0m \u001b[0me\u001b[0m\u001b[0;34m:\u001b[0m  \u001b[0;31m# pylint: disable=broad-except\u001b[0m\u001b[0;34m\u001b[0m\u001b[0;34m\u001b[0m\u001b[0m\n\u001b[1;32m     66\u001b[0m       \u001b[0mfiltered_tb\u001b[0m \u001b[0;34m=\u001b[0m \u001b[0m_process_traceback_frames\u001b[0m\u001b[0;34m(\u001b[0m\u001b[0me\u001b[0m\u001b[0;34m.\u001b[0m\u001b[0m__traceback__\u001b[0m\u001b[0;34m)\u001b[0m\u001b[0;34m\u001b[0m\u001b[0;34m\u001b[0m\u001b[0m\n\u001b[0;32m---> 67\u001b[0;31m       \u001b[0;32mraise\u001b[0m \u001b[0me\u001b[0m\u001b[0;34m.\u001b[0m\u001b[0mwith_traceback\u001b[0m\u001b[0;34m(\u001b[0m\u001b[0mfiltered_tb\u001b[0m\u001b[0;34m)\u001b[0m \u001b[0;32mfrom\u001b[0m \u001b[0;32mNone\u001b[0m\u001b[0;34m\u001b[0m\u001b[0;34m\u001b[0m\u001b[0m\n\u001b[0m\u001b[1;32m     68\u001b[0m     \u001b[0;32mfinally\u001b[0m\u001b[0;34m:\u001b[0m\u001b[0;34m\u001b[0m\u001b[0;34m\u001b[0m\u001b[0m\n\u001b[1;32m     69\u001b[0m       \u001b[0;32mdel\u001b[0m \u001b[0mfiltered_tb\u001b[0m\u001b[0;34m\u001b[0m\u001b[0;34m\u001b[0m\u001b[0m\n",
            "\u001b[0;32m/usr/local/lib/python3.7/dist-packages/tensorflow/python/framework/func_graph.py\u001b[0m in \u001b[0;36mautograph_handler\u001b[0;34m(*args, **kwargs)\u001b[0m\n\u001b[1;32m   1127\u001b[0m           \u001b[0;32mexcept\u001b[0m \u001b[0mException\u001b[0m \u001b[0;32mas\u001b[0m \u001b[0me\u001b[0m\u001b[0;34m:\u001b[0m  \u001b[0;31m# pylint:disable=broad-except\u001b[0m\u001b[0;34m\u001b[0m\u001b[0;34m\u001b[0m\u001b[0m\n\u001b[1;32m   1128\u001b[0m             \u001b[0;32mif\u001b[0m \u001b[0mhasattr\u001b[0m\u001b[0;34m(\u001b[0m\u001b[0me\u001b[0m\u001b[0;34m,\u001b[0m \u001b[0;34m\"ag_error_metadata\"\u001b[0m\u001b[0;34m)\u001b[0m\u001b[0;34m:\u001b[0m\u001b[0;34m\u001b[0m\u001b[0;34m\u001b[0m\u001b[0m\n\u001b[0;32m-> 1129\u001b[0;31m               \u001b[0;32mraise\u001b[0m \u001b[0me\u001b[0m\u001b[0;34m.\u001b[0m\u001b[0mag_error_metadata\u001b[0m\u001b[0;34m.\u001b[0m\u001b[0mto_exception\u001b[0m\u001b[0;34m(\u001b[0m\u001b[0me\u001b[0m\u001b[0;34m)\u001b[0m\u001b[0;34m\u001b[0m\u001b[0;34m\u001b[0m\u001b[0m\n\u001b[0m\u001b[1;32m   1130\u001b[0m             \u001b[0;32melse\u001b[0m\u001b[0;34m:\u001b[0m\u001b[0;34m\u001b[0m\u001b[0;34m\u001b[0m\u001b[0m\n\u001b[1;32m   1131\u001b[0m               \u001b[0;32mraise\u001b[0m\u001b[0;34m\u001b[0m\u001b[0;34m\u001b[0m\u001b[0m\n",
            "\u001b[0;31mValueError\u001b[0m: in user code:\n\n    File \"/usr/local/lib/python3.7/dist-packages/keras/engine/training.py\", line 878, in train_function  *\n        return step_function(self, iterator)\n    File \"/usr/local/lib/python3.7/dist-packages/keras/engine/training.py\", line 867, in step_function  **\n        outputs = model.distribute_strategy.run(run_step, args=(data,))\n    File \"/usr/local/lib/python3.7/dist-packages/keras/engine/training.py\", line 860, in run_step  **\n        outputs = model.train_step(data)\n    File \"/usr/local/lib/python3.7/dist-packages/keras/engine/training.py\", line 808, in train_step\n        y_pred = self(x, training=True)\n    File \"/usr/local/lib/python3.7/dist-packages/keras/utils/traceback_utils.py\", line 67, in error_handler\n        raise e.with_traceback(filtered_tb) from None\n    File \"/usr/local/lib/python3.7/dist-packages/keras/engine/input_spec.py\", line 263, in assert_input_compatibility\n        raise ValueError(f'Input {input_index} of layer \"{layer_name}\" is '\n\n    ValueError: Input 0 of layer \"sequential_1\" is incompatible with the layer: expected shape=(None, 30816, 80, 4), found shape=(None, 80, 4)\n"
          ]
        }
      ]
    },
    {
      "cell_type": "code",
      "source": [
        "#test accuracy\n",
        "test_loss, test_acc = model.evaluate(X_test, y_test)\n",
        "test_acc"
      ],
      "metadata": {
        "id": "0IDI4SyXvnkH"
      },
      "execution_count": null,
      "outputs": []
    }
  ]
}