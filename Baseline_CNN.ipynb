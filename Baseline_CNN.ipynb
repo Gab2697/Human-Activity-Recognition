{
  "nbformat": 4,
  "nbformat_minor": 0,
  "metadata": {
    "colab": {
      "name": "Baseline_CNN.ipynb",
      "provenance": [],
      "authorship_tag": "ABX9TyPmQPkKt1RrQs1ku9flaEXO",
      "include_colab_link": true
    },
    "kernelspec": {
      "name": "python3",
      "display_name": "Python 3"
    },
    "language_info": {
      "name": "python"
    }
  },
  "cells": [
    {
      "cell_type": "markdown",
      "metadata": {
        "id": "view-in-github",
        "colab_type": "text"
      },
      "source": [
        "<a href=\"https://colab.research.google.com/github/Gab2697/Human-Activity-Recognition/blob/master/Baseline_CNN.ipynb\" target=\"_parent\"><img src=\"https://colab.research.google.com/assets/colab-badge.svg\" alt=\"Open In Colab\"/></a>"
      ]
    },
    {
      "cell_type": "code",
      "source": [
        "#import\n",
        "import pandas as pd\n",
        "import tensorflow as tf\n",
        "import numpy as np\n",
        "import os"
      ],
      "metadata": {
        "id": "tlKC7Q-T1n3J"
      },
      "execution_count": 8,
      "outputs": []
    },
    {
      "cell_type": "code",
      "source": [
        "from google.colab import drive\n",
        "drive.mount('/content/drive')"
      ],
      "metadata": {
        "colab": {
          "base_uri": "https://localhost:8080/"
        },
        "id": "Q-p8SXx1eFtB",
        "outputId": "7b14e7d2-6935-4a8e-dddf-11d5984a08b0"
      },
      "execution_count": 2,
      "outputs": [
        {
          "output_type": "stream",
          "name": "stdout",
          "text": [
            "Mounted at /content/drive\n"
          ]
        }
      ]
    },
    {
      "cell_type": "markdown",
      "source": [
        "#Prepare the data"
      ],
      "metadata": {
        "id": "J8nQzfHVoH3v"
      }
    },
    {
      "cell_type": "markdown",
      "source": [
        "Function to load data, organize it by surface and add a specifique label depending on the name of the excel file"
      ],
      "metadata": {
        "id": "6MdXS-o5n2QX"
      }
    },
    {
      "cell_type": "code",
      "source": [
        "def load_data(path,keyword,col):\n",
        "\n",
        "  Window=1926*2 \n",
        "  df_asphalt = pd.DataFrame()\n",
        "  df_grass = pd.DataFrame()\n",
        "  for fname in os.listdir(path):\n",
        "    if keyword in fname: \n",
        "      os.chdir(path)\n",
        "      pd_xl_file = pd.ExcelFile(fname)\n",
        "      df = pd_xl_file.parse(\"Sheet1\") \n",
        "      dimensions = df.shape\n",
        "      Middle=int(dimensions[0]/2)\n",
        "      Participant=pd.read_excel(fname,sheet_name='Sheet1',  usecols = col)\n",
        "      Participant['label'] = pd.DataFrame(np.ones(dimensions[0]),dtype=int)\n",
        "      Participant=Participant.iloc[Middle-Window:Middle+Window]\n",
        "      df_asphalt = df_asphalt.append(Participant)\n",
        "      \n",
        "\n",
        "    else:\n",
        "      os.chdir(path)\n",
        "      pd_xl_file_grass = pd.ExcelFile(fname)\n",
        "      df2 = pd_xl_file_grass.parse(\"Sheet1\") \n",
        "      dimensions_grass = df2.shape\n",
        "      Middle_grass=int(dimensions_grass[0]/2)\n",
        "      Participant_grass=pd.read_excel(fname,sheet_name='Sheet1', usecols = col)\n",
        "      Participant_grass['label'] = pd.DataFrame(np.zeros(dimensions_grass[0]),dtype=int)\n",
        "      Participant_grass=Participant_grass.iloc[Middle_grass-Window:Middle_grass+Window]\n",
        "      df_grass = df_grass.append(Participant_grass)\n",
        "      \n",
        "  return df_asphalt, df_grass"
      ],
      "metadata": {
        "id": "6iyASZTEeGEO"
      },
      "execution_count": 9,
      "outputs": []
    },
    {
      "cell_type": "markdown",
      "source": [
        "Call load function and add specific columns (participant and trial number)"
      ],
      "metadata": {
        "id": "0aFvgcILngEC"
      }
    },
    {
      "cell_type": "code",
      "source": [
        "#P01\n",
        "path1= '/content/drive/MyDrive/Gab/P01/exported-1/'\n",
        "df_asphalt_1, df_grass_1= load_data(path1,'sidewalk',\"A,B,J,R,Z\")\n",
        "df_asphalt_1['participant_number']=1#add column for participant number\n",
        "df_grass_1['participant_number']=1#add column for participant number\n",
        "df_asphalt_1['trial_number']=list(range(1,len(df_asphalt_1)+1))#add column for trial number\n",
        "df_grass_1['trial_number']=list(range(1,len(df_grass_1)+1))#add column for trial number\n",
        "#P03\n",
        "path3= '/content/drive/MyDrive/Gab/P03/exported-emg/'\n",
        "df_asphalt_3, df_grass_3= load_data(path3,'asphalt',\"A,B,D,L,T\")\n",
        "df_asphalt_3['participant_number']=3\n",
        "df_grass_3['participant_number']=3\n",
        "df_asphalt_3['trial_number']=list(range(1,len(df_asphalt_3)+1))\n",
        "df_grass_3['trial_number']=list(range(1,len(df_grass_3)+1))\n",
        "#P05\n",
        "path5= '/content/drive/MyDrive/Gab/P05/exported-emg-5/'\n",
        "df_asphalt_5, df_grass_5= load_data(path5,'asphalt',\"A,B,D,L,T\")\n",
        "df_asphalt_5['participant_number']=5\n",
        "df_grass_5['participant_number']=5\n",
        "df_asphalt_5['trial_number']=list(range(1,len(df_asphalt_5)+1))\n",
        "df_grass_5['trial_number']=list(range(1,len(df_grass_5)+1))\n",
        "#P07\n",
        "path7= '/content/drive/MyDrive/Gab/P07/exported-emg-7/'\n",
        "df_asphalt_7, df_grass_7= load_data(path7,'asphalt',\"A,B,D,L,T\")\n",
        "df_asphalt_7['participant_number']=7\n",
        "df_grass_7['participant_number']=7\n",
        "df_asphalt_7['trial_number']=list(range(1,len(df_asphalt_7)+1))\n",
        "df_grass_7['trial_number']=list(range(1,len(df_grass_7)+1))\n",
        "#P09\n",
        "path9= '/content/drive/MyDrive/Gab/P09/exported-emg-9/'\n",
        "df_asphalt_9, df_grass_9= load_data(path9,'asphalt',\"A,B,D,L,T\")\n",
        "df_asphalt_9['participant_number']=9\n",
        "df_grass_9['participant_number']=9\n",
        "df_asphalt_9['trial_number']=list(range(1,len(df_asphalt_9)+1))\n",
        "df_grass_9['trial_number']=list(range(1,len(df_grass_9)+1))"
      ],
      "metadata": {
        "id": "xbhaWrbzeXtF"
      },
      "execution_count": null,
      "outputs": []
    },
    {
      "cell_type": "code",
      "source": [
        "df_asphalt_7"
      ],
      "metadata": {
        "colab": {
          "base_uri": "https://localhost:8080/",
          "height": 748
        },
        "id": "NP44RjkJ76Sk",
        "outputId": "237e01d2-fa83-4cdf-f686-3e74a593d8af"
      },
      "execution_count": 31,
      "outputs": [
        {
          "output_type": "execute_result",
          "data": {
            "text/html": [
              "\n",
              "  <div id=\"df-ed665d50-d389-4032-96cc-48efd8b995bd\">\n",
              "    <div class=\"colab-df-container\">\n",
              "      <div>\n",
              "<style scoped>\n",
              "    .dataframe tbody tr th:only-of-type {\n",
              "        vertical-align: middle;\n",
              "    }\n",
              "\n",
              "    .dataframe tbody tr th {\n",
              "        vertical-align: top;\n",
              "    }\n",
              "\n",
              "    .dataframe thead th {\n",
              "        text-align: right;\n",
              "    }\n",
              "</style>\n",
              "<table border=\"1\" class=\"dataframe\">\n",
              "  <thead>\n",
              "    <tr style=\"text-align: right;\">\n",
              "      <th></th>\n",
              "      <th>X [s]</th>\n",
              "      <th>Trigno sensor 1-TA: EMG 1 [Volts]</th>\n",
              "      <th>Trigno sensor 2-Gastroc: EMG 2 [Volts]</th>\n",
              "      <th>Trigno sensor 3-RF: EMG 3 [Volts]</th>\n",
              "      <th>Trigno sensor 4-BF: EMG 4 [Volts]</th>\n",
              "      <th>label</th>\n",
              "      <th>participant_number</th>\n",
              "      <th>trial_number</th>\n",
              "    </tr>\n",
              "  </thead>\n",
              "  <tbody>\n",
              "    <tr>\n",
              "      <th>5287</th>\n",
              "      <td>2.745173</td>\n",
              "      <td>1.510643e-06</td>\n",
              "      <td>0.000132</td>\n",
              "      <td>0.000039</td>\n",
              "      <td>-8.509956e-05</td>\n",
              "      <td>1</td>\n",
              "      <td>7</td>\n",
              "      <td>1</td>\n",
              "    </tr>\n",
              "    <tr>\n",
              "      <th>5288</th>\n",
              "      <td>2.745692</td>\n",
              "      <td>-7.721065e-06</td>\n",
              "      <td>0.000148</td>\n",
              "      <td>0.000046</td>\n",
              "      <td>-8.778516e-05</td>\n",
              "      <td>1</td>\n",
              "      <td>7</td>\n",
              "      <td>2</td>\n",
              "    </tr>\n",
              "    <tr>\n",
              "      <th>5289</th>\n",
              "      <td>2.746212</td>\n",
              "      <td>-9.231709e-06</td>\n",
              "      <td>0.000098</td>\n",
              "      <td>0.000047</td>\n",
              "      <td>-9.147784e-05</td>\n",
              "      <td>1</td>\n",
              "      <td>7</td>\n",
              "      <td>3</td>\n",
              "    </tr>\n",
              "    <tr>\n",
              "      <th>5290</th>\n",
              "      <td>2.746731</td>\n",
              "      <td>-1.174945e-05</td>\n",
              "      <td>0.000039</td>\n",
              "      <td>0.000043</td>\n",
              "      <td>-8.929580e-05</td>\n",
              "      <td>1</td>\n",
              "      <td>7</td>\n",
              "      <td>4</td>\n",
              "    </tr>\n",
              "    <tr>\n",
              "      <th>5291</th>\n",
              "      <td>2.747250</td>\n",
              "      <td>-1.443504e-05</td>\n",
              "      <td>0.000050</td>\n",
              "      <td>0.000042</td>\n",
              "      <td>-8.358892e-05</td>\n",
              "      <td>1</td>\n",
              "      <td>7</td>\n",
              "      <td>5</td>\n",
              "    </tr>\n",
              "    <tr>\n",
              "      <th>...</th>\n",
              "      <td>...</td>\n",
              "      <td>...</td>\n",
              "      <td>...</td>\n",
              "      <td>...</td>\n",
              "      <td>...</td>\n",
              "      <td>...</td>\n",
              "      <td>...</td>\n",
              "      <td>...</td>\n",
              "    </tr>\n",
              "    <tr>\n",
              "      <th>12024</th>\n",
              "      <td>6.243231</td>\n",
              "      <td>1.342794e-06</td>\n",
              "      <td>-0.000440</td>\n",
              "      <td>0.000003</td>\n",
              "      <td>2.182040e-06</td>\n",
              "      <td>1</td>\n",
              "      <td>7</td>\n",
              "      <td>624020</td>\n",
              "    </tr>\n",
              "    <tr>\n",
              "      <th>12025</th>\n",
              "      <td>6.243750</td>\n",
              "      <td>8.392462e-07</td>\n",
              "      <td>-0.000434</td>\n",
              "      <td>0.000003</td>\n",
              "      <td>6.713969e-07</td>\n",
              "      <td>1</td>\n",
              "      <td>7</td>\n",
              "      <td>624021</td>\n",
              "    </tr>\n",
              "    <tr>\n",
              "      <th>12026</th>\n",
              "      <td>6.244269</td>\n",
              "      <td>-3.860533e-06</td>\n",
              "      <td>-0.000422</td>\n",
              "      <td>0.000005</td>\n",
              "      <td>-6.713969e-07</td>\n",
              "      <td>1</td>\n",
              "      <td>7</td>\n",
              "      <td>624022</td>\n",
              "    </tr>\n",
              "    <tr>\n",
              "      <th>12027</th>\n",
              "      <td>6.244788</td>\n",
              "      <td>-8.392462e-06</td>\n",
              "      <td>-0.000409</td>\n",
              "      <td>0.000006</td>\n",
              "      <td>0.000000e+00</td>\n",
              "      <td>1</td>\n",
              "      <td>7</td>\n",
              "      <td>624023</td>\n",
              "    </tr>\n",
              "    <tr>\n",
              "      <th>12028</th>\n",
              "      <td>6.245308</td>\n",
              "      <td>-1.292439e-05</td>\n",
              "      <td>-0.000397</td>\n",
              "      <td>0.000007</td>\n",
              "      <td>1.846342e-06</td>\n",
              "      <td>1</td>\n",
              "      <td>7</td>\n",
              "      <td>624024</td>\n",
              "    </tr>\n",
              "  </tbody>\n",
              "</table>\n",
              "<p>624024 rows × 8 columns</p>\n",
              "</div>\n",
              "      <button class=\"colab-df-convert\" onclick=\"convertToInteractive('df-ed665d50-d389-4032-96cc-48efd8b995bd')\"\n",
              "              title=\"Convert this dataframe to an interactive table.\"\n",
              "              style=\"display:none;\">\n",
              "        \n",
              "  <svg xmlns=\"http://www.w3.org/2000/svg\" height=\"24px\"viewBox=\"0 0 24 24\"\n",
              "       width=\"24px\">\n",
              "    <path d=\"M0 0h24v24H0V0z\" fill=\"none\"/>\n",
              "    <path d=\"M18.56 5.44l.94 2.06.94-2.06 2.06-.94-2.06-.94-.94-2.06-.94 2.06-2.06.94zm-11 1L8.5 8.5l.94-2.06 2.06-.94-2.06-.94L8.5 2.5l-.94 2.06-2.06.94zm10 10l.94 2.06.94-2.06 2.06-.94-2.06-.94-.94-2.06-.94 2.06-2.06.94z\"/><path d=\"M17.41 7.96l-1.37-1.37c-.4-.4-.92-.59-1.43-.59-.52 0-1.04.2-1.43.59L10.3 9.45l-7.72 7.72c-.78.78-.78 2.05 0 2.83L4 21.41c.39.39.9.59 1.41.59.51 0 1.02-.2 1.41-.59l7.78-7.78 2.81-2.81c.8-.78.8-2.07 0-2.86zM5.41 20L4 18.59l7.72-7.72 1.47 1.35L5.41 20z\"/>\n",
              "  </svg>\n",
              "      </button>\n",
              "      \n",
              "  <style>\n",
              "    .colab-df-container {\n",
              "      display:flex;\n",
              "      flex-wrap:wrap;\n",
              "      gap: 12px;\n",
              "    }\n",
              "\n",
              "    .colab-df-convert {\n",
              "      background-color: #E8F0FE;\n",
              "      border: none;\n",
              "      border-radius: 50%;\n",
              "      cursor: pointer;\n",
              "      display: none;\n",
              "      fill: #1967D2;\n",
              "      height: 32px;\n",
              "      padding: 0 0 0 0;\n",
              "      width: 32px;\n",
              "    }\n",
              "\n",
              "    .colab-df-convert:hover {\n",
              "      background-color: #E2EBFA;\n",
              "      box-shadow: 0px 1px 2px rgba(60, 64, 67, 0.3), 0px 1px 3px 1px rgba(60, 64, 67, 0.15);\n",
              "      fill: #174EA6;\n",
              "    }\n",
              "\n",
              "    [theme=dark] .colab-df-convert {\n",
              "      background-color: #3B4455;\n",
              "      fill: #D2E3FC;\n",
              "    }\n",
              "\n",
              "    [theme=dark] .colab-df-convert:hover {\n",
              "      background-color: #434B5C;\n",
              "      box-shadow: 0px 1px 3px 1px rgba(0, 0, 0, 0.15);\n",
              "      filter: drop-shadow(0px 1px 2px rgba(0, 0, 0, 0.3));\n",
              "      fill: #FFFFFF;\n",
              "    }\n",
              "  </style>\n",
              "\n",
              "      <script>\n",
              "        const buttonEl =\n",
              "          document.querySelector('#df-ed665d50-d389-4032-96cc-48efd8b995bd button.colab-df-convert');\n",
              "        buttonEl.style.display =\n",
              "          google.colab.kernel.accessAllowed ? 'block' : 'none';\n",
              "\n",
              "        async function convertToInteractive(key) {\n",
              "          const element = document.querySelector('#df-ed665d50-d389-4032-96cc-48efd8b995bd');\n",
              "          const dataTable =\n",
              "            await google.colab.kernel.invokeFunction('convertToInteractive',\n",
              "                                                     [key], {});\n",
              "          if (!dataTable) return;\n",
              "\n",
              "          const docLinkHtml = 'Like what you see? Visit the ' +\n",
              "            '<a target=\"_blank\" href=https://colab.research.google.com/notebooks/data_table.ipynb>data table notebook</a>'\n",
              "            + ' to learn more about interactive tables.';\n",
              "          element.innerHTML = '';\n",
              "          dataTable['output_type'] = 'display_data';\n",
              "          await google.colab.output.renderOutput(dataTable, element);\n",
              "          const docLink = document.createElement('div');\n",
              "          docLink.innerHTML = docLinkHtml;\n",
              "          element.appendChild(docLink);\n",
              "        }\n",
              "      </script>\n",
              "    </div>\n",
              "  </div>\n",
              "  "
            ],
            "text/plain": [
              "          X [s]  ...  trial_number\n",
              "5287   2.745173  ...             1\n",
              "5288   2.745692  ...             2\n",
              "5289   2.746212  ...             3\n",
              "5290   2.746731  ...             4\n",
              "5291   2.747250  ...             5\n",
              "...         ...  ...           ...\n",
              "12024  6.243231  ...        624020\n",
              "12025  6.243750  ...        624021\n",
              "12026  6.244269  ...        624022\n",
              "12027  6.244788  ...        624023\n",
              "12028  6.245308  ...        624024\n",
              "\n",
              "[624024 rows x 8 columns]"
            ]
          },
          "metadata": {},
          "execution_count": 31
        }
      ]
    },
    {
      "cell_type": "markdown",
      "source": [
        "Creating a tensor with specific shape (trialxchannelxframe)"
      ],
      "metadata": {
        "id": "iQhcmkV-nQ0e"
      }
    },
    {
      "cell_type": "code",
      "source": [
        "def create_tensor(df_a,df_g):\n",
        "  #tensor asphalt\n",
        "  trials_a=len(df_a)/(1926*4) # how many trials\n",
        "  T_asphalt=np.stack(np.split(df_a.values, trials_a), axis=1)\n",
        "  #tensor grass\n",
        "  trials_g=len(df_g)/(1926*4) # how many trials\n",
        "  T_grass=np.stack(np.split(df_g.values, trials_g), axis=1)\n",
        "  #tensor both conditions\n",
        "  a=tf.constant(T_asphalt)\n",
        "  g=tf.constant(T_grass)\n",
        "  T = tf.concat([a, g], axis=0)\n",
        "\n",
        "  return T"
      ],
      "metadata": {
        "id": "UHfE5GKUBC1U"
      },
      "execution_count": 47,
      "outputs": []
    },
    {
      "cell_type": "code",
      "source": [
        "# T1=create_tensor(df_asphalt_1,df_grass_1)\n",
        "# print(\"T1 shape:\", T1.shape)\n",
        "\n",
        "T3=create_tensor(df_asphalt_3,df_grass_3)\n",
        "print(\"T3 shape:\", T3.shape)\n",
        "\n",
        "T5=create_tensor(df_asphalt_5,df_grass_5)\n",
        "print(\"T5 shape:\", T5.shape)\n",
        "\n",
        "# T7=create_tensor(df_asphalt_7,df_grass_7)\n",
        "# print(\"T7 shape:\", T7.shape)\n",
        "\n",
        "# T9=create_tensor(df_asphalt_9,df_grass_9)\n",
        "# print(\"T9 shape:\", T9.shape)\n"
      ],
      "metadata": {
        "colab": {
          "base_uri": "https://localhost:8080/"
        },
        "id": "M5u7aYw_B2ef",
        "outputId": "9a89202b-5130-4a1f-b98c-2ec11721e979"
      },
      "execution_count": 56,
      "outputs": [
        {
          "output_type": "stream",
          "name": "stdout",
          "text": [
            "T3 shape: (15408, 80, 8)\n",
            "T5 shape: (15408, 80, 8)\n"
          ]
        }
      ]
    },
    {
      "cell_type": "markdown",
      "source": [
        "Save in drive (pickle)"
      ],
      "metadata": {
        "id": "YeucnmdmnLTl"
      }
    },
    {
      "cell_type": "code",
      "source": [
        "#only do once\n",
        "import pickle\n",
        "def save_pickle(path_pickle,T):\n",
        "  f = open(path_pickle, 'wb')\n",
        "  pickle.dump(T, f)\n",
        "  f.close()\n",
        "\n",
        "  return f \n",
        "\n",
        "#call function\n",
        "# f1=save_pickle('/content/drive/MyDrive/Gab/Variables_saved/T1.pickle',T1)\n",
        "f3=save_pickle('/content/drive/MyDrive/Gab/Variables_saved/T3.pickle',T3)\n",
        "f5=save_pickle('/content/drive/MyDrive/Gab/Variables_saved/T5.pickle',T5)\n",
        "# f7=save_pickle('/content/drive/MyDrive/Gab/Variables_saved/T7.pickle',T7)\n",
        "# f9=save_pickle('/content/drive/MyDrive/Gab/Variables_saved/T9.pickle',T9)\n"
      ],
      "metadata": {
        "id": "G0rbfVlgrtbW"
      },
      "execution_count": 57,
      "outputs": []
    },
    {
      "cell_type": "code",
      "source": [
        "def open_pickle(path_pickle,f):\n",
        "  f = open(path_pickle, 'rb')\n",
        "  T = pickle.load(f)\n",
        "  f.close()\n",
        "\n",
        "  return T\n",
        "\n",
        "#call function\n",
        "# T1=open_pickle('/content/drive/MyDrive/Gab/Variables_saved/T1.pickle',f1)\n",
        "T3=open_pickle('/content/drive/MyDrive/Gab/Variables_saved/T3.pickle',f3)\n",
        "T5=open_pickle('/content/drive/MyDrive/Gab/Variables_saved/T5.pickle',f5)\n",
        "# T7=open_pickle('/content/drive/MyDrive/Gab/Variables_saved/T7.pickle',f7)\n",
        "# T9=open_pickle('/content/drive/MyDrive/Gab/Variables_saved/T9.pickle',f9)\n"
      ],
      "metadata": {
        "id": "gOaFOvNro_cq"
      },
      "execution_count": 58,
      "outputs": []
    },
    {
      "cell_type": "markdown",
      "source": [
        "Final input data and label reshaping"
      ],
      "metadata": {
        "id": "sA92m0gfnBV7"
      }
    },
    {
      "cell_type": "code",
      "source": [
        "\n",
        "#participant size= number of trials \n",
        "participant_size_3= len(T3)\n",
        "participant_size_5= len(T5)\n",
        "\n",
        "#X-data with shape (trialxchannelsxframe)=(80trials  x 4channels x (1926frames x 4sec x 2surfaces x n-participants))\n",
        "T = tf.concat([T3, T5], axis=0) # 2 participants just for testing \n",
        "X=T[:, :, 1:5]\n",
        "print(\"Data shape:\", X.shape)\n",
        "#Y-categorical encoded label = 1 for asphalt and 0 for grass \n",
        "y=T[:,:,6]\n",
        "print(\"Label shape:\", y.shape)\n",
        "\n"
      ],
      "metadata": {
        "colab": {
          "base_uri": "https://localhost:8080/"
        },
        "id": "G_skl9ddffhv",
        "outputId": "a34802b9-96a4-4ad1-ecd3-623f98b77252"
      },
      "execution_count": 73,
      "outputs": [
        {
          "output_type": "stream",
          "name": "stdout",
          "text": [
            "Data shape: (30816, 80, 4)\n",
            "Label shape: (30816, 80)\n"
          ]
        }
      ]
    },
    {
      "cell_type": "markdown",
      "source": [
        "#Basic Convnet"
      ],
      "metadata": {
        "id": "L1J9VGjrm8fe"
      }
    },
    {
      "cell_type": "code",
      "execution_count": null,
      "metadata": {
        "id": "Emp2BA5s1bgS"
      },
      "outputs": [],
      "source": [
        "# Basic Convnet \n",
        "from keras import layers \n",
        "from keras import models\n",
        "model = models.Sequential()\n",
        "model.add(layers.Conv2D(32, (3, 3), activation='relu', input_shape=(28, 28, 1))) model.add(layers.MaxPooling2D((2, 2)))\n",
        "model.add(layers.Conv2D(64, (3, 3), activation='relu')) model.add(layers.MaxPooling2D((2, 2)))\n",
        "model.add(layers.Conv2D(64, (3, 3), activation='relu'))"
      ]
    }
  ]
}