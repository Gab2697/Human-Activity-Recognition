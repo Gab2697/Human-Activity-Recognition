{
  "cells": [
    {
      "cell_type": "markdown",
      "metadata": {
        "id": "view-in-github",
        "colab_type": "text"
      },
      "source": [
        "<a href=\"https://colab.research.google.com/github/Gab2697/Human-Activity-Recognition/blob/master/Test_Baseline.ipynb\" target=\"_parent\"><img src=\"https://colab.research.google.com/assets/colab-badge.svg\" alt=\"Open In Colab\"/></a>"
      ]
    },
    {
      "cell_type": "code",
      "execution_count": 1,
      "metadata": {
        "id": "nR9RxapPC3p5"
      },
      "outputs": [],
      "source": [
        "#import\n",
        "import pandas as pd\n",
        "import tensorflow as tf\n",
        "import numpy as np\n",
        "import os\n",
        "import pickle\n",
        "import matplotlib.pyplot as plt\n",
        "from scipy import signal\n",
        "import torch\n",
        "\n",
        "from keras import layers \n",
        "from keras import models\n",
        "from tensorflow.keras.utils import to_categorical"
      ]
    },
    {
      "cell_type": "code",
      "execution_count": 2,
      "metadata": {
        "colab": {
          "base_uri": "https://localhost:8080/"
        },
        "id": "FFr-91fhC8b0",
        "outputId": "d4748d97-c426-4f1a-e91d-015bfc5515d5"
      },
      "outputs": [
        {
          "output_type": "stream",
          "name": "stdout",
          "text": [
            "Mounted at /content/drive\n"
          ]
        }
      ],
      "source": [
        "from google.colab import drive\n",
        "drive.mount('/content/drive')"
      ]
    },
    {
      "cell_type": "code",
      "execution_count": 3,
      "metadata": {
        "id": "stcTujsJDANh"
      },
      "outputs": [],
      "source": [
        "def open_pickle(path_pickle):\n",
        "  f = open(path_pickle, 'rb')\n",
        "  T = pickle.load(f)\n",
        "  f.close()\n",
        "\n",
        "  return T"
      ]
    },
    {
      "cell_type": "code",
      "execution_count": null,
      "metadata": {
        "id": "WQ371TirDAew"
      },
      "outputs": [],
      "source": [
        "#5 different participants\n",
        "# T20244810= open_pickle('/content/drive/MyDrive/Gab/Variables_saved/T20244810.pickle')\n",
        "# TT=T20244810\n",
        "\n",
        "# #smaller Tensor input-doesnt use all RAM with only 4 participants\n",
        "T=open_pickle('/content/drive/MyDrive/Gab/Good code/T.pickle')\n",
        "TT=T"
      ]
    },
    {
      "cell_type": "code",
      "execution_count": null,
      "metadata": {
        "colab": {
          "base_uri": "https://localhost:8080/"
        },
        "id": "qMZMHMCEDFyo",
        "outputId": "453ffd4a-8292-49f9-ef06-22d51610f1af"
      },
      "outputs": [
        {
          "output_type": "stream",
          "name": "stdout",
          "text": [
            "Data shape: (641, 7704, 4, 1)\n",
            "Label shape: (641, 7704, 1)\n",
            "Data shape train: (512, 7704, 4, 1) Data shape test: (129, 7704, 4, 1) Label shape train: (512, 2) Label shape test: (129, 2)\n"
          ]
        }
      ],
      "source": [
        "#========Initial cutting========\n",
        "#X-data with shape ((1926frames x 4sec)x(80trials x 2surfaces x n-participants) x 4channels)\n",
        "X=TT[:, :, 1:5].numpy() #size: (7704, 320, 4)\n",
        "#Y-categorical encoded label = 1 for asphalt and 0 for grass \n",
        "y=TT[:,:,4].numpy() \n",
        "#number trials\n",
        "num_trials= TT.shape[1]\n",
        "\n",
        "#========Sreshaping into the specific intut format========S \n",
        "#keras CNN is looking for X= (batch_size, height, width,depth)\n",
        "X_reshape = X.reshape((num_trials,7704, 4, 1))\n",
        "y=y.reshape((num_trials,7704,1))\n",
        "print(\"Data shape:\", X_reshape.shape) \n",
        "print(\"Label shape:\", y.shape)\n",
        "\n",
        "#========Splitting the data into training and testing sets========S\n",
        "#data set for training and testing the model\n",
        "train_size= int(0.8*num_trials) \n",
        "X_train= X_reshape[0:train_size,:,:,:]\n",
        "X_test=X_reshape[train_size:num_trials,:,:,:]\n",
        "#labels for train and test\n",
        "y_train=y[0:train_size,:,:] \n",
        "y_test=y[train_size:num_trials,:,:]\n",
        "\n",
        "# ========convert class vectors to binary class matrices========\n",
        "label_train = to_categorical(y_train, 2)\n",
        "label_test = to_categorical(y_test, 2)\n",
        "\n",
        "#========only keeping one label for each trials========\n",
        "#(instead of a complete vector of the same number)\n",
        "label_train= label_train[:,0,:]\n",
        "label_test=label_test[:,0,:]\n",
        "\n",
        "print(\"Data shape train:\",X_train.shape,\"Data shape test:\",X_test.shape,\"Label shape train:\",label_train.shape,\"Label shape test:\",label_test.shape)"
      ]
    },
    {
      "cell_type": "markdown",
      "metadata": {
        "id": "Q4oDa5RnELGy"
      },
      "source": [
        "#Baseline CNN"
      ]
    },
    {
      "cell_type": "code",
      "execution_count": null,
      "metadata": {
        "colab": {
          "base_uri": "https://localhost:8080/"
        },
        "id": "Fc1-VjrMDW1Y",
        "outputId": "5bc82570-e8a2-49b4-c6b3-dab2229cc711"
      },
      "outputs": [
        {
          "name": "stdout",
          "output_type": "stream",
          "text": [
            "Model: \"sequential_3\"\n",
            "_________________________________________________________________\n",
            " Layer (type)                Output Shape              Param #   \n",
            "=================================================================\n",
            " conv2d_8 (Conv2D)           (None, 7704, 4, 32)       320       \n",
            "                                                                 \n",
            " max_pooling2d_6 (MaxPooling  (None, 3852, 2, 32)      0         \n",
            " 2D)                                                             \n",
            "                                                                 \n",
            " conv2d_9 (Conv2D)           (None, 3852, 2, 64)       18496     \n",
            "                                                                 \n",
            "=================================================================\n",
            "Total params: 18,816\n",
            "Trainable params: 18,816\n",
            "Non-trainable params: 0\n",
            "_________________________________________________________________\n",
            "Model: \"sequential_3\"\n",
            "_________________________________________________________________\n",
            " Layer (type)                Output Shape              Param #   \n",
            "=================================================================\n",
            " conv2d_8 (Conv2D)           (None, 7704, 4, 32)       320       \n",
            "                                                                 \n",
            " max_pooling2d_6 (MaxPooling  (None, 3852, 2, 32)      0         \n",
            " 2D)                                                             \n",
            "                                                                 \n",
            " conv2d_9 (Conv2D)           (None, 3852, 2, 64)       18496     \n",
            "                                                                 \n",
            " flatten_2 (Flatten)         (None, 493056)            0         \n",
            "                                                                 \n",
            " dense_4 (Dense)             (None, 64)                31555648  \n",
            "                                                                 \n",
            " dense_5 (Dense)             (None, 2)                 130       \n",
            "                                                                 \n",
            "=================================================================\n",
            "Total params: 31,574,594\n",
            "Trainable params: 31,574,594\n",
            "Non-trainable params: 0\n",
            "_________________________________________________________________\n",
            "Epoch 1/5\n",
            "1/1 [==============================] - 21s 21s/step - loss: 0.6927 - accuracy: 0.4935 - val_loss: 16.4262 - val_accuracy: 0.4808\n",
            "Epoch 2/5\n",
            "1/1 [==============================] - 22s 22s/step - loss: 15.5660 - accuracy: 0.5065 - val_loss: 19.9499 - val_accuracy: 0.5192\n",
            "Epoch 3/5\n",
            "1/1 [==============================] - 21s 21s/step - loss: 21.0124 - accuracy: 0.4935 - val_loss: 1.7435 - val_accuracy: 0.4808\n",
            "Epoch 4/5\n",
            "1/1 [==============================] - 21s 21s/step - loss: 1.6482 - accuracy: 0.5065 - val_loss: 2.5095 - val_accuracy: 0.5192\n",
            "Epoch 5/5\n",
            "1/1 [==============================] - 20s 20s/step - loss: 2.6356 - accuracy: 0.4935 - val_loss: 0.2847 - val_accuracy: 0.8654\n"
          ]
        }
      ],
      "source": [
        "#Instantiating a small convnet\n",
        "model = models.Sequential()\n",
        "#filter size: 32, kenel of 3x3, input shape without the batch_size (one trial), padding= with zero padding\n",
        "model.add(layers.Conv2D(32, (3, 3), activation='relu', input_shape=(7704,4,1),padding='same')) \n",
        "model.add(layers.MaxPooling2D((2, 2)))\n",
        "model.add(layers.Conv2D(64, (3, 3), activation='relu',padding='same'))\n",
        "model.summary()\n",
        "\n",
        "#Adding a classifier on top of the convnet\n",
        "model.add(layers.Flatten()) \n",
        "model.add(layers.Dense(64, activation='relu')) \n",
        "model.add(layers.Dense(2, activation='sigmoid')) #last layer has 2 output options\n",
        "model.summary()\n",
        "\n",
        "# testing CNN model\n",
        "model.compile(optimizer='rmsprop', loss='binary_crossentropy', metrics=['accuracy']) \n",
        "history= model.fit(X_train, label_train, epochs=5, batch_size=num_trials,validation_split=0.1)   "
      ]
    },
    {
      "cell_type": "markdown",
      "metadata": {
        "id": "NMoRpHMwSBtz"
      },
      "source": [
        "#Testing Baseline"
      ]
    },
    {
      "cell_type": "markdown",
      "metadata": {
        "id": "8K_31_kWE8PL"
      },
      "source": [
        "Add layers"
      ]
    },
    {
      "cell_type": "code",
      "execution_count": null,
      "metadata": {
        "colab": {
          "base_uri": "https://localhost:8080/"
        },
        "id": "J81kNXr6E-Nl",
        "outputId": "539f5ce8-407e-4125-bb73-13c98bf8709d"
      },
      "outputs": [
        {
          "name": "stdout",
          "output_type": "stream",
          "text": [
            "Model: \"sequential_2\"\n",
            "_________________________________________________________________\n",
            " Layer (type)                Output Shape              Param #   \n",
            "=================================================================\n",
            " conv2d_6 (Conv2D)           (None, 7704, 4, 32)       320       \n",
            "                                                                 \n",
            " max_pooling2d_5 (MaxPooling  (None, 3852, 2, 32)      0         \n",
            " 2D)                                                             \n",
            "                                                                 \n",
            " conv2d_7 (Conv2D)           (None, 3852, 2, 64)       18496     \n",
            "                                                                 \n",
            "=================================================================\n",
            "Total params: 18,816\n",
            "Trainable params: 18,816\n",
            "Non-trainable params: 0\n",
            "_________________________________________________________________\n",
            "Model: \"sequential_2\"\n",
            "_________________________________________________________________\n",
            " Layer (type)                Output Shape              Param #   \n",
            "=================================================================\n",
            " conv2d_6 (Conv2D)           (None, 7704, 4, 32)       320       \n",
            "                                                                 \n",
            " max_pooling2d_5 (MaxPooling  (None, 3852, 2, 32)      0         \n",
            " 2D)                                                             \n",
            "                                                                 \n",
            " conv2d_7 (Conv2D)           (None, 3852, 2, 64)       18496     \n",
            "                                                                 \n",
            " flatten_1 (Flatten)         (None, 493056)            0         \n",
            "                                                                 \n",
            " dense_2 (Dense)             (None, 64)                31555648  \n",
            "                                                                 \n",
            " dense_3 (Dense)             (None, 2)                 130       \n",
            "                                                                 \n",
            "=================================================================\n",
            "Total params: 31,574,594\n",
            "Trainable params: 31,574,594\n",
            "Non-trainable params: 0\n",
            "_________________________________________________________________\n",
            "Epoch 1/5\n",
            "1/1 [==============================] - 27s 27s/step - loss: 0.6918 - accuracy: 0.4935 - val_loss: 10.8180 - val_accuracy: 0.6731\n",
            "Epoch 2/5\n",
            "1/1 [==============================] - 21s 21s/step - loss: 11.0270 - accuracy: 0.6500 - val_loss: 3.7718 - val_accuracy: 0.8654\n",
            "Epoch 3/5\n",
            "1/1 [==============================] - 20s 20s/step - loss: 3.6387 - accuracy: 0.8891 - val_loss: 0.3407 - val_accuracy: 0.9038\n",
            "Epoch 4/5\n",
            "1/1 [==============================] - 21s 21s/step - loss: 0.4240 - accuracy: 0.9087 - val_loss: 0.2681 - val_accuracy: 0.9038\n",
            "Epoch 5/5\n",
            "1/1 [==============================] - 20s 20s/step - loss: 0.2414 - accuracy: 0.9326 - val_loss: 0.0413 - val_accuracy: 0.9808\n"
          ]
        }
      ],
      "source": [
        "#Instantiating a small convnet\n",
        "model = models.Sequential()\n",
        "#filter size: 32, kenel of 3x3, input shape without the batch_size (one trial), padding= with zero padding\n",
        "model.add(layers.Conv2D(32, (3, 3), activation='relu', input_shape=(7704,4,1),padding='same')) \n",
        "model.add(layers.MaxPooling2D((2, 2)))\n",
        "\n",
        "#Add layer-------\n",
        "model.add(layers.Conv2D(32, (3, 3), activation='relu',padding='same')) \n",
        "model.add(layers.MaxPooling2D((2, 2)))\n",
        "\n",
        "model.add(layers.Conv2D(64, (3, 3), activation='relu',padding='same'))\n",
        "model.summary()\n",
        "\n",
        "#Adding a classifier on top of the convnet\n",
        "model.add(layers.Flatten()) \n",
        "model.add(layers.Dense(64, activation='relu')) \n",
        "model.add(layers.Dense(2, activation='sigmoid')) #last layer has 2 output options\n",
        "model.summary()\n",
        "\n",
        "# testing CNN model\n",
        "model.compile(optimizer='rmsprop', loss='binary_crossentropy', metrics=['accuracy']) \n",
        "history= model.fit(X_train, label_train, epochs=5, batch_size=num_trials,validation_split=0.1)   "
      ]
    },
    {
      "cell_type": "markdown",
      "metadata": {
        "id": "-99BHkL7EQEF"
      },
      "source": [
        "Bigger layers (more filters)"
      ]
    },
    {
      "cell_type": "code",
      "execution_count": null,
      "metadata": {
        "colab": {
          "base_uri": "https://localhost:8080/"
        },
        "id": "HVKmDp0NEVzj",
        "outputId": "6e2d9543-9542-4212-852a-296502fe683c"
      },
      "outputs": [
        {
          "name": "stdout",
          "output_type": "stream",
          "text": [
            "Model: \"sequential\"\n",
            "_________________________________________________________________\n",
            " Layer (type)                Output Shape              Param #   \n",
            "=================================================================\n",
            " conv2d (Conv2D)             (None, 7704, 4, 52)       520       \n",
            "                                                                 \n",
            " max_pooling2d (MaxPooling2D  (None, 3852, 2, 52)      0         \n",
            " )                                                               \n",
            "                                                                 \n",
            " conv2d_1 (Conv2D)           (None, 3852, 2, 52)       24388     \n",
            "                                                                 \n",
            " max_pooling2d_1 (MaxPooling  (None, 1926, 1, 52)      0         \n",
            " 2D)                                                             \n",
            "                                                                 \n",
            " conv2d_2 (Conv2D)           (None, 1926, 1, 64)       30016     \n",
            "                                                                 \n",
            "=================================================================\n",
            "Total params: 54,924\n",
            "Trainable params: 54,924\n",
            "Non-trainable params: 0\n",
            "_________________________________________________________________\n",
            "Model: \"sequential\"\n",
            "_________________________________________________________________\n",
            " Layer (type)                Output Shape              Param #   \n",
            "=================================================================\n",
            " conv2d (Conv2D)             (None, 7704, 4, 52)       520       \n",
            "                                                                 \n",
            " max_pooling2d (MaxPooling2D  (None, 3852, 2, 52)      0         \n",
            " )                                                               \n",
            "                                                                 \n",
            " conv2d_1 (Conv2D)           (None, 3852, 2, 52)       24388     \n",
            "                                                                 \n",
            " max_pooling2d_1 (MaxPooling  (None, 1926, 1, 52)      0         \n",
            " 2D)                                                             \n",
            "                                                                 \n",
            " conv2d_2 (Conv2D)           (None, 1926, 1, 64)       30016     \n",
            "                                                                 \n",
            " flatten (Flatten)           (None, 123264)            0         \n",
            "                                                                 \n",
            " dense (Dense)               (None, 64)                7888960   \n",
            "                                                                 \n",
            " dense_1 (Dense)             (None, 2)                 130       \n",
            "                                                                 \n",
            "=================================================================\n",
            "Total params: 7,944,014\n",
            "Trainable params: 7,944,014\n",
            "Non-trainable params: 0\n",
            "_________________________________________________________________\n",
            "Epoch 1/5\n",
            "1/1 [==============================] - 43s 43s/step - loss: 0.6936 - accuracy: 0.4652 - val_loss: 0.7942 - val_accuracy: 0.8462\n",
            "Epoch 2/5\n",
            "1/1 [==============================] - 34s 34s/step - loss: 0.7969 - accuracy: 0.8304 - val_loss: 1.9242 - val_accuracy: 0.6538\n",
            "Epoch 3/5\n",
            "1/1 [==============================] - 38s 38s/step - loss: 1.8970 - accuracy: 0.6674 - val_loss: 0.4557 - val_accuracy: 0.9038\n",
            "Epoch 4/5\n",
            "1/1 [==============================] - 39s 39s/step - loss: 0.4515 - accuracy: 0.9239 - val_loss: 0.2187 - val_accuracy: 0.9808\n",
            "Epoch 5/5\n",
            "1/1 [==============================] - 41s 41s/step - loss: 0.2188 - accuracy: 0.9783 - val_loss: 0.7745 - val_accuracy: 0.9808\n"
          ]
        }
      ],
      "source": [
        "#Note: Tried with 512-->crashed RAM,Tried with 128-->crashed RAM, maybe if smaller number of filter, RAM won't crash with all partipicants \n",
        "###try 100!!-Phil D with 16x16\n",
        "#Instantiating a small convnet\n",
        "model = models.Sequential()\n",
        "#filter size: 32, kenel of 3x3, input shape without the batch_size (one trial), padding= with zero padding\n",
        "model.add(layers.Conv2D(52, (3, 3), activation='relu', input_shape=(7704,4,1),padding='same')) \n",
        "model.add(layers.MaxPooling2D((2, 2)))\n",
        "model.add(layers.Conv2D(52, (3, 3), activation='relu',padding='same')) \n",
        "model.add(layers.MaxPooling2D((2, 2)))\n",
        "\n",
        "model.add(layers.Conv2D(64, (3, 3), activation='relu',padding='same'))\n",
        "model.summary()\n",
        "\n",
        "\n",
        "#Adding a classifier on top of the convnet\n",
        "model.add(layers.Flatten()) \n",
        "model.add(layers.Dense(64, activation='relu')) \n",
        "model.add(layers.Dense(2, activation='sigmoid')) #last layer has 2 output options\n",
        "model.summary()\n",
        "\n",
        "# testing CNN model\n",
        "model.compile(optimizer='rmsprop', loss='binary_crossentropy', metrics=['accuracy']) \n",
        "history= model.fit(X_train, label_train, epochs=5, batch_size=num_trials,validation_split=0.1)   "
      ]
    },
    {
      "cell_type": "markdown",
      "metadata": {
        "id": "ufxWmYVVRhXP"
      },
      "source": [
        "Less filters= underfit\n"
      ]
    },
    {
      "cell_type": "code",
      "execution_count": null,
      "metadata": {
        "colab": {
          "base_uri": "https://localhost:8080/"
        },
        "id": "dGeKQs07Raej",
        "outputId": "2ccd7e14-ed34-4711-d725-648c28ec1ee6"
      },
      "outputs": [
        {
          "name": "stdout",
          "output_type": "stream",
          "text": [
            "Model: \"sequential_1\"\n",
            "_________________________________________________________________\n",
            " Layer (type)                Output Shape              Param #   \n",
            "=================================================================\n",
            " conv2d_3 (Conv2D)           (None, 7704, 4, 16)       160       \n",
            "                                                                 \n",
            " max_pooling2d_2 (MaxPooling  (None, 3852, 2, 16)      0         \n",
            " 2D)                                                             \n",
            "                                                                 \n",
            " conv2d_4 (Conv2D)           (None, 3852, 2, 16)       2320      \n",
            "                                                                 \n",
            " max_pooling2d_3 (MaxPooling  (None, 1926, 1, 16)      0         \n",
            " 2D)                                                             \n",
            "                                                                 \n",
            " conv2d_5 (Conv2D)           (None, 1926, 1, 32)       4640      \n",
            "                                                                 \n",
            "=================================================================\n",
            "Total params: 7,120\n",
            "Trainable params: 7,120\n",
            "Non-trainable params: 0\n",
            "_________________________________________________________________\n",
            "Model: \"sequential_1\"\n",
            "_________________________________________________________________\n",
            " Layer (type)                Output Shape              Param #   \n",
            "=================================================================\n",
            " conv2d_3 (Conv2D)           (None, 7704, 4, 16)       160       \n",
            "                                                                 \n",
            " max_pooling2d_2 (MaxPooling  (None, 3852, 2, 16)      0         \n",
            " 2D)                                                             \n",
            "                                                                 \n",
            " conv2d_4 (Conv2D)           (None, 3852, 2, 16)       2320      \n",
            "                                                                 \n",
            " max_pooling2d_3 (MaxPooling  (None, 1926, 1, 16)      0         \n",
            " 2D)                                                             \n",
            "                                                                 \n",
            " conv2d_5 (Conv2D)           (None, 1926, 1, 32)       4640      \n",
            "                                                                 \n",
            " flatten_1 (Flatten)         (None, 61632)             0         \n",
            "                                                                 \n",
            " dense_2 (Dense)             (None, 32)                1972256   \n",
            "                                                                 \n",
            " dense_3 (Dense)             (None, 2)                 66        \n",
            "                                                                 \n",
            "=================================================================\n",
            "Total params: 1,979,442\n",
            "Trainable params: 1,979,442\n",
            "Non-trainable params: 0\n",
            "_________________________________________________________________\n",
            "Epoch 1/5\n",
            "1/1 [==============================] - 11s 11s/step - loss: 0.6930 - accuracy: 0.4935 - val_loss: 1.3212 - val_accuracy: 0.5192\n",
            "Epoch 2/5\n",
            "1/1 [==============================] - 11s 11s/step - loss: 1.3701 - accuracy: 0.4935 - val_loss: 0.5753 - val_accuracy: 1.0000\n",
            "Epoch 3/5\n",
            "1/1 [==============================] - 10s 10s/step - loss: 0.5765 - accuracy: 0.9761 - val_loss: 0.3683 - val_accuracy: 0.9231\n",
            "Epoch 4/5\n",
            "1/1 [==============================] - 11s 11s/step - loss: 0.3771 - accuracy: 0.9109 - val_loss: 0.2663 - val_accuracy: 0.9423\n",
            "Epoch 5/5\n",
            "1/1 [==============================] - 10s 10s/step - loss: 0.2623 - accuracy: 0.9500 - val_loss: 0.2232 - val_accuracy: 0.8846\n"
          ]
        }
      ],
      "source": [
        "#Instantiating a small convnet\n",
        "model = models.Sequential()\n",
        "#filter size: 32, kenel of 3x3, input shape without the batch_size (one trial), padding= with zero padding\n",
        "model.add(layers.Conv2D(16, (3, 3), activation='relu', input_shape=(7704,4,1),padding='same')) \n",
        "model.add(layers.MaxPooling2D((2, 2)))\n",
        "model.add(layers.Conv2D(16, (3, 3), activation='relu',padding='same')) \n",
        "model.add(layers.MaxPooling2D((2, 2)))\n",
        "\n",
        "model.add(layers.Conv2D(32, (3, 3), activation='relu',padding='same'))\n",
        "model.summary()\n",
        "\n",
        "\n",
        "#Adding a classifier on top of the convnet\n",
        "model.add(layers.Flatten()) \n",
        "model.add(layers.Dense(32, activation='relu')) \n",
        "model.add(layers.Dense(2, activation='sigmoid')) #last layer has 2 output options\n",
        "model.summary()\n",
        "\n",
        "# testing CNN model\n",
        "model.compile(optimizer='rmsprop', loss='binary_crossentropy', metrics=['accuracy']) \n",
        "history= model.fit(X_train, label_train, epochs=5, batch_size=num_trials,validation_split=0.1)   "
      ]
    },
    {
      "cell_type": "markdown",
      "metadata": {
        "id": "Mj4_K21aEYJi"
      },
      "source": [
        "More epochs"
      ]
    },
    {
      "cell_type": "code",
      "execution_count": null,
      "metadata": {
        "colab": {
          "base_uri": "https://localhost:8080/"
        },
        "id": "XP_vEbnOEaJw",
        "outputId": "8a032451-883b-49af-daf8-7b57d71fa5bb"
      },
      "outputs": [
        {
          "name": "stdout",
          "output_type": "stream",
          "text": [
            "Model: \"sequential_2\"\n",
            "_________________________________________________________________\n",
            " Layer (type)                Output Shape              Param #   \n",
            "=================================================================\n",
            " conv2d_6 (Conv2D)           (None, 7704, 4, 32)       320       \n",
            "                                                                 \n",
            " max_pooling2d_4 (MaxPooling  (None, 3852, 2, 32)      0         \n",
            " 2D)                                                             \n",
            "                                                                 \n",
            " conv2d_7 (Conv2D)           (None, 3852, 2, 32)       9248      \n",
            "                                                                 \n",
            " max_pooling2d_5 (MaxPooling  (None, 1926, 1, 32)      0         \n",
            " 2D)                                                             \n",
            "                                                                 \n",
            " conv2d_8 (Conv2D)           (None, 1926, 1, 64)       18496     \n",
            "                                                                 \n",
            "=================================================================\n",
            "Total params: 28,064\n",
            "Trainable params: 28,064\n",
            "Non-trainable params: 0\n",
            "_________________________________________________________________\n",
            "Model: \"sequential_2\"\n",
            "_________________________________________________________________\n",
            " Layer (type)                Output Shape              Param #   \n",
            "=================================================================\n",
            " conv2d_6 (Conv2D)           (None, 7704, 4, 32)       320       \n",
            "                                                                 \n",
            " max_pooling2d_4 (MaxPooling  (None, 3852, 2, 32)      0         \n",
            " 2D)                                                             \n",
            "                                                                 \n",
            " conv2d_7 (Conv2D)           (None, 3852, 2, 32)       9248      \n",
            "                                                                 \n",
            " max_pooling2d_5 (MaxPooling  (None, 1926, 1, 32)      0         \n",
            " 2D)                                                             \n",
            "                                                                 \n",
            " conv2d_8 (Conv2D)           (None, 1926, 1, 64)       18496     \n",
            "                                                                 \n",
            " flatten_2 (Flatten)         (None, 123264)            0         \n",
            "                                                                 \n",
            " dense_4 (Dense)             (None, 64)                7888960   \n",
            "                                                                 \n",
            " dense_5 (Dense)             (None, 2)                 130       \n",
            "                                                                 \n",
            "=================================================================\n",
            "Total params: 7,917,154\n",
            "Trainable params: 7,917,154\n",
            "Non-trainable params: 0\n",
            "_________________________________________________________________\n",
            "Epoch 1/15\n",
            "1/1 [==============================] - 20s 20s/step - loss: 0.6944 - accuracy: 0.4826 - val_loss: 0.3552 - val_accuracy: 0.8846\n",
            "Epoch 2/15\n",
            "1/1 [==============================] - 18s 18s/step - loss: 0.3474 - accuracy: 0.9174 - val_loss: 5.0240 - val_accuracy: 0.5192\n",
            "Epoch 3/15\n",
            "1/1 [==============================] - 20s 20s/step - loss: 5.2807 - accuracy: 0.4935 - val_loss: 1.4591 - val_accuracy: 0.5577\n",
            "Epoch 4/15\n",
            "1/1 [==============================] - 19s 19s/step - loss: 1.3697 - accuracy: 0.5761 - val_loss: 0.1338 - val_accuracy: 0.9808\n",
            "Epoch 5/15\n",
            "1/1 [==============================] - 20s 20s/step - loss: 0.1395 - accuracy: 0.9522 - val_loss: 0.1857 - val_accuracy: 0.9038\n",
            "Epoch 6/15\n",
            "1/1 [==============================] - 18s 18s/step - loss: 0.1721 - accuracy: 0.9326 - val_loss: 0.0749 - val_accuracy: 0.9808\n",
            "Epoch 7/15\n",
            "1/1 [==============================] - 18s 18s/step - loss: 0.0738 - accuracy: 0.9913 - val_loss: 0.0524 - val_accuracy: 1.0000\n",
            "Epoch 8/15\n",
            "1/1 [==============================] - 17s 17s/step - loss: 0.0543 - accuracy: 0.9978 - val_loss: 0.0466 - val_accuracy: 1.0000\n",
            "Epoch 9/15\n",
            "1/1 [==============================] - 17s 17s/step - loss: 0.0469 - accuracy: 0.9978 - val_loss: 0.0404 - val_accuracy: 1.0000\n",
            "Epoch 10/15\n",
            "1/1 [==============================] - 17s 17s/step - loss: 0.0408 - accuracy: 0.9957 - val_loss: 0.0339 - val_accuracy: 1.0000\n",
            "Epoch 11/15\n",
            "1/1 [==============================] - 18s 18s/step - loss: 0.0358 - accuracy: 1.0000 - val_loss: 0.0372 - val_accuracy: 0.9808\n",
            "Epoch 12/15\n",
            "1/1 [==============================] - 17s 17s/step - loss: 0.0334 - accuracy: 0.9935 - val_loss: 0.0246 - val_accuracy: 1.0000\n",
            "Epoch 13/15\n",
            "1/1 [==============================] - 17s 17s/step - loss: 0.0336 - accuracy: 0.9913 - val_loss: 0.0520 - val_accuracy: 0.9615\n",
            "Epoch 14/15\n",
            "1/1 [==============================] - 18s 18s/step - loss: 0.0375 - accuracy: 0.9826 - val_loss: 0.0197 - val_accuracy: 1.0000\n",
            "Epoch 15/15\n",
            "1/1 [==============================] - 18s 18s/step - loss: 0.0406 - accuracy: 0.9783 - val_loss: 0.0546 - val_accuracy: 0.9615\n"
          ]
        }
      ],
      "source": [
        "#Instantiating a small convnet\n",
        "model = models.Sequential()\n",
        "#filter size: 32, kenel of 3x3, input shape without the batch_size (one trial), padding= with zero padding\n",
        "model.add(layers.Conv2D(32, (3, 3), activation='relu', input_shape=(7704,4,1),padding='same')) \n",
        "model.add(layers.MaxPooling2D((2, 2)))\n",
        "model.add(layers.Conv2D(32, (3, 3), activation='relu',padding='same')) \n",
        "model.add(layers.MaxPooling2D((2, 2)))\n",
        "\n",
        "model.add(layers.Conv2D(64, (3, 3), activation='relu',padding='same'))\n",
        "model.summary()\n",
        "\n",
        "\n",
        "#Adding a classifier on top of the convnet\n",
        "model.add(layers.Flatten()) \n",
        "model.add(layers.Dense(64, activation='relu')) \n",
        "model.add(layers.Dense(2, activation='sigmoid')) #last layer has 2 output options\n",
        "model.summary()\n",
        "\n",
        "# testing CNN model\n",
        "model.compile(optimizer='rmsprop', loss='binary_crossentropy', metrics=['accuracy']) \n",
        "history= model.fit(X_train, label_train, epochs=15, batch_size=num_trials,validation_split=0.1)   "
      ]
    },
    {
      "cell_type": "markdown",
      "metadata": {
        "id": "lB1TCKugEfie"
      },
      "source": [
        "#Regularization"
      ]
    },
    {
      "cell_type": "markdown",
      "metadata": {
        "id": "-2Xq0g0oEh-L"
      },
      "source": [
        "Dropout"
      ]
    },
    {
      "cell_type": "code",
      "execution_count": null,
      "metadata": {
        "colab": {
          "base_uri": "https://localhost:8080/"
        },
        "id": "gJ4U4lvLEj34",
        "outputId": "6d7773e2-9a2f-4642-c4a7-8608746032ea"
      },
      "outputs": [
        {
          "name": "stdout",
          "output_type": "stream",
          "text": [
            "Model: \"sequential\"\n",
            "_________________________________________________________________\n",
            " Layer (type)                Output Shape              Param #   \n",
            "=================================================================\n",
            " conv2d (Conv2D)             (None, 7704, 4, 32)       320       \n",
            "                                                                 \n",
            " dropout (Dropout)           (None, 7704, 4, 32)       0         \n",
            "                                                                 \n",
            " max_pooling2d (MaxPooling2D  (None, 3852, 2, 32)      0         \n",
            " )                                                               \n",
            "                                                                 \n",
            " conv2d_1 (Conv2D)           (None, 3852, 2, 32)       9248      \n",
            "                                                                 \n",
            " dropout_1 (Dropout)         (None, 3852, 2, 32)       0         \n",
            "                                                                 \n",
            " max_pooling2d_1 (MaxPooling  (None, 1926, 1, 32)      0         \n",
            " 2D)                                                             \n",
            "                                                                 \n",
            " conv2d_2 (Conv2D)           (None, 1926, 1, 64)       18496     \n",
            "                                                                 \n",
            " dropout_2 (Dropout)         (None, 1926, 1, 64)       0         \n",
            "                                                                 \n",
            "=================================================================\n",
            "Total params: 28,064\n",
            "Trainable params: 28,064\n",
            "Non-trainable params: 0\n",
            "_________________________________________________________________\n",
            "Model: \"sequential\"\n",
            "_________________________________________________________________\n",
            " Layer (type)                Output Shape              Param #   \n",
            "=================================================================\n",
            " conv2d (Conv2D)             (None, 7704, 4, 32)       320       \n",
            "                                                                 \n",
            " dropout (Dropout)           (None, 7704, 4, 32)       0         \n",
            "                                                                 \n",
            " max_pooling2d (MaxPooling2D  (None, 3852, 2, 32)      0         \n",
            " )                                                               \n",
            "                                                                 \n",
            " conv2d_1 (Conv2D)           (None, 3852, 2, 32)       9248      \n",
            "                                                                 \n",
            " dropout_1 (Dropout)         (None, 3852, 2, 32)       0         \n",
            "                                                                 \n",
            " max_pooling2d_1 (MaxPooling  (None, 1926, 1, 32)      0         \n",
            " 2D)                                                             \n",
            "                                                                 \n",
            " conv2d_2 (Conv2D)           (None, 1926, 1, 64)       18496     \n",
            "                                                                 \n",
            " dropout_2 (Dropout)         (None, 1926, 1, 64)       0         \n",
            "                                                                 \n",
            " flatten (Flatten)           (None, 123264)            0         \n",
            "                                                                 \n",
            " dense (Dense)               (None, 64)                7888960   \n",
            "                                                                 \n",
            " dropout_3 (Dropout)         (None, 64)                0         \n",
            "                                                                 \n",
            " dense_1 (Dense)             (None, 2)                 130       \n",
            "                                                                 \n",
            "=================================================================\n",
            "Total params: 7,917,154\n",
            "Trainable params: 7,917,154\n",
            "Non-trainable params: 0\n",
            "_________________________________________________________________\n",
            "Epoch 1/5\n",
            "1/1 [==============================] - 31s 31s/step - loss: 0.7265 - accuracy: 0.4826 - val_loss: 3.9540 - val_accuracy: 0.4808\n",
            "Epoch 2/5\n",
            "1/1 [==============================] - 27s 27s/step - loss: 12.6153 - accuracy: 0.5087 - val_loss: 0.9559 - val_accuracy: 0.5192\n",
            "Epoch 3/5\n",
            "1/1 [==============================] - 26s 26s/step - loss: 3.4300 - accuracy: 0.4935 - val_loss: 0.6547 - val_accuracy: 0.5192\n",
            "Epoch 4/5\n",
            "1/1 [==============================] - 28s 28s/step - loss: 1.1115 - accuracy: 0.4891 - val_loss: 0.6720 - val_accuracy: 0.5192\n",
            "Epoch 5/5\n",
            "1/1 [==============================] - 27s 27s/step - loss: 0.7142 - accuracy: 0.5022 - val_loss: 0.6743 - val_accuracy: 0.9231\n"
          ]
        }
      ],
      "source": [
        "#Instantiating a small convnet\n",
        "model = models.Sequential()\n",
        "#filter size: 32, kenel of 3x3, input shape without the batch_size (one trial), padding= with zero padding\n",
        "model.add(layers.Conv2D(32, (3, 3), activation='relu', input_shape=(7704,4,1),padding='same')) \n",
        "model.add(layers.Dropout(0.5))\n",
        "model.add(layers.MaxPooling2D((2, 2)))\n",
        "model.add(layers.Conv2D(32, (3, 3), activation='relu',padding='same'))\n",
        "model.add(layers.Dropout(0.5)) \n",
        "model.add(layers.MaxPooling2D((2, 2)))\n",
        "model.add(layers.Conv2D(64, (3, 3), activation='relu',padding='same'))\n",
        "model.add(layers.Dropout(0.5))\n",
        "model.summary()\n",
        "\n",
        "\n",
        "#Adding a classifier on top of the convnet\n",
        "model.add(layers.Flatten()) \n",
        "model.add(layers.Dense(64, activation='relu')) \n",
        "model.add(layers.Dropout(0.5))\n",
        "model.add(layers.Dense(2, activation='sigmoid')) #last layer has 2 output options\n",
        "model.summary()\n",
        "\n",
        "# testing CNN model\n",
        "model.compile(optimizer='rmsprop', loss='binary_crossentropy', metrics=['accuracy']) \n",
        "history= model.fit(X_train, label_train, epochs=5, batch_size=num_trials,validation_split=0.1)   "
      ]
    },
    {
      "cell_type": "markdown",
      "metadata": {
        "id": "ITaXAK37EkX6"
      },
      "source": [
        "Weight regularization-L2"
      ]
    },
    {
      "cell_type": "code",
      "execution_count": null,
      "metadata": {
        "colab": {
          "base_uri": "https://localhost:8080/"
        },
        "id": "z4IoR0NDEnPK",
        "outputId": "9c2efffe-7db7-4384-f30f-21ea4655e991"
      },
      "outputs": [
        {
          "name": "stdout",
          "output_type": "stream",
          "text": [
            "Model: \"sequential_4\"\n",
            "_________________________________________________________________\n",
            " Layer (type)                Output Shape              Param #   \n",
            "=================================================================\n",
            " conv2d_12 (Conv2D)          (None, 7704, 4, 32)       320       \n",
            "                                                                 \n",
            " max_pooling2d_8 (MaxPooling  (None, 3852, 2, 32)      0         \n",
            " 2D)                                                             \n",
            "                                                                 \n",
            " conv2d_13 (Conv2D)          (None, 3852, 2, 32)       9248      \n",
            "                                                                 \n",
            " max_pooling2d_9 (MaxPooling  (None, 1926, 1, 32)      0         \n",
            " 2D)                                                             \n",
            "                                                                 \n",
            " conv2d_14 (Conv2D)          (None, 1926, 1, 64)       18496     \n",
            "                                                                 \n",
            "=================================================================\n",
            "Total params: 28,064\n",
            "Trainable params: 28,064\n",
            "Non-trainable params: 0\n",
            "_________________________________________________________________\n",
            "Model: \"sequential_4\"\n",
            "_________________________________________________________________\n",
            " Layer (type)                Output Shape              Param #   \n",
            "=================================================================\n",
            " conv2d_12 (Conv2D)          (None, 7704, 4, 32)       320       \n",
            "                                                                 \n",
            " max_pooling2d_8 (MaxPooling  (None, 3852, 2, 32)      0         \n",
            " 2D)                                                             \n",
            "                                                                 \n",
            " conv2d_13 (Conv2D)          (None, 3852, 2, 32)       9248      \n",
            "                                                                 \n",
            " max_pooling2d_9 (MaxPooling  (None, 1926, 1, 32)      0         \n",
            " 2D)                                                             \n",
            "                                                                 \n",
            " conv2d_14 (Conv2D)          (None, 1926, 1, 64)       18496     \n",
            "                                                                 \n",
            " flatten_4 (Flatten)         (None, 123264)            0         \n",
            "                                                                 \n",
            " dense_8 (Dense)             (None, 64)                7888960   \n",
            "                                                                 \n",
            " dense_9 (Dense)             (None, 2)                 130       \n",
            "                                                                 \n",
            "=================================================================\n",
            "Total params: 7,917,154\n",
            "Trainable params: 7,917,154\n",
            "Non-trainable params: 0\n",
            "_________________________________________________________________\n",
            "Epoch 1/5\n",
            "1/1 [==============================] - 18s 18s/step - loss: 0.8994 - accuracy: 0.4935 - val_loss: 0.7074 - val_accuracy: 0.6923\n",
            "Epoch 2/5\n",
            "1/1 [==============================] - 17s 17s/step - loss: 0.6844 - accuracy: 0.6804 - val_loss: 3.2596 - val_accuracy: 0.5192\n",
            "Epoch 3/5\n",
            "1/1 [==============================] - 17s 17s/step - loss: 3.4183 - accuracy: 0.4935 - val_loss: 0.6304 - val_accuracy: 0.8654\n",
            "Epoch 4/5\n",
            "1/1 [==============================] - 17s 17s/step - loss: 0.6250 - accuracy: 0.8891 - val_loss: 0.4652 - val_accuracy: 0.9038\n",
            "Epoch 5/5\n",
            "1/1 [==============================] - 17s 17s/step - loss: 0.4765 - accuracy: 0.9087 - val_loss: 0.9688 - val_accuracy: 0.9808\n"
          ]
        }
      ],
      "source": [
        "from keras import regularizers\n",
        "\n",
        "model = models.Sequential()\n",
        "#filter size: 32, kenel of 3x3, input shape without the batch_size (one trial), padding= with zero padding\n",
        "model.add(layers.Conv2D(32, (3, 3), kernel_regularizer=regularizers.l2(0.001), activation='relu', input_shape=(7704,4,1),padding='same')) \n",
        "model.add(layers.MaxPooling2D((2, 2)))\n",
        "model.add(layers.Conv2D(32, (3, 3), kernel_regularizer=regularizers.l2(0.001),activation='relu',padding='same')) \n",
        "model.add(layers.MaxPooling2D((2, 2)))\n",
        "\n",
        "model.add(layers.Conv2D(64, (3, 3), kernel_regularizer=regularizers.l2(0.001), activation='relu',padding='same'))\n",
        "model.summary()\n",
        "\n",
        "\n",
        "#Adding a classifier on top of the convnet\n",
        "model.add(layers.Flatten()) \n",
        "model.add(layers.Dense(64, kernel_regularizer=regularizers.l2(0.001), activation='relu')) \n",
        "model.add(layers.Dense(2, activation='sigmoid')) #last layer has 2 output options\n",
        "model.summary()\n",
        "\n",
        "# testing CNN model\n",
        "model.compile(optimizer='rmsprop', loss='binary_crossentropy', metrics=['accuracy']) \n",
        "history= model.fit(X_train, label_train, epochs=5, batch_size=num_trials,validation_split=0.1)  "
      ]
    },
    {
      "cell_type": "markdown",
      "metadata": {
        "id": "AJCjgkDtErXn"
      },
      "source": [
        "Tuning hyper parameters"
      ]
    },
    {
      "cell_type": "code",
      "execution_count": null,
      "metadata": {
        "colab": {
          "background_save": true,
          "base_uri": "https://localhost:8080/"
        },
        "id": "jBF7faTfiF3b",
        "outputId": "b5e3e55f-6fab-4efd-fa8e-f7bd9cb89a93"
      },
      "outputs": [
        {
          "name": "stderr",
          "output_type": "stream",
          "text": [
            "/usr/local/lib/python3.7/dist-packages/ipykernel_launcher.py:34: DeprecationWarning: KerasClassifier is deprecated, use Sci-Keras (https://github.com/adriangb/scikeras) instead.\n",
            "/usr/local/lib/python3.7/dist-packages/joblib/externals/loky/process_executor.py:705: UserWarning: A worker stopped while some jobs were given to the executor. This can be caused by a too short worker timeout or by a memory leak.\n",
            "  \"timeout or by a memory leak.\", UserWarning\n"
          ]
        },
        {
          "name": "stdout",
          "output_type": "stream",
          "text": [
            "Best: 0.982422 using {'batch_size': 40, 'epochs': 15}\n",
            "0.655934 (0.214509) with: {'batch_size': 10, 'epochs': 5}\n",
            "0.501938 (0.009049) with: {'batch_size': 10, 'epochs': 10}\n",
            "0.812831 (0.231591) with: {'batch_size': 10, 'epochs': 15}\n",
            "0.663731 (0.233670) with: {'batch_size': 10, 'epochs': 20}\n",
            "0.783500 (0.210814) with: {'batch_size': 20, 'epochs': 5}\n",
            "0.661782 (0.222773) with: {'batch_size': 20, 'epochs': 10}\n",
            "0.503887 (0.008398) with: {'batch_size': 20, 'epochs': 15}\n",
            "0.666632 (0.223299) with: {'batch_size': 20, 'epochs': 20}\n",
            "0.507809 (0.004965) with: {'batch_size': 40, 'epochs': 5}\n",
            "0.808898 (0.216369) with: {'batch_size': 40, 'epochs': 10}\n",
            "0.982422 (0.004775) with: {'batch_size': 40, 'epochs': 15}\n",
            "0.659833 (0.228158) with: {'batch_size': 40, 'epochs': 20}\n",
            "0.957023 (0.005580) with: {'batch_size': 60, 'epochs': 5}\n",
            "0.820628 (0.228786) with: {'batch_size': 60, 'epochs': 10}\n",
            "0.771850 (0.198468) with: {'batch_size': 60, 'epochs': 15}\n",
            "0.645121 (0.213622) with: {'batch_size': 60, 'epochs': 20}\n",
            "0.601926 (0.131827) with: {'batch_size': 641, 'epochs': 5}\n",
            "0.492191 (0.004965) with: {'batch_size': 641, 'epochs': 10}\n",
            "0.652035 (0.221241) with: {'batch_size': 641, 'epochs': 15}\n",
            "0.492191 (0.004965) with: {'batch_size': 641, 'epochs': 20}\n"
          ]
        }
      ],
      "source": [
        "# Use scikit-learn to grid search the batch size and epochs\n",
        "import numpy\n",
        "from sklearn.model_selection import GridSearchCV\n",
        "from keras.models import Sequential\n",
        "from keras.layers import Dense\n",
        "from keras.wrappers.scikit_learn import KerasClassifier\n",
        "from keras import regularizers\n",
        "\n",
        "# Function to create model, required for KerasClassifier\n",
        "def create_model():\n",
        "    model = models.Sequential()\n",
        "    #filter size: 32, kenel of 3x3, input shape without the batch_size (one trial), padding= with zero padding\n",
        "    model.add(layers.Conv2D(32, (3, 3), kernel_regularizer=regularizers.l2(0.001), activation='relu', input_shape=(7704,4,1),padding='same')) \n",
        "    model.add(layers.MaxPooling2D((2, 2)))\n",
        "    model.add(layers.Conv2D(32, (3, 3), kernel_regularizer=regularizers.l2(0.001),activation='relu',padding='same')) \n",
        "    model.add(layers.MaxPooling2D((2, 2)))\n",
        "    model.add(layers.Conv2D(64, (3, 3), kernel_regularizer=regularizers.l2(0.001), activation='relu',padding='same'))\n",
        "\n",
        "    #Adding a classifier on top of the convnet\n",
        "    model.add(layers.Flatten()) \n",
        "    model.add(layers.Dense(64, kernel_regularizer=regularizers.l2(0.001), activation='relu')) \n",
        "    model.add(layers.Dense(2, activation='sigmoid')) #last layer has 2 output options\n",
        "\n",
        "    # testing CNN model\n",
        "    opt = tf.keras.optimizers.RMSprop(learning_rate=0.01)\n",
        "    model.compile(loss='binary_crossentropy', optimizer=opt, metrics=['accuracy']) \n",
        "\n",
        "    return model\n",
        "# fix random seed for reproducibility\n",
        "seed = 7\n",
        "numpy.random.seed(seed)\n",
        "\n",
        "# create model\n",
        "model = KerasClassifier(build_fn=create_model, verbose=0)\n",
        "# define the grid search parameters\n",
        "batch_size = [10, 20, 40, 60, num_trials]\n",
        "epochs = [5,10,15,20]\n",
        "param_grid = dict(batch_size=batch_size, epochs=epochs)\n",
        "grid = GridSearchCV(estimator=model, param_grid=param_grid, n_jobs=-1, cv=3)\n",
        "grid_result = grid.fit(X_train, label_train) #validation_split=0.1\n",
        "# summarize results\n",
        "print(\"Best: %f using %s\" % (grid_result.best_score_, grid_result.best_params_))\n",
        "means = grid_result.cv_results_['mean_test_score']\n",
        "stds = grid_result.cv_results_['std_test_score']\n",
        "params = grid_result.cv_results_['params']\n",
        "for mean, stdev, param in zip(means, stds, params):\n",
        "    print(\"%f (%f) with: %r\" % (mean, stdev, param))"
      ]
    },
    {
      "cell_type": "code",
      "execution_count": null,
      "metadata": {
        "id": "GeoN7tXwjc2m"
      },
      "outputs": [],
      "source": [
        "\n",
        "\n",
        "## define the grid search parameters\n",
        "  # number of units per layer: filter?\n",
        "numb_filter= [16,32,64]\n",
        "  # the learning rate of the optimizer\n",
        "#'lr' : [0.001,0.01,0.1] \n",
        "  # window length\n",
        "window = [1926, 3852, 5778, 7704]\n",
        "  #number of epochs\n",
        "\n",
        "  #filter size"
      ]
    },
    {
      "cell_type": "markdown",
      "metadata": {
        "id": "4xfaB9Q0EuWZ"
      },
      "source": [
        "Different combination of channels"
      ]
    },
    {
      "cell_type": "code",
      "execution_count": null,
      "metadata": {
        "id": "eOVhl20GEw4E"
      },
      "outputs": [],
      "source": [
        "#--------#COMBINATION OF 4#--------#\n",
        "#Option 1: ALL 4\n",
        "X_train=X_train\n",
        "\n",
        "#--------#COMBINATION OF 1#--------#\n",
        "#Option 2: Only TA\n",
        "X_train=X_train[0]\n",
        "#Option 3: Only Gastroc\n",
        "X_train=X_train[1]\n",
        "#Option 4: Only RF\n",
        "X_train=X_train[2]\n",
        "#Option 5: Only BF\n",
        "X_train=X_train[3]\n",
        "\n",
        "#--------#COMBINATION OF 2#--------#\n",
        "#Option 6: TA,Gastroc\n",
        "X_train=X_train[0:1]\n",
        "#Option 7: TA,RF\n",
        "X_train=X_train[0:2:2]\n",
        "#Option 8: TA,BF\n",
        "X_train=X_train[0:3:3]\n",
        "#Option 9: Gastroc,RF\n",
        "X_train=X_train[1:2]\n",
        "#Option 10: Gastroc,BF\n",
        "X_train=X_train[1:3:2]\n",
        "#Option 11: RF,BF\n",
        "X_train=X_train[2:3]\n",
        "\n",
        "#--------#COMBINATION OF 3#--------#\n",
        "#Option 12: TA,Gastroc, RF\n",
        "X_train=X_train[0:2]\n",
        "#Option 13: TA,Gastroc, BF\n",
        "X_train=X_train[0:1]+X_train[3]####not sure how to do this####-----------------------\n",
        "#Option 14: TA,RF, BF\n",
        "X_train=X_train[0]+X_train[2:3]####not sure how to do this####-----------------------\n",
        "#Option 15: Gastroc, RF,BF\n",
        "X_train=X_train[1:3]"
      ]
    },
    {
      "cell_type": "code",
      "source": [
        "X_train"
      ],
      "metadata": {
        "id": "J55u-Zidzb4h"
      },
      "execution_count": null,
      "outputs": []
    },
    {
      "cell_type": "code",
      "source": [
        "#========Initial cutting========\n",
        "#X-data with shape ((1926frames x 4sec)x(80trials x 2surfaces x n-participants) x 4channels)\n",
        "X=TT[:, :, 1:5].numpy() #size: (7704, 320, 4)\n",
        "#Y-categorical encoded label = 1 for asphalt and 0 for grass \n",
        "y=TT[:,:,4].numpy() \n",
        "#number trials\n",
        "num_trials= TT.shape[1]\n",
        "\n",
        "#========Sreshaping into the specific intut format========S \n",
        "#keras CNN is looking for X= (batch_size, height, width,depth)\n",
        "X_reshape = X.reshape((num_trials,7704, 4, 1))\n",
        "y=y.reshape((num_trials,7704,1))\n",
        "print(\"Data shape:\", X_reshape.shape) \n",
        "print(\"Label shape:\", y.shape)\n",
        "\n",
        "#========Splitting the data into training and testing sets========S\n",
        "#data set for training and testing the model\n",
        "train_size= int(0.8*num_trials) \n",
        "X_train= X_reshape[0:train_size,:,:,:]\n",
        "X_test=X_reshape[train_size:num_trials,:,:,:]\n",
        "#labels for train and test\n",
        "y_train=y[0:train_size,:,:] \n",
        "y_test=y[train_size:num_trials,:,:]\n",
        "\n",
        "# ========convert class vectors to binary class matrices========\n",
        "label_train = to_categorical(y_train, 2)\n",
        "label_test = to_categorical(y_test, 2)\n",
        "\n",
        "#========only keeping one label for each trials========\n",
        "#(instead of a complete vector of the same number)\n",
        "label_train= label_train[:,0,:]\n",
        "label_test=label_test[:,0,:]\n",
        "\n",
        "print(\"Data shape train:\",X_train.shape,\"Data shape test:\",X_test.shape,\"Label shape train:\",label_train.shape,\"Label shape test:\",label_test.shape)"
      ],
      "metadata": {
        "id": "MVF9yu1bxPfU"
      },
      "execution_count": null,
      "outputs": []
    }
  ],
  "metadata": {
    "colab": {
      "collapsed_sections": [],
      "name": "Test_Baseline.ipynb",
      "provenance": [],
      "authorship_tag": "ABX9TyMwDSpdnTCVCq+/lpd7ab6t",
      "include_colab_link": true
    },
    "kernelspec": {
      "display_name": "Python 3",
      "name": "python3"
    },
    "language_info": {
      "name": "python"
    }
  },
  "nbformat": 4,
  "nbformat_minor": 0
}