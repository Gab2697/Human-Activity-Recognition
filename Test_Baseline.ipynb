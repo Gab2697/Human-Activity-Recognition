{
  "cells": [
    {
      "cell_type": "markdown",
      "metadata": {
        "id": "view-in-github",
        "colab_type": "text"
      },
      "source": [
        "<a href=\"https://colab.research.google.com/github/Gab2697/Human-Activity-Recognition/blob/master/Test_Baseline.ipynb\" target=\"_parent\"><img src=\"https://colab.research.google.com/assets/colab-badge.svg\" alt=\"Open In Colab\"/></a>"
      ]
    },
    {
      "cell_type": "code",
      "execution_count": 1,
      "metadata": {
        "id": "nR9RxapPC3p5"
      },
      "outputs": [],
      "source": [
        "#import\n",
        "import pandas as pd\n",
        "import tensorflow as tf\n",
        "import numpy as np\n",
        "import os\n",
        "import pickle\n",
        "import matplotlib.pyplot as plt\n",
        "from scipy import signal\n",
        "import torch\n",
        "\n",
        "from keras import layers \n",
        "from keras import models\n",
        "from tensorflow.keras.utils import to_categorical"
      ]
    },
    {
      "cell_type": "code",
      "execution_count": 2,
      "metadata": {
        "colab": {
          "base_uri": "https://localhost:8080/"
        },
        "id": "FFr-91fhC8b0",
        "outputId": "c7cc3b01-cd0c-4eb6-de73-92b67fb3292e"
      },
      "outputs": [
        {
          "output_type": "stream",
          "name": "stdout",
          "text": [
            "Drive already mounted at /content/drive; to attempt to forcibly remount, call drive.mount(\"/content/drive\", force_remount=True).\n"
          ]
        }
      ],
      "source": [
        "from google.colab import drive\n",
        "drive.mount('/content/drive')"
      ]
    },
    {
      "cell_type": "code",
      "execution_count": 3,
      "metadata": {
        "id": "stcTujsJDANh"
      },
      "outputs": [],
      "source": [
        "def open_pickle(path_pickle):\n",
        "  f = open(path_pickle, 'rb')\n",
        "  T = pickle.load(f)\n",
        "  f.close()\n",
        "\n",
        "  return T"
      ]
    },
    {
      "cell_type": "code",
      "execution_count": 4,
      "metadata": {
        "id": "WQ371TirDAew",
        "colab": {
          "base_uri": "https://localhost:8080/"
        },
        "outputId": "b81390c6-ed9d-4fb9-9f1f-b75ac62de299"
      },
      "outputs": [
        {
          "output_type": "execute_result",
          "data": {
            "text/plain": [
              "TensorShape([7704, 3959, 6])"
            ]
          },
          "metadata": {},
          "execution_count": 4
        }
      ],
      "source": [
        "#T13,T14,T15,T16,T17,T18,T19,T21,T22,T23,T25,T26,T27,T28\n",
        "TTT=open_pickle('/content/drive/MyDrive/Gab/Variables_saved/TTT.pickle')\n",
        "#T3,T4,T5,T7,T8,T9,T10,T11,T12,T20,T24\n",
        "T=open_pickle('/content/drive/MyDrive/Gab/Variables_saved/TT.pickle')\n",
        "\n",
        "#bring all into one\n",
        "TT = tf.concat([T,TTT], axis=1)\n",
        "\n",
        "TT.shape"
      ]
    },
    {
      "cell_type": "code",
      "execution_count": 5,
      "metadata": {
        "colab": {
          "base_uri": "https://localhost:8080/"
        },
        "id": "qMZMHMCEDFyo",
        "outputId": "6ba30808-5a66-4604-93ea-284aafd1d0db"
      },
      "outputs": [
        {
          "output_type": "stream",
          "name": "stdout",
          "text": [
            "Data shape: (3959, 7704, 4, 1)\n",
            "Label shape: (3959, 7704, 1)\n",
            "Data shape train: (3167, 7704, 4, 1) Data shape test: (792, 7704, 4, 1) Label shape train: (3167, 2) Label shape test: (792, 2)\n"
          ]
        }
      ],
      "source": [
        "#========Initial cutting========\n",
        "#X-data with shape ((1926frames x 4sec)x(80trials x 2surfaces x n-participants) x 4channels)\n",
        "X=TT[:, :, 1:5].numpy() #size: (7704, 320, 4)\n",
        "#Y-categorical encoded label = 1 for asphalt and 0 for grass \n",
        "y=TT[:,:,4].numpy() \n",
        "#number trials\n",
        "num_trials= TT.shape[1]\n",
        "\n",
        "#========Sreshaping into the specific intut format========S \n",
        "#keras CNN is looking for X= (batch_size, height, width,depth)\n",
        "X_reshape = X.reshape((num_trials,7704, 4, 1))\n",
        "y=y.reshape((num_trials,7704,1))\n",
        "print(\"Data shape:\", X_reshape.shape) \n",
        "print(\"Label shape:\", y.shape)\n",
        "\n",
        "#========Splitting the data into training and testing sets========S\n",
        "#data set for training and testing the model\n",
        "train_size= int(0.8*num_trials) \n",
        "X_train= X_reshape[0:train_size,:,:,:]\n",
        "X_test=X_reshape[train_size:num_trials,:,:,:]\n",
        "#labels for train and test\n",
        "y_train=y[0:train_size,:,:] \n",
        "y_test=y[train_size:num_trials,:,:]\n",
        "\n",
        "# ========convert class vectors to binary class matrices========\n",
        "label_train = to_categorical(y_train, 2)\n",
        "label_test = to_categorical(y_test, 2)\n",
        "\n",
        "#========only keeping one label for each trials========\n",
        "#(instead of a complete vector of the same number)\n",
        "label_train= label_train[:,0,:]\n",
        "label_test=label_test[:,0,:]\n",
        "\n",
        "print(\"Data shape train:\",X_train.shape,\"Data shape test:\",X_test.shape,\"Label shape train:\",label_train.shape,\"Label shape test:\",label_test.shape)"
      ]
    },
    {
      "cell_type": "markdown",
      "metadata": {
        "id": "Q4oDa5RnELGy"
      },
      "source": [
        "#Baseline CNN"
      ]
    },
    {
      "cell_type": "code",
      "execution_count": 14,
      "metadata": {
        "colab": {
          "base_uri": "https://localhost:8080/"
        },
        "id": "Fc1-VjrMDW1Y",
        "outputId": "54ac8178-67c0-4a46-e6f2-6af76e5d4fdb"
      },
      "outputs": [
        {
          "output_type": "stream",
          "name": "stdout",
          "text": [
            "Model: \"sequential\"\n",
            "_________________________________________________________________\n",
            " Layer (type)                Output Shape              Param #   \n",
            "=================================================================\n",
            " conv2d (Conv2D)             (None, 7704, 4, 32)       320       \n",
            "                                                                 \n",
            " max_pooling2d (MaxPooling2D  (None, 3852, 2, 32)      0         \n",
            " )                                                               \n",
            "                                                                 \n",
            " conv2d_1 (Conv2D)           (None, 3852, 2, 64)       18496     \n",
            "                                                                 \n",
            "=================================================================\n",
            "Total params: 18,816\n",
            "Trainable params: 18,816\n",
            "Non-trainable params: 0\n",
            "_________________________________________________________________\n",
            "Model: \"sequential\"\n",
            "_________________________________________________________________\n",
            " Layer (type)                Output Shape              Param #   \n",
            "=================================================================\n",
            " conv2d (Conv2D)             (None, 7704, 4, 32)       320       \n",
            "                                                                 \n",
            " max_pooling2d (MaxPooling2D  (None, 3852, 2, 32)      0         \n",
            " )                                                               \n",
            "                                                                 \n",
            " conv2d_1 (Conv2D)           (None, 3852, 2, 64)       18496     \n",
            "                                                                 \n",
            " flatten (Flatten)           (None, 493056)            0         \n",
            "                                                                 \n",
            " dense (Dense)               (None, 64)                31555648  \n",
            "                                                                 \n",
            " dense_1 (Dense)             (None, 2)                 130       \n",
            "                                                                 \n",
            "=================================================================\n",
            "Total params: 31,574,594\n",
            "Trainable params: 31,574,594\n",
            "Non-trainable params: 0\n",
            "_________________________________________________________________\n",
            "Epoch 1/5\n",
            "57/57 [==============================] - 121s 2s/step - loss: 1.0981 - accuracy: 0.9316 - val_loss: 3.4980e-04 - val_accuracy: 1.0000\n",
            "Epoch 2/5\n",
            "57/57 [==============================] - 115s 2s/step - loss: 9.8368e-05 - accuracy: 1.0000 - val_loss: 8.4006e-06 - val_accuracy: 1.0000\n",
            "Epoch 3/5\n",
            "57/57 [==============================] - 115s 2s/step - loss: 2.6923e-06 - accuracy: 1.0000 - val_loss: 3.4921e-07 - val_accuracy: 1.0000\n",
            "Epoch 4/5\n",
            "57/57 [==============================] - 115s 2s/step - loss: 1.2422e-07 - accuracy: 1.0000 - val_loss: 2.6995e-08 - val_accuracy: 1.0000\n",
            "Epoch 5/5\n",
            "57/57 [==============================] - 115s 2s/step - loss: 1.1575e-08 - accuracy: 1.0000 - val_loss: 3.8323e-09 - val_accuracy: 1.0000\n"
          ]
        }
      ],
      "source": [
        "#Instantiating a small convnet\n",
        "model = models.Sequential()\n",
        "#filter size: 32, kenel of 3x3, input shape without the batch_size (one trial), padding= with zero padding\n",
        "model.add(layers.Conv2D(32, (3, 3), activation='relu', input_shape=(7704,4,1),padding='same')) \n",
        "model.add(layers.MaxPooling2D((2, 2)))\n",
        "model.add(layers.Conv2D(64, (3, 3), activation='relu',padding='same'))\n",
        "model.summary()\n",
        "\n",
        "#Adding a classifier on top of the convnet\n",
        "model.add(layers.Flatten()) \n",
        "model.add(layers.Dense(64, activation='relu')) \n",
        "model.add(layers.Dense(2, activation='sigmoid')) #last layer has 2 output options\n",
        "model.summary()\n",
        "\n",
        "# testing CNN model\n",
        "num_trial_batch=50\n",
        "model.compile(optimizer='rmsprop', loss='binary_crossentropy', metrics=['accuracy']) \n",
        "history= model.fit(X_train, label_train, epochs=5, batch_size=num_trial_batch,validation_split=0.1)   "
      ]
    },
    {
      "cell_type": "markdown",
      "metadata": {
        "id": "NMoRpHMwSBtz"
      },
      "source": [
        "#Testing Baseline"
      ]
    },
    {
      "cell_type": "markdown",
      "metadata": {
        "id": "8K_31_kWE8PL"
      },
      "source": [
        "Add layers"
      ]
    },
    {
      "cell_type": "code",
      "execution_count": null,
      "metadata": {
        "colab": {
          "base_uri": "https://localhost:8080/"
        },
        "id": "J81kNXr6E-Nl",
        "outputId": "539f5ce8-407e-4125-bb73-13c98bf8709d"
      },
      "outputs": [
        {
          "name": "stdout",
          "output_type": "stream",
          "text": [
            "Model: \"sequential_2\"\n",
            "_________________________________________________________________\n",
            " Layer (type)                Output Shape              Param #   \n",
            "=================================================================\n",
            " conv2d_6 (Conv2D)           (None, 7704, 4, 32)       320       \n",
            "                                                                 \n",
            " max_pooling2d_5 (MaxPooling  (None, 3852, 2, 32)      0         \n",
            " 2D)                                                             \n",
            "                                                                 \n",
            " conv2d_7 (Conv2D)           (None, 3852, 2, 64)       18496     \n",
            "                                                                 \n",
            "=================================================================\n",
            "Total params: 18,816\n",
            "Trainable params: 18,816\n",
            "Non-trainable params: 0\n",
            "_________________________________________________________________\n",
            "Model: \"sequential_2\"\n",
            "_________________________________________________________________\n",
            " Layer (type)                Output Shape              Param #   \n",
            "=================================================================\n",
            " conv2d_6 (Conv2D)           (None, 7704, 4, 32)       320       \n",
            "                                                                 \n",
            " max_pooling2d_5 (MaxPooling  (None, 3852, 2, 32)      0         \n",
            " 2D)                                                             \n",
            "                                                                 \n",
            " conv2d_7 (Conv2D)           (None, 3852, 2, 64)       18496     \n",
            "                                                                 \n",
            " flatten_1 (Flatten)         (None, 493056)            0         \n",
            "                                                                 \n",
            " dense_2 (Dense)             (None, 64)                31555648  \n",
            "                                                                 \n",
            " dense_3 (Dense)             (None, 2)                 130       \n",
            "                                                                 \n",
            "=================================================================\n",
            "Total params: 31,574,594\n",
            "Trainable params: 31,574,594\n",
            "Non-trainable params: 0\n",
            "_________________________________________________________________\n",
            "Epoch 1/5\n",
            "1/1 [==============================] - 27s 27s/step - loss: 0.6918 - accuracy: 0.4935 - val_loss: 10.8180 - val_accuracy: 0.6731\n",
            "Epoch 2/5\n",
            "1/1 [==============================] - 21s 21s/step - loss: 11.0270 - accuracy: 0.6500 - val_loss: 3.7718 - val_accuracy: 0.8654\n",
            "Epoch 3/5\n",
            "1/1 [==============================] - 20s 20s/step - loss: 3.6387 - accuracy: 0.8891 - val_loss: 0.3407 - val_accuracy: 0.9038\n",
            "Epoch 4/5\n",
            "1/1 [==============================] - 21s 21s/step - loss: 0.4240 - accuracy: 0.9087 - val_loss: 0.2681 - val_accuracy: 0.9038\n",
            "Epoch 5/5\n",
            "1/1 [==============================] - 20s 20s/step - loss: 0.2414 - accuracy: 0.9326 - val_loss: 0.0413 - val_accuracy: 0.9808\n"
          ]
        }
      ],
      "source": [
        "#Instantiating a small convnet\n",
        "model = models.Sequential()\n",
        "#filter size: 32, kenel of 3x3, input shape without the batch_size (one trial), padding= with zero padding\n",
        "model.add(layers.Conv2D(32, (3, 3), activation='relu', input_shape=(7704,4,1),padding='same')) \n",
        "model.add(layers.MaxPooling2D((2, 2)))\n",
        "\n",
        "#Add layer-------\n",
        "model.add(layers.Conv2D(32, (3, 3), activation='relu',padding='same')) \n",
        "model.add(layers.MaxPooling2D((2, 2)))\n",
        "\n",
        "model.add(layers.Conv2D(64, (3, 3), activation='relu',padding='same'))\n",
        "model.summary()\n",
        "\n",
        "#Adding a classifier on top of the convnet\n",
        "model.add(layers.Flatten()) \n",
        "model.add(layers.Dense(64, activation='relu')) \n",
        "model.add(layers.Dense(2, activation='sigmoid')) #last layer has 2 output options\n",
        "model.summary()\n",
        "\n",
        "# testing CNN model\n",
        "model.compile(optimizer='rmsprop', loss='binary_crossentropy', metrics=['accuracy']) \n",
        "history= model.fit(X_train, label_train, epochs=5, batch_size=num_trials,validation_split=0.1)   "
      ]
    },
    {
      "cell_type": "markdown",
      "metadata": {
        "id": "-99BHkL7EQEF"
      },
      "source": [
        "Bigger layers (more filters)"
      ]
    },
    {
      "cell_type": "code",
      "execution_count": null,
      "metadata": {
        "colab": {
          "base_uri": "https://localhost:8080/"
        },
        "id": "HVKmDp0NEVzj",
        "outputId": "6e2d9543-9542-4212-852a-296502fe683c"
      },
      "outputs": [
        {
          "name": "stdout",
          "output_type": "stream",
          "text": [
            "Model: \"sequential\"\n",
            "_________________________________________________________________\n",
            " Layer (type)                Output Shape              Param #   \n",
            "=================================================================\n",
            " conv2d (Conv2D)             (None, 7704, 4, 52)       520       \n",
            "                                                                 \n",
            " max_pooling2d (MaxPooling2D  (None, 3852, 2, 52)      0         \n",
            " )                                                               \n",
            "                                                                 \n",
            " conv2d_1 (Conv2D)           (None, 3852, 2, 52)       24388     \n",
            "                                                                 \n",
            " max_pooling2d_1 (MaxPooling  (None, 1926, 1, 52)      0         \n",
            " 2D)                                                             \n",
            "                                                                 \n",
            " conv2d_2 (Conv2D)           (None, 1926, 1, 64)       30016     \n",
            "                                                                 \n",
            "=================================================================\n",
            "Total params: 54,924\n",
            "Trainable params: 54,924\n",
            "Non-trainable params: 0\n",
            "_________________________________________________________________\n",
            "Model: \"sequential\"\n",
            "_________________________________________________________________\n",
            " Layer (type)                Output Shape              Param #   \n",
            "=================================================================\n",
            " conv2d (Conv2D)             (None, 7704, 4, 52)       520       \n",
            "                                                                 \n",
            " max_pooling2d (MaxPooling2D  (None, 3852, 2, 52)      0         \n",
            " )                                                               \n",
            "                                                                 \n",
            " conv2d_1 (Conv2D)           (None, 3852, 2, 52)       24388     \n",
            "                                                                 \n",
            " max_pooling2d_1 (MaxPooling  (None, 1926, 1, 52)      0         \n",
            " 2D)                                                             \n",
            "                                                                 \n",
            " conv2d_2 (Conv2D)           (None, 1926, 1, 64)       30016     \n",
            "                                                                 \n",
            " flatten (Flatten)           (None, 123264)            0         \n",
            "                                                                 \n",
            " dense (Dense)               (None, 64)                7888960   \n",
            "                                                                 \n",
            " dense_1 (Dense)             (None, 2)                 130       \n",
            "                                                                 \n",
            "=================================================================\n",
            "Total params: 7,944,014\n",
            "Trainable params: 7,944,014\n",
            "Non-trainable params: 0\n",
            "_________________________________________________________________\n",
            "Epoch 1/5\n",
            "1/1 [==============================] - 43s 43s/step - loss: 0.6936 - accuracy: 0.4652 - val_loss: 0.7942 - val_accuracy: 0.8462\n",
            "Epoch 2/5\n",
            "1/1 [==============================] - 34s 34s/step - loss: 0.7969 - accuracy: 0.8304 - val_loss: 1.9242 - val_accuracy: 0.6538\n",
            "Epoch 3/5\n",
            "1/1 [==============================] - 38s 38s/step - loss: 1.8970 - accuracy: 0.6674 - val_loss: 0.4557 - val_accuracy: 0.9038\n",
            "Epoch 4/5\n",
            "1/1 [==============================] - 39s 39s/step - loss: 0.4515 - accuracy: 0.9239 - val_loss: 0.2187 - val_accuracy: 0.9808\n",
            "Epoch 5/5\n",
            "1/1 [==============================] - 41s 41s/step - loss: 0.2188 - accuracy: 0.9783 - val_loss: 0.7745 - val_accuracy: 0.9808\n"
          ]
        }
      ],
      "source": [
        "#Note: Tried with 512-->crashed RAM,Tried with 128-->crashed RAM, maybe if smaller number of filter, RAM won't crash with all partipicants \n",
        "###try 100!!-Phil D with 16x16\n",
        "#Instantiating a small convnet\n",
        "model = models.Sequential()\n",
        "#filter size: 32, kenel of 3x3, input shape without the batch_size (one trial), padding= with zero padding\n",
        "model.add(layers.Conv2D(52, (3, 3), activation='relu', input_shape=(7704,4,1),padding='same')) \n",
        "model.add(layers.MaxPooling2D((2, 2)))\n",
        "model.add(layers.Conv2D(52, (3, 3), activation='relu',padding='same')) \n",
        "model.add(layers.MaxPooling2D((2, 2)))\n",
        "\n",
        "model.add(layers.Conv2D(64, (3, 3), activation='relu',padding='same'))\n",
        "model.summary()\n",
        "\n",
        "\n",
        "#Adding a classifier on top of the convnet\n",
        "model.add(layers.Flatten()) \n",
        "model.add(layers.Dense(64, activation='relu')) \n",
        "model.add(layers.Dense(2, activation='sigmoid')) #last layer has 2 output options\n",
        "model.summary()\n",
        "\n",
        "# testing CNN model\n",
        "model.compile(optimizer='rmsprop', loss='binary_crossentropy', metrics=['accuracy']) \n",
        "history= model.fit(X_train, label_train, epochs=5, batch_size=num_trials,validation_split=0.1)   "
      ]
    },
    {
      "cell_type": "markdown",
      "metadata": {
        "id": "ufxWmYVVRhXP"
      },
      "source": [
        "Less filters= underfit\n"
      ]
    },
    {
      "cell_type": "code",
      "execution_count": 6,
      "metadata": {
        "colab": {
          "base_uri": "https://localhost:8080/"
        },
        "id": "dGeKQs07Raej",
        "outputId": "442418e4-8ac3-48ba-b896-ac60e19aea05"
      },
      "outputs": [
        {
          "output_type": "stream",
          "name": "stdout",
          "text": [
            "Model: \"sequential\"\n",
            "_________________________________________________________________\n",
            " Layer (type)                Output Shape              Param #   \n",
            "=================================================================\n",
            " conv2d (Conv2D)             (None, 7704, 4, 16)       160       \n",
            "                                                                 \n",
            " max_pooling2d (MaxPooling2D  (None, 3852, 2, 16)      0         \n",
            " )                                                               \n",
            "                                                                 \n",
            " conv2d_1 (Conv2D)           (None, 3852, 2, 16)       2320      \n",
            "                                                                 \n",
            " max_pooling2d_1 (MaxPooling  (None, 1926, 1, 16)      0         \n",
            " 2D)                                                             \n",
            "                                                                 \n",
            " conv2d_2 (Conv2D)           (None, 1926, 1, 32)       4640      \n",
            "                                                                 \n",
            "=================================================================\n",
            "Total params: 7,120\n",
            "Trainable params: 7,120\n",
            "Non-trainable params: 0\n",
            "_________________________________________________________________\n",
            "Model: \"sequential\"\n",
            "_________________________________________________________________\n",
            " Layer (type)                Output Shape              Param #   \n",
            "=================================================================\n",
            " conv2d (Conv2D)             (None, 7704, 4, 16)       160       \n",
            "                                                                 \n",
            " max_pooling2d (MaxPooling2D  (None, 3852, 2, 16)      0         \n",
            " )                                                               \n",
            "                                                                 \n",
            " conv2d_1 (Conv2D)           (None, 3852, 2, 16)       2320      \n",
            "                                                                 \n",
            " max_pooling2d_1 (MaxPooling  (None, 1926, 1, 16)      0         \n",
            " 2D)                                                             \n",
            "                                                                 \n",
            " conv2d_2 (Conv2D)           (None, 1926, 1, 32)       4640      \n",
            "                                                                 \n",
            " flatten (Flatten)           (None, 61632)             0         \n",
            "                                                                 \n",
            " dense (Dense)               (None, 32)                1972256   \n",
            "                                                                 \n",
            " dense_1 (Dense)             (None, 2)                 66        \n",
            "                                                                 \n",
            "=================================================================\n",
            "Total params: 1,979,442\n",
            "Trainable params: 1,979,442\n",
            "Non-trainable params: 0\n",
            "_________________________________________________________________\n",
            "Epoch 1/5\n",
            "57/57 [==============================] - 52s 890ms/step - loss: 0.2578 - accuracy: 0.9309 - val_loss: 0.0022 - val_accuracy: 1.0000\n",
            "Epoch 2/5\n",
            "57/57 [==============================] - 51s 900ms/step - loss: 0.0117 - accuracy: 0.9975 - val_loss: 1.9652e-04 - val_accuracy: 1.0000\n",
            "Epoch 3/5\n",
            "57/57 [==============================] - 51s 881ms/step - loss: 6.3131e-05 - accuracy: 1.0000 - val_loss: 6.9904e-06 - val_accuracy: 1.0000\n",
            "Epoch 4/5\n",
            "57/57 [==============================] - 50s 870ms/step - loss: 2.2059e-06 - accuracy: 1.0000 - val_loss: 2.9654e-07 - val_accuracy: 1.0000\n",
            "Epoch 5/5\n",
            "57/57 [==============================] - 50s 873ms/step - loss: 9.8967e-08 - accuracy: 1.0000 - val_loss: 1.6891e-08 - val_accuracy: 1.0000\n"
          ]
        }
      ],
      "source": [
        "num_trial_batch=50 \n",
        "#Instantiating a small convnet\n",
        "model = models.Sequential()\n",
        "#filter size: 32, kenel of 3x3, input shape without the batch_size (one trial), padding= with zero padding\n",
        "model.add(layers.Conv2D(16, (3, 3), activation='relu', input_shape=(7704,4,1),padding='same')) \n",
        "model.add(layers.MaxPooling2D((2, 2)))\n",
        "model.add(layers.Conv2D(16, (3, 3), activation='relu',padding='same')) \n",
        "model.add(layers.MaxPooling2D((2, 2)))\n",
        "\n",
        "model.add(layers.Conv2D(32, (3, 3), activation='relu',padding='same'))\n",
        "model.summary()\n",
        "\n",
        "\n",
        "#Adding a classifier on top of the convnet\n",
        "model.add(layers.Flatten()) \n",
        "model.add(layers.Dense(32, activation='relu')) \n",
        "model.add(layers.Dense(2, activation='sigmoid')) #last layer has 2 output options\n",
        "model.summary()\n",
        "\n",
        "# testing CNN model\n",
        "model.compile(optimizer='rmsprop', loss='binary_crossentropy', metrics=['accuracy']) \n",
        "history= model.fit(X_train, label_train, epochs=5, batch_size=num_trial_batch,validation_split=0.1)   "
      ]
    },
    {
      "cell_type": "markdown",
      "metadata": {
        "id": "Mj4_K21aEYJi"
      },
      "source": [
        "More epochs"
      ]
    },
    {
      "cell_type": "code",
      "execution_count": null,
      "metadata": {
        "id": "XP_vEbnOEaJw"
      },
      "outputs": [],
      "source": [
        "#Instantiating a small convnet\n",
        "model = models.Sequential()\n",
        "#filter size: 32, kenel of 3x3, input shape without the batch_size (one trial), padding= with zero padding\n",
        "model.add(layers.Conv2D(32, (3, 3), activation='relu', input_shape=(7704,4,1),padding='same')) \n",
        "model.add(layers.MaxPooling2D((2, 2)))\n",
        "model.add(layers.Conv2D(32, (3, 3), activation='relu',padding='same')) \n",
        "model.add(layers.MaxPooling2D((2, 2)))\n",
        "\n",
        "model.add(layers.Conv2D(64, (3, 3), activation='relu',padding='same'))\n",
        "model.summary()\n",
        "\n",
        "\n",
        "#Adding a classifier on top of the convnet\n",
        "model.add(layers.Flatten()) \n",
        "model.add(layers.Dense(64, activation='relu')) \n",
        "model.add(layers.Dense(2, activation='sigmoid')) #last layer has 2 output options\n",
        "model.summary()\n",
        "\n",
        "# testing CNN model\n",
        "model.compile(optimizer='rmsprop', loss='binary_crossentropy', metrics=['accuracy']) \n",
        "history= model.fit(X_train, label_train, epochs=15, batch_size=num_trials,validation_split=0.1)   "
      ]
    },
    {
      "cell_type": "markdown",
      "metadata": {
        "id": "lB1TCKugEfie"
      },
      "source": [
        "#Regularization"
      ]
    },
    {
      "cell_type": "markdown",
      "metadata": {
        "id": "-2Xq0g0oEh-L"
      },
      "source": [
        "Dropout"
      ]
    },
    {
      "cell_type": "code",
      "execution_count": 7,
      "metadata": {
        "colab": {
          "base_uri": "https://localhost:8080/"
        },
        "id": "gJ4U4lvLEj34",
        "outputId": "bca67e56-4cec-4325-d73d-15c140818526"
      },
      "outputs": [
        {
          "output_type": "stream",
          "name": "stdout",
          "text": [
            "Model: \"sequential_1\"\n",
            "_________________________________________________________________\n",
            " Layer (type)                Output Shape              Param #   \n",
            "=================================================================\n",
            " conv2d_3 (Conv2D)           (None, 7704, 4, 32)       320       \n",
            "                                                                 \n",
            " dropout (Dropout)           (None, 7704, 4, 32)       0         \n",
            "                                                                 \n",
            " max_pooling2d_2 (MaxPooling  (None, 3852, 2, 32)      0         \n",
            " 2D)                                                             \n",
            "                                                                 \n",
            " conv2d_4 (Conv2D)           (None, 3852, 2, 32)       9248      \n",
            "                                                                 \n",
            " dropout_1 (Dropout)         (None, 3852, 2, 32)       0         \n",
            "                                                                 \n",
            " max_pooling2d_3 (MaxPooling  (None, 1926, 1, 32)      0         \n",
            " 2D)                                                             \n",
            "                                                                 \n",
            " conv2d_5 (Conv2D)           (None, 1926, 1, 64)       18496     \n",
            "                                                                 \n",
            " dropout_2 (Dropout)         (None, 1926, 1, 64)       0         \n",
            "                                                                 \n",
            "=================================================================\n",
            "Total params: 28,064\n",
            "Trainable params: 28,064\n",
            "Non-trainable params: 0\n",
            "_________________________________________________________________\n",
            "Model: \"sequential_1\"\n",
            "_________________________________________________________________\n",
            " Layer (type)                Output Shape              Param #   \n",
            "=================================================================\n",
            " conv2d_3 (Conv2D)           (None, 7704, 4, 32)       320       \n",
            "                                                                 \n",
            " dropout (Dropout)           (None, 7704, 4, 32)       0         \n",
            "                                                                 \n",
            " max_pooling2d_2 (MaxPooling  (None, 3852, 2, 32)      0         \n",
            " 2D)                                                             \n",
            "                                                                 \n",
            " conv2d_4 (Conv2D)           (None, 3852, 2, 32)       9248      \n",
            "                                                                 \n",
            " dropout_1 (Dropout)         (None, 3852, 2, 32)       0         \n",
            "                                                                 \n",
            " max_pooling2d_3 (MaxPooling  (None, 1926, 1, 32)      0         \n",
            " 2D)                                                             \n",
            "                                                                 \n",
            " conv2d_5 (Conv2D)           (None, 1926, 1, 64)       18496     \n",
            "                                                                 \n",
            " dropout_2 (Dropout)         (None, 1926, 1, 64)       0         \n",
            "                                                                 \n",
            " flatten_1 (Flatten)         (None, 123264)            0         \n",
            "                                                                 \n",
            " dense_2 (Dense)             (None, 64)                7888960   \n",
            "                                                                 \n",
            " dropout_3 (Dropout)         (None, 64)                0         \n",
            "                                                                 \n",
            " dense_3 (Dense)             (None, 2)                 130       \n",
            "                                                                 \n",
            "=================================================================\n",
            "Total params: 7,917,154\n",
            "Trainable params: 7,917,154\n",
            "Non-trainable params: 0\n",
            "_________________________________________________________________\n",
            "Epoch 1/5\n",
            "57/57 [==============================] - 134s 2s/step - loss: 0.2835 - accuracy: 0.9256 - val_loss: 0.0523 - val_accuracy: 0.9716\n",
            "Epoch 2/5\n",
            "57/57 [==============================] - 137s 2s/step - loss: 0.0124 - accuracy: 0.9975 - val_loss: 7.7517e-04 - val_accuracy: 1.0000\n",
            "Epoch 3/5\n",
            "57/57 [==============================] - 147s 3s/step - loss: 0.0096 - accuracy: 0.9982 - val_loss: 0.0016 - val_accuracy: 1.0000\n",
            "Epoch 4/5\n",
            "57/57 [==============================] - 138s 2s/step - loss: 0.0011 - accuracy: 1.0000 - val_loss: 4.3001e-06 - val_accuracy: 1.0000\n",
            "Epoch 5/5\n",
            "57/57 [==============================] - 133s 2s/step - loss: 0.0072 - accuracy: 0.9989 - val_loss: 1.3659e-05 - val_accuracy: 1.0000\n"
          ]
        }
      ],
      "source": [
        "#Instantiating a small convnet\n",
        "model = models.Sequential()\n",
        "#filter size: 32, kenel of 3x3, input shape without the batch_size (one trial), padding= with zero padding\n",
        "model.add(layers.Conv2D(32, (3, 3), activation='relu', input_shape=(7704,4,1),padding='same')) \n",
        "model.add(layers.Dropout(0.5))\n",
        "model.add(layers.MaxPooling2D((2, 2)))\n",
        "model.add(layers.Conv2D(32, (3, 3), activation='relu',padding='same'))\n",
        "model.add(layers.Dropout(0.5)) \n",
        "model.add(layers.MaxPooling2D((2, 2)))\n",
        "model.add(layers.Conv2D(64, (3, 3), activation='relu',padding='same'))\n",
        "model.add(layers.Dropout(0.5))\n",
        "model.summary()\n",
        "\n",
        "\n",
        "#Adding a classifier on top of the convnet\n",
        "model.add(layers.Flatten()) \n",
        "model.add(layers.Dense(64, activation='relu')) \n",
        "model.add(layers.Dropout(0.5))\n",
        "model.add(layers.Dense(2, activation='sigmoid')) #last layer has 2 output options\n",
        "model.summary()\n",
        "\n",
        "# testing CNN model\n",
        "model.compile(optimizer='rmsprop', loss='binary_crossentropy', metrics=['accuracy']) \n",
        "history= model.fit(X_train, label_train, epochs=5, batch_size=50,validation_split=0.1)   "
      ]
    },
    {
      "cell_type": "markdown",
      "source": [
        "#HERE!!\n"
      ],
      "metadata": {
        "id": "Iq87vuzTRG8k"
      }
    },
    {
      "cell_type": "markdown",
      "metadata": {
        "id": "ITaXAK37EkX6"
      },
      "source": [
        "Weight regularization-L2 (keeping also dropout)"
      ]
    },
    {
      "cell_type": "code",
      "execution_count": 12,
      "metadata": {
        "colab": {
          "base_uri": "https://localhost:8080/"
        },
        "id": "z4IoR0NDEnPK",
        "outputId": "cd6bb4c7-b0a2-4f54-ec1c-f9afd7ae77f2"
      },
      "outputs": [
        {
          "output_type": "stream",
          "name": "stdout",
          "text": [
            "Model: \"sequential_5\"\n",
            "_________________________________________________________________\n",
            " Layer (type)                Output Shape              Param #   \n",
            "=================================================================\n",
            " conv2d_15 (Conv2D)          (None, 7704, 4, 32)       320       \n",
            "                                                                 \n",
            " dropout_13 (Dropout)        (None, 7704, 4, 32)       0         \n",
            "                                                                 \n",
            " max_pooling2d_10 (MaxPoolin  (None, 3852, 2, 32)      0         \n",
            " g2D)                                                            \n",
            "                                                                 \n",
            " conv2d_16 (Conv2D)          (None, 3852, 2, 64)       18496     \n",
            "                                                                 \n",
            " dropout_14 (Dropout)        (None, 3852, 2, 64)       0         \n",
            "                                                                 \n",
            "=================================================================\n",
            "Total params: 18,816\n",
            "Trainable params: 18,816\n",
            "Non-trainable params: 0\n",
            "_________________________________________________________________\n",
            "Model: \"sequential_5\"\n",
            "_________________________________________________________________\n",
            " Layer (type)                Output Shape              Param #   \n",
            "=================================================================\n",
            " conv2d_15 (Conv2D)          (None, 7704, 4, 32)       320       \n",
            "                                                                 \n",
            " dropout_13 (Dropout)        (None, 7704, 4, 32)       0         \n",
            "                                                                 \n",
            " max_pooling2d_10 (MaxPoolin  (None, 3852, 2, 32)      0         \n",
            " g2D)                                                            \n",
            "                                                                 \n",
            " conv2d_16 (Conv2D)          (None, 3852, 2, 64)       18496     \n",
            "                                                                 \n",
            " dropout_14 (Dropout)        (None, 3852, 2, 64)       0         \n",
            "                                                                 \n",
            " flatten_5 (Flatten)         (None, 493056)            0         \n",
            "                                                                 \n",
            " dense_10 (Dense)            (None, 64)                31555648  \n",
            "                                                                 \n",
            " dense_11 (Dense)            (None, 2)                 130       \n",
            "                                                                 \n",
            "=================================================================\n",
            "Total params: 31,574,594\n",
            "Trainable params: 31,574,594\n",
            "Non-trainable params: 0\n",
            "_________________________________________________________________\n",
            "Epoch 1/5\n",
            "57/57 [==============================] - 164s 3s/step - loss: 2.7159 - accuracy: 0.8811 - val_loss: 0.3417 - val_accuracy: 0.9180\n",
            "Epoch 2/5\n",
            "57/57 [==============================] - 163s 3s/step - loss: 0.1637 - accuracy: 0.9856 - val_loss: 0.0829 - val_accuracy: 1.0000\n",
            "Epoch 3/5\n",
            "57/57 [==============================] - 163s 3s/step - loss: 0.0809 - accuracy: 0.9842 - val_loss: 0.0519 - val_accuracy: 1.0000\n",
            "Epoch 4/5\n",
            "57/57 [==============================] - 163s 3s/step - loss: 0.0382 - accuracy: 0.9982 - val_loss: 0.0268 - val_accuracy: 1.0000\n",
            "Epoch 5/5\n",
            "57/57 [==============================] - 162s 3s/step - loss: 0.0400 - accuracy: 0.9958 - val_loss: 0.0221 - val_accuracy: 1.0000\n"
          ]
        }
      ],
      "source": [
        "from keras import regularizers\n",
        "\n",
        "model = models.Sequential()\n",
        "#filter size: 32, kenel of 3x3, input shape without the batch_size (one trial), padding= with zero padding\n",
        "model.add(layers.Conv2D(32, (3, 3), kernel_regularizer=regularizers.l2(0.001), activation='relu', input_shape=(7704,4,1),padding='same')) \n",
        "model.add(layers.Dropout(0.5))\n",
        "model.add(layers.MaxPooling2D((2, 2)))\n",
        "# model.add(layers.Conv2D(32, (3, 3), kernel_regularizer=regularizers.l2(0.001),activation='relu',padding='same')) \n",
        "# model.add(layers.Dropout(0.5))\n",
        "# model.add(layers.MaxPooling2D((2, 2)))\n",
        "\n",
        "model.add(layers.Conv2D(64, (3, 3), kernel_regularizer=regularizers.l2(0.001), activation='relu',padding='same'))\n",
        "model.add(layers.Dropout(0.5))\n",
        "model.summary()\n",
        "\n",
        "\n",
        "#Adding a classifier on top of the convnet\n",
        "model.add(layers.Flatten()) \n",
        "model.add(layers.Dense(64, kernel_regularizer=regularizers.l2(0.001), activation='relu')) \n",
        "model.add(layers.Dense(2, activation='sigmoid')) #last layer has 2 output options\n",
        "model.summary()\n",
        "\n",
        "# testing CNN model\n",
        "model.compile(optimizer='rmsprop', loss='binary_crossentropy', metrics=['accuracy']) \n",
        "history= model.fit(X_train, label_train, epochs=5, batch_size=50,validation_split=0.1)  "
      ]
    },
    {
      "cell_type": "code",
      "source": [
        "#plot train/validation loss and train/validation accuracy \n",
        "history_dict = history.history\n",
        "loss_values=history_dict['loss']\n",
        "epochs = range(1, len(loss_values) + 1)\n",
        "plt.plot(epochs,history_dict['loss'])\n",
        "plt.plot(epochs, history_dict['val_loss'])\n",
        "plt.title('Model loss')\n",
        "plt.ylabel('Loss')\n",
        "plt.xlabel('Epochs')\n",
        "plt.legend(['train', 'val'], loc='upper left')\n",
        "plt.show()\n",
        "\n",
        "accuracy_values = history_dict['accuracy']\n",
        "val_accuracy= history_dict['val_accuracy']\n",
        "plt.plot(epochs, accuracy_values)\n",
        "plt.plot(epochs, val_accuracy)\n",
        "plt.title('Accuracy of training and validation set') \n",
        "plt.xlabel('Epochs')\n",
        "plt.ylabel('Accuracy')\n",
        "plt.legend(['train', 'val'], loc='upper left')\n",
        "plt.show()"
      ],
      "metadata": {
        "colab": {
          "base_uri": "https://localhost:8080/",
          "height": 572
        },
        "id": "K36yuN6rBMZZ",
        "outputId": "9dbddb3f-595f-4f03-9404-4718bb6d3d90"
      },
      "execution_count": 13,
      "outputs": [
        {
          "output_type": "display_data",
          "data": {
            "image/png": "[encoded data removed]",
            "text/plain": [
              "<Figure size 432x288 with 1 Axes>"
            ]
          },
          "metadata": {
            "needs_background": "light"
          }
        },
        {
          "output_type": "display_data",
          "data": {
            "image/png": "[encoded data removed]",
            "text/plain": [
              "<Figure size 432x288 with 1 Axes>"
            ]
          },
          "metadata": {
            "needs_background": "light"
          }
        }
      ]
    },
    {
      "cell_type": "markdown",
      "metadata": {
        "id": "AJCjgkDtErXn"
      },
      "source": [
        "Tuning hyper parameters"
      ]
    },
    {
      "cell_type": "code",
      "execution_count": null,
      "metadata": {
        "colab": {
          "background_save": true,
          "base_uri": "https://localhost:8080/"
        },
        "id": "jBF7faTfiF3b",
        "outputId": "b5e3e55f-6fab-4efd-fa8e-f7bd9cb89a93"
      },
      "outputs": [
        {
          "name": "stderr",
          "output_type": "stream",
          "text": [
            "/usr/local/lib/python3.7/dist-packages/ipykernel_launcher.py:34: DeprecationWarning: KerasClassifier is deprecated, use Sci-Keras (https://github.com/adriangb/scikeras) instead.\n",
            "/usr/local/lib/python3.7/dist-packages/joblib/externals/loky/process_executor.py:705: UserWarning: A worker stopped while some jobs were given to the executor. This can be caused by a too short worker timeout or by a memory leak.\n",
            "  \"timeout or by a memory leak.\", UserWarning\n"
          ]
        },
        {
          "name": "stdout",
          "output_type": "stream",
          "text": [
            "Best: 0.982422 using {'batch_size': 40, 'epochs': 15}\n",
            "0.655934 (0.214509) with: {'batch_size': 10, 'epochs': 5}\n",
            "0.501938 (0.009049) with: {'batch_size': 10, 'epochs': 10}\n",
            "0.812831 (0.231591) with: {'batch_size': 10, 'epochs': 15}\n",
            "0.663731 (0.233670) with: {'batch_size': 10, 'epochs': 20}\n",
            "0.783500 (0.210814) with: {'batch_size': 20, 'epochs': 5}\n",
            "0.661782 (0.222773) with: {'batch_size': 20, 'epochs': 10}\n",
            "0.503887 (0.008398) with: {'batch_size': 20, 'epochs': 15}\n",
            "0.666632 (0.223299) with: {'batch_size': 20, 'epochs': 20}\n",
            "0.507809 (0.004965) with: {'batch_size': 40, 'epochs': 5}\n",
            "0.808898 (0.216369) with: {'batch_size': 40, 'epochs': 10}\n",
            "0.982422 (0.004775) with: {'batch_size': 40, 'epochs': 15}\n",
            "0.659833 (0.228158) with: {'batch_size': 40, 'epochs': 20}\n",
            "0.957023 (0.005580) with: {'batch_size': 60, 'epochs': 5}\n",
            "0.820628 (0.228786) with: {'batch_size': 60, 'epochs': 10}\n",
            "0.771850 (0.198468) with: {'batch_size': 60, 'epochs': 15}\n",
            "0.645121 (0.213622) with: {'batch_size': 60, 'epochs': 20}\n",
            "0.601926 (0.131827) with: {'batch_size': 641, 'epochs': 5}\n",
            "0.492191 (0.004965) with: {'batch_size': 641, 'epochs': 10}\n",
            "0.652035 (0.221241) with: {'batch_size': 641, 'epochs': 15}\n",
            "0.492191 (0.004965) with: {'batch_size': 641, 'epochs': 20}\n"
          ]
        }
      ],
      "source": [
        "# Use scikit-learn to grid search the batch size and epochs\n",
        "import numpy\n",
        "from sklearn.model_selection import GridSearchCV\n",
        "from keras.models import Sequential\n",
        "from keras.layers import Dense\n",
        "from keras.wrappers.scikit_learn import KerasClassifier\n",
        "from keras import regularizers\n",
        "\n",
        "# Function to create model, required for KerasClassifier\n",
        "def create_model():\n",
        "    model = models.Sequential()\n",
        "    #filter size: 32, kenel of 3x3, input shape without the batch_size (one trial), padding= with zero padding\n",
        "    model.add(layers.Conv2D(32, (3, 3), kernel_regularizer=regularizers.l2(0.001), activation='relu', input_shape=(7704,4,1),padding='same')) \n",
        "    model.add(layers.MaxPooling2D((2, 2)))\n",
        "    model.add(layers.Conv2D(32, (3, 3), kernel_regularizer=regularizers.l2(0.001),activation='relu',padding='same')) \n",
        "    model.add(layers.MaxPooling2D((2, 2)))\n",
        "    model.add(layers.Conv2D(64, (3, 3), kernel_regularizer=regularizers.l2(0.001), activation='relu',padding='same'))\n",
        "\n",
        "    #Adding a classifier on top of the convnet\n",
        "    model.add(layers.Flatten()) \n",
        "    model.add(layers.Dense(64, kernel_regularizer=regularizers.l2(0.001), activation='relu')) \n",
        "    model.add(layers.Dense(2, activation='sigmoid')) #last layer has 2 output options\n",
        "\n",
        "    # testing CNN model\n",
        "    opt = tf.keras.optimizers.RMSprop(learning_rate=0.01)\n",
        "    model.compile(loss='binary_crossentropy', optimizer=opt, metrics=['accuracy']) \n",
        "\n",
        "    return model\n",
        "# fix random seed for reproducibility\n",
        "seed = 7\n",
        "numpy.random.seed(seed)\n",
        "\n",
        "# create model\n",
        "model = KerasClassifier(build_fn=create_model, verbose=0)\n",
        "# define the grid search parameters\n",
        "batch_size = [20, 40, 50, 100] \n",
        "epochs = [5,10,15,20]\n",
        "param_grid = dict(batch_size=batch_size, epochs=epochs)\n",
        "grid = GridSearchCV(estimator=model, param_grid=param_grid, n_jobs=-1, cv=3)\n",
        "grid_result = grid.fit(X_train, label_train) #validation_split=0.1\n",
        "# summarize results\n",
        "print(\"Best: %f using %s\" % (grid_result.best_score_, grid_result.best_params_))\n",
        "means = grid_result.cv_results_['mean_test_score']\n",
        "stds = grid_result.cv_results_['std_test_score']\n",
        "params = grid_result.cv_results_['params']\n",
        "for mean, stdev, param in zip(means, stds, params):\n",
        "    print(\"%f (%f) with: %r\" % (mean, stdev, param))"
      ]
    },
    {
      "cell_type": "code",
      "execution_count": null,
      "metadata": {
        "id": "GeoN7tXwjc2m"
      },
      "outputs": [],
      "source": [
        "\n",
        "\n",
        "## define the grid search parameters\n",
        "  # number of units per layer: filter?\n",
        "numb_filter= [16,32,64]\n",
        "  # the learning rate of the optimizer\n",
        "#'lr' : [0.001,0.01,0.1] \n",
        "  # window length\n",
        "window = [1926, 3852, 5778, 7704]\n",
        "  #number of epochs\n",
        "\n",
        "  #filter size"
      ]
    },
    {
      "cell_type": "markdown",
      "metadata": {
        "id": "4xfaB9Q0EuWZ"
      },
      "source": [
        "Different combination of channels"
      ]
    },
    {
      "cell_type": "code",
      "execution_count": null,
      "metadata": {
        "id": "eOVhl20GEw4E"
      },
      "outputs": [],
      "source": [
        "#--------#COMBINATION OF 4#--------#\n",
        "#Option 1: ALL 4\n",
        "X_train=X_train\n",
        "\n",
        "#--------#COMBINATION OF 1#--------#\n",
        "#Option 2: Only TA\n",
        "X_train=X_train[0]\n",
        "#Option 3: Only Gastroc\n",
        "X_train=X_train[1]\n",
        "#Option 4: Only RF\n",
        "X_train=X_train[2]\n",
        "#Option 5: Only BF\n",
        "X_train=X_train[3]\n",
        "\n",
        "#--------#COMBINATION OF 2#--------#\n",
        "#Option 6: TA,Gastroc\n",
        "X_train=X_train[0:1]\n",
        "#Option 7: TA,RF\n",
        "X_train=X_train[0:2:2]\n",
        "#Option 8: TA,BF\n",
        "X_train=X_train[0:3:3]\n",
        "#Option 9: Gastroc,RF\n",
        "X_train=X_train[1:2]\n",
        "#Option 10: Gastroc,BF\n",
        "X_train=X_train[1:3:2]\n",
        "#Option 11: RF,BF\n",
        "X_train=X_train[2:3]\n",
        "\n",
        "#--------#COMBINATION OF 3#--------#\n",
        "#Option 12: TA,Gastroc, RF\n",
        "X_train=X_train[0:2]\n",
        "#Option 13: TA,Gastroc, BF\n",
        "X_train=X_train[0:1]+X_train[3]####not sure how to do this####-----------------------\n",
        "#Option 14: TA,RF, BF\n",
        "X_train=X_train[0]+X_train[2:3]####not sure how to do this####-----------------------\n",
        "#Option 15: Gastroc, RF,BF\n",
        "X_train=X_train[1:3]"
      ]
    },
    {
      "cell_type": "code",
      "source": [
        "X_train"
      ],
      "metadata": {
        "id": "J55u-Zidzb4h"
      },
      "execution_count": null,
      "outputs": []
    },
    {
      "cell_type": "code",
      "source": [
        "#========Initial cutting========\n",
        "#X-data with shape ((1926frames x 4sec)x(80trials x 2surfaces x n-participants) x 4channels)\n",
        "X=TT[:, :, 1:5].numpy() #size: (7704, 320, 4)\n",
        "#Y-categorical encoded label = 1 for asphalt and 0 for grass \n",
        "y=TT[:,:,4].numpy() \n",
        "#number trials\n",
        "num_trials= TT.shape[1]\n",
        "\n",
        "#========Sreshaping into the specific intut format========S \n",
        "#keras CNN is looking for X= (batch_size, height, width,depth)\n",
        "X_reshape = X.reshape((num_trials,7704, 4, 1))\n",
        "y=y.reshape((num_trials,7704,1))\n",
        "print(\"Data shape:\", X_reshape.shape) \n",
        "print(\"Label shape:\", y.shape)\n",
        "\n",
        "#========Splitting the data into training and testing sets========S\n",
        "#data set for training and testing the model\n",
        "train_size= int(0.8*num_trials) \n",
        "X_train= X_reshape[0:train_size,:,:,:]\n",
        "X_test=X_reshape[train_size:num_trials,:,:,:]\n",
        "#labels for train and test\n",
        "y_train=y[0:train_size,:,:] \n",
        "y_test=y[train_size:num_trials,:,:]\n",
        "\n",
        "# ========convert class vectors to binary class matrices========\n",
        "label_train = to_categorical(y_train, 2)\n",
        "label_test = to_categorical(y_test, 2)\n",
        "\n",
        "#========only keeping one label for each trials========\n",
        "#(instead of a complete vector of the same number)\n",
        "label_train= label_train[:,0,:]\n",
        "label_test=label_test[:,0,:]\n",
        "\n",
        "print(\"Data shape train:\",X_train.shape,\"Data shape test:\",X_test.shape,\"Label shape train:\",label_train.shape,\"Label shape test:\",label_test.shape)"
      ],
      "metadata": {
        "id": "MVF9yu1bxPfU"
      },
      "execution_count": null,
      "outputs": []
    }
  ],
  "metadata": {
    "colab": {
      "collapsed_sections": [],
      "name": "Test_Baseline.ipynb",
      "provenance": [],
      "authorship_tag": "ABX9TyOwWVfOcMfVP/8CzW0QiVJd",
      "include_colab_link": true
    },
    "kernelspec": {
      "display_name": "Python 3",
      "name": "python3"
    },
    "language_info": {
      "name": "python"
    }
  },
  "nbformat": 4,
  "nbformat_minor": 0
}