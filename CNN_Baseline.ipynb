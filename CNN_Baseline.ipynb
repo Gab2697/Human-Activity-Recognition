{
  "nbformat": 4,
  "nbformat_minor": 0,
  "metadata": {
    "colab": {
      "name": "CNN_Baseline.ipynb",
      "provenance": [],
      "authorship_tag": "ABX9TyPK82o7pmD0GTgUhB4yO7e4",
      "include_colab_link": true
    },
    "kernelspec": {
      "name": "python3",
      "display_name": "Python 3"
    },
    "language_info": {
      "name": "python"
    }
  },
  "cells": [
    {
      "cell_type": "markdown",
      "metadata": {
        "id": "view-in-github",
        "colab_type": "text"
      },
      "source": [
        "<a href=\"https://colab.research.google.com/github/Gab2697/Human-Activity-Recognition/blob/master/CNN_Baseline.ipynb\" target=\"_parent\"><img src=\"https://colab.research.google.com/assets/colab-badge.svg\" alt=\"Open In Colab\"/></a>"
      ]
    },
    {
      "cell_type": "code",
      "execution_count": 1,
      "metadata": {
        "id": "MA3nsrRFAGw5"
      },
      "outputs": [],
      "source": [
        "#import\n",
        "import pandas as pd\n",
        "import tensorflow as tf\n",
        "import numpy as np\n",
        "import os\n",
        "import pickle\n",
        "import matplotlib.pyplot as plt\n",
        "from scipy import signal\n",
        "import torch"
      ]
    },
    {
      "cell_type": "code",
      "source": [
        "from google.colab import drive\n",
        "drive.mount('/content/drive')"
      ],
      "metadata": {
        "id": "bPQtxCWvANcW",
        "colab": {
          "base_uri": "https://localhost:8080/"
        },
        "outputId": "b3bd4d2c-ef9b-4767-fa12-8c7d8a8a7208"
      },
      "execution_count": 2,
      "outputs": [
        {
          "output_type": "stream",
          "name": "stdout",
          "text": [
            "Mounted at /content/drive\n"
          ]
        }
      ]
    },
    {
      "cell_type": "markdown",
      "source": [
        "Open tensor (see pre-processing_CNN code)"
      ],
      "metadata": {
        "id": "LnILp3-1BCBV"
      }
    },
    {
      "cell_type": "code",
      "source": [
        "def open_pickle(path_pickle):\n",
        "  f = open(path_pickle, 'rb')\n",
        "  T = pickle.load(f)\n",
        "  f.close()\n",
        "\n",
        "  return T"
      ],
      "metadata": {
        "id": "SpjKEJ8xAO83"
      },
      "execution_count": 3,
      "outputs": []
    },
    {
      "cell_type": "code",
      "source": [
        "TT= open_pickle('/content/drive/MyDrive/Gab/Variables_saved/TT.pickle')"
      ],
      "metadata": {
        "id": "YdjD__2mAUAj"
      },
      "execution_count": 4,
      "outputs": []
    },
    {
      "cell_type": "markdown",
      "source": [
        "Final input data reshaping"
      ],
      "metadata": {
        "id": "ytEiMEXDA2rQ"
      }
    },
    {
      "cell_type": "code",
      "source": [
        "from tensorflow.keras.utils import to_categorical\n",
        "\n",
        "#========Initial cutting========\n",
        "#X-data with shape ((1926frames x 4sec)x(80trials x 2surfaces x n-participants) x 4channels)\n",
        "X=TT[:, :, 1:5].numpy() #size: (7704, 320, 4)\n",
        "#Y-categorical encoded label = 1 for asphalt and 0 for grass \n",
        "y=TT[:,:,4].numpy() \n",
        "#number trials\n",
        "num_trials= TT.shape[1]\n",
        "\n",
        "#========Sreshaping into the specific intut format========S \n",
        "#keras CNN is looking for X= (batch_size, height, width,depth)\n",
        "X_reshape = X.reshape((num_trials,7704, 4, 1))\n",
        "y=y.reshape((num_trials,7704,1))\n",
        "print(\"Data shape:\", X_reshape.shape) \n",
        "print(\"Label shape:\", y.shape)\n",
        "\n",
        "#========Splitting the data into training and testing sets========S\n",
        "#data set for training and testing the model\n",
        "train_size= int(0.8*num_trials) \n",
        "X_train= X_reshape[0:train_size,:,:,:]\n",
        "X_test=X_reshape[train_size:num_trials,:,:,:]\n",
        "#labels for train and test\n",
        "y_train=y[0:train_size,:,:] \n",
        "y_test=y[train_size:num_trials,:,:]\n",
        "\n",
        "# ========convert class vectors to binary class matrices========\n",
        "label_train = to_categorical(y_train, 2)\n",
        "label_test = to_categorical(y_test, 2)\n",
        "\n",
        "#========only keeping one label for each trials========\n",
        "#(instead of a complete vector of the same number)\n",
        "label_train= label_train[:,0,:]\n",
        "label_test=label_test[:,0,:]\n",
        "\n",
        "print(\"Data shape train:\",X_train.shape,\"Data shape test:\",X_test.shape,\"Label shape train:\",label_train.shape,\"Label shape test:\",label_test.shape)"
      ],
      "metadata": {
        "id": "87FV6dfYAab9",
        "colab": {
          "base_uri": "https://localhost:8080/"
        },
        "outputId": "366f5471-1f1a-463e-eacb-0c9c33fc0b3c"
      },
      "execution_count": 5,
      "outputs": [
        {
          "output_type": "stream",
          "name": "stdout",
          "text": [
            "Data shape: (1710, 7704, 4, 1)\n",
            "Label shape: (1710, 7704, 1)\n",
            "Data shape train: (1368, 7704, 4, 1) Data shape test: (342, 7704, 4, 1) Label shape train: (1368, 2) Label shape test: (342, 2)\n"
          ]
        }
      ]
    },
    {
      "cell_type": "markdown",
      "source": [
        "#CNN"
      ],
      "metadata": {
        "id": "Pz0XxEi_Ahih"
      }
    },
    {
      "cell_type": "code",
      "source": [
        "from keras import layers \n",
        "from keras import models\n",
        "\n",
        "#Instantiating a small convnet\n",
        "model = models.Sequential()\n",
        "#filter size: 32, kenel of 3x3, input shape without the batch_size (one trial), padding= with zero padding\n",
        "model.add(layers.Conv2D(32, (3, 3), activation='relu', input_shape=(7704,4,1),padding='same')) \n",
        "model.add(layers.MaxPooling2D((2, 2)))\n",
        "model.add(layers.Conv2D(32, (3, 3), activation='relu',padding='same')) \n",
        "model.add(layers.MaxPooling2D((2, 2)))\n",
        "model.add(layers.Conv2D(64, (3, 3), activation='relu',padding='same'))\n",
        "model.summary()"
      ],
      "metadata": {
        "id": "BZJpzl1LAkLK",
        "colab": {
          "base_uri": "https://localhost:8080/"
        },
        "outputId": "4bd5ae64-91b1-4a33-a4c7-8d032693dd04"
      },
      "execution_count": 6,
      "outputs": [
        {
          "output_type": "stream",
          "name": "stdout",
          "text": [
            "Model: \"sequential\"\n",
            "_________________________________________________________________\n",
            " Layer (type)                Output Shape              Param #   \n",
            "=================================================================\n",
            " conv2d (Conv2D)             (None, 7704, 4, 32)       320       \n",
            "                                                                 \n",
            " max_pooling2d (MaxPooling2D  (None, 3852, 2, 32)      0         \n",
            " )                                                               \n",
            "                                                                 \n",
            " conv2d_1 (Conv2D)           (None, 3852, 2, 32)       9248      \n",
            "                                                                 \n",
            " max_pooling2d_1 (MaxPooling  (None, 1926, 1, 32)      0         \n",
            " 2D)                                                             \n",
            "                                                                 \n",
            " conv2d_2 (Conv2D)           (None, 1926, 1, 64)       18496     \n",
            "                                                                 \n",
            "=================================================================\n",
            "Total params: 28,064\n",
            "Trainable params: 28,064\n",
            "Non-trainable params: 0\n",
            "_________________________________________________________________\n"
          ]
        }
      ]
    },
    {
      "cell_type": "code",
      "source": [
        "#Adding a classifier on top of the convnet\n",
        "model.add(layers.Flatten()) \n",
        "model.add(layers.Dense(64, activation='relu')) \n",
        "model.add(layers.Dense(2, activation='sigmoid')) #last layer has 2 output options\n",
        "model.summary()"
      ],
      "metadata": {
        "id": "3gYNLe6iAk1_",
        "colab": {
          "base_uri": "https://localhost:8080/"
        },
        "outputId": "ea598b19-24ef-436a-cbb2-25b391aa583e"
      },
      "execution_count": 7,
      "outputs": [
        {
          "output_type": "stream",
          "name": "stdout",
          "text": [
            "Model: \"sequential\"\n",
            "_________________________________________________________________\n",
            " Layer (type)                Output Shape              Param #   \n",
            "=================================================================\n",
            " conv2d (Conv2D)             (None, 7704, 4, 32)       320       \n",
            "                                                                 \n",
            " max_pooling2d (MaxPooling2D  (None, 3852, 2, 32)      0         \n",
            " )                                                               \n",
            "                                                                 \n",
            " conv2d_1 (Conv2D)           (None, 3852, 2, 32)       9248      \n",
            "                                                                 \n",
            " max_pooling2d_1 (MaxPooling  (None, 1926, 1, 32)      0         \n",
            " 2D)                                                             \n",
            "                                                                 \n",
            " conv2d_2 (Conv2D)           (None, 1926, 1, 64)       18496     \n",
            "                                                                 \n",
            " flatten (Flatten)           (None, 123264)            0         \n",
            "                                                                 \n",
            " dense (Dense)               (None, 64)                7888960   \n",
            "                                                                 \n",
            " dense_1 (Dense)             (None, 2)                 130       \n",
            "                                                                 \n",
            "=================================================================\n",
            "Total params: 7,917,154\n",
            "Trainable params: 7,917,154\n",
            "Non-trainable params: 0\n",
            "_________________________________________________________________\n"
          ]
        }
      ]
    },
    {
      "cell_type": "code",
      "source": [
        "# testing CNN model\n",
        "model.compile(optimizer='rmsprop', loss='binary_crossentropy', metrics=['accuracy']) \n",
        "history= model.fit(X_train, label_train, epochs=5, batch_size=num_trials) "
      ],
      "metadata": {
        "id": "J3IUrtBBAoF5",
        "colab": {
          "base_uri": "https://localhost:8080/"
        },
        "outputId": "65e8b0d9-fe32-4ae0-a961-d0e097b44558"
      },
      "execution_count": null,
      "outputs": [
        {
          "output_type": "stream",
          "name": "stdout",
          "text": [
            "Epoch 1/5\n"
          ]
        }
      ]
    },
    {
      "cell_type": "code",
      "source": [
        "#test accuracy\n",
        "test_loss, test_acc = model.evaluate(X_test, label_test)\n",
        "test_acc"
      ],
      "metadata": {
        "id": "GiQ8InhfApoL"
      },
      "execution_count": null,
      "outputs": []
    },
    {
      "cell_type": "code",
      "source": [
        "#Plotting the training and validation loss\n",
        "import matplotlib.pyplot as plt\n",
        "history_dict = history.history\n",
        "loss_values = history_dict['loss'] \n",
        "epochs = range(1, len(loss_values) + 1)\n",
        "plt.plot(epochs, loss_values, 'bo', label='Training loss') #“bo” is for “blue dot.”\n",
        "plt.title('Training loss') \n",
        "plt.xlabel('Epochs')\n",
        "plt.ylabel('Loss')\n",
        "plt.legend()\n",
        "plt.show()\n",
        "\n",
        "accuracy_values = history_dict['accuracy']\n",
        "plt.plot(epochs, accuracy_values, 'b', label='Validation loss')#“b” is for “solid blue line.”\n",
        "plt.title('Accuracy of training set') \n",
        "plt.xlabel('Epochs')\n",
        "plt.ylabel('Accuracy')\n",
        "plt.show()"
      ],
      "metadata": {
        "id": "FiXV89hXArFB"
      },
      "execution_count": null,
      "outputs": []
    }
  ]
}